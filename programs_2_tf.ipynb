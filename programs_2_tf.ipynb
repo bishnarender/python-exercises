{
 "cells": [
  {
   "cell_type": "code",
   "execution_count": 2,
   "id": "da227cf2",
   "metadata": {},
   "outputs": [],
   "source": [
    "import random\n",
    "import numpy as np\n",
    "import tensorflow as tf"
   ]
  },
  {
   "cell_type": "code",
   "execution_count": 2,
   "id": "2e9faa32",
   "metadata": {},
   "outputs": [
    {
     "name": "stdout",
     "output_type": "stream",
     "text": [
      "<class 'tuple'>\n",
      "2528502973977326415\n"
     ]
    },
    {
     "ename": "TypeError",
     "evalue": "unhashable type: 'list'",
     "output_type": "error",
     "traceback": [
      "\u001b[1;31m---------------------------------------------------------------------------\u001b[0m",
      "\u001b[1;31mTypeError\u001b[0m                                 Traceback (most recent call last)",
      "\u001b[1;32m~\\AppData\\Local\\Temp\\ipykernel_5612\\411819356.py\u001b[0m in \u001b[0;36m<module>\u001b[1;34m\u001b[0m\n\u001b[0;32m      4\u001b[0m \u001b[0mprint\u001b[0m\u001b[1;33m(\u001b[0m\u001b[0mtype\u001b[0m\u001b[1;33m(\u001b[0m\u001b[0mx\u001b[0m\u001b[1;33m)\u001b[0m\u001b[1;33m)\u001b[0m\u001b[1;33m\u001b[0m\u001b[1;33m\u001b[0m\u001b[0m\n\u001b[0;32m      5\u001b[0m \u001b[0mprint\u001b[0m\u001b[1;33m(\u001b[0m\u001b[0mhash\u001b[0m\u001b[1;33m(\u001b[0m\u001b[0my\u001b[0m\u001b[1;33m)\u001b[0m\u001b[1;33m)\u001b[0m\u001b[1;33m\u001b[0m\u001b[1;33m\u001b[0m\u001b[0m\n\u001b[1;32m----> 6\u001b[1;33m \u001b[0mprint\u001b[0m\u001b[1;33m(\u001b[0m\u001b[0mhash\u001b[0m\u001b[1;33m(\u001b[0m\u001b[0mx\u001b[0m\u001b[1;33m)\u001b[0m\u001b[1;33m)\u001b[0m\u001b[1;33m\u001b[0m\u001b[1;33m\u001b[0m\u001b[0m\n\u001b[0m",
      "\u001b[1;31mTypeError\u001b[0m: unhashable type: 'list'"
     ]
    }
   ],
   "source": [
    "# A tuple is only hashable if all of its items are hashable as well.\n",
    "x = (1,[2,3])\n",
    "y = (1,2,3)\n",
    "print(type(x))\n",
    "print(hash(y))\n",
    "print(hash(x))"
   ]
  },
  {
   "cell_type": "code",
   "execution_count": null,
   "id": "69d8b816",
   "metadata": {},
   "outputs": [],
   "source": [
    "Write the code to get the count of row for each category in the dataframes."
   ]
  },
  {
   "cell_type": "markdown",
   "id": "e4e425c4",
   "metadata": {},
   "source": [
    "Write the code for proportional sampling."
   ]
  },
  {
   "cell_type": "code",
   "execution_count": 4,
   "id": "c913275d",
   "metadata": {},
   "outputs": [
    {
     "name": "stdout",
     "output_type": "stream",
     "text": [
      "[[ 1  2  3 10]\n",
      " [ 4  5  6 11]\n",
      " [ 7  8  9 12]] (3, 4)\n",
      "[[1 2 3]\n",
      " [4 5 6]\n",
      " [7 8 9]]\n",
      "[[ 1  2  3 10]]\n"
     ]
    }
   ],
   "source": [
    "a = [[1, 2, 3, 10], [4, 5, 6, 11], [7, 8, 9, 12]]\n",
    "a = np.array(a)\n",
    "print(a, a.shape)\n",
    "print(a[:,:-1])\n",
    "print(a[:-2,:])"
   ]
  },
  {
   "cell_type": "code",
   "execution_count": 8,
   "id": "2f1ed50a",
   "metadata": {},
   "outputs": [
    {
     "ename": "TypeError",
     "evalue": "unhashable type: 'dict'",
     "output_type": "error",
     "traceback": [
      "\u001b[1;31m---------------------------------------------------------------------------\u001b[0m",
      "\u001b[1;31mTypeError\u001b[0m                                 Traceback (most recent call last)",
      "\u001b[1;32m~\\AppData\\Local\\Temp\\ipykernel_6268\\262450242.py\u001b[0m in \u001b[0;36m<module>\u001b[1;34m\u001b[0m\n\u001b[0;32m      2\u001b[0m \u001b[0ma\u001b[0m\u001b[1;33m[\u001b[0m\u001b[1;33m(\u001b[0m\u001b[1;34m'a'\u001b[0m\u001b[1;33m,\u001b[0m\u001b[1;34m'b'\u001b[0m\u001b[1;33m)\u001b[0m\u001b[1;33m]\u001b[0m \u001b[1;33m=\u001b[0m \u001b[1;36m0\u001b[0m\u001b[1;33m\u001b[0m\u001b[1;33m\u001b[0m\u001b[0m\n\u001b[0;32m      3\u001b[0m \u001b[0mb\u001b[0m \u001b[1;33m=\u001b[0m \u001b[1;36m0\u001b[0m\u001b[1;33m\u001b[0m\u001b[1;33m\u001b[0m\u001b[0m\n\u001b[1;32m----> 4\u001b[1;33m \u001b[0ma\u001b[0m\u001b[1;33m[\u001b[0m\u001b[1;33m(\u001b[0m\u001b[0ma\u001b[0m\u001b[1;33m,\u001b[0m\u001b[0mb\u001b[0m\u001b[1;33m)\u001b[0m\u001b[1;33m]\u001b[0m \u001b[1;33m=\u001b[0m \u001b[1;36m1\u001b[0m\u001b[1;33m\u001b[0m\u001b[1;33m\u001b[0m\u001b[0m\n\u001b[0m\u001b[0;32m      5\u001b[0m \u001b[0mprint\u001b[0m\u001b[1;33m(\u001b[0m\u001b[0ma\u001b[0m\u001b[1;33m)\u001b[0m\u001b[1;33m\u001b[0m\u001b[1;33m\u001b[0m\u001b[0m\n",
      "\u001b[1;31mTypeError\u001b[0m: unhashable type: 'dict'"
     ]
    }
   ],
   "source": [
    "a=dict()\n",
    "a[('a','b')] = 0\n",
    "b = 0\n",
    "a[(a,b)] = 1\n",
    "print(a)\n",
    "\n",
    "# TypeError: unhashable type: 'dict' =>\n",
    "# You're trying to use a dict as a key to another dict or in a set. \n",
    "# That does not work because the keys have to be hashable. \n",
    "# As a general rule, only immutable objects (strings, integers, floats, frozensets, tuples of immutables) are hashable (though exceptions are possible). "
   ]
  },
  {
   "cell_type": "code",
   "execution_count": 10,
   "id": "a9fbf442",
   "metadata": {},
   "outputs": [
    {
     "ename": "TypeError",
     "evalue": "unhashable type: 'dict'",
     "output_type": "error",
     "traceback": [
      "\u001b[1;31m---------------------------------------------------------------------------\u001b[0m",
      "\u001b[1;31mTypeError\u001b[0m                                 Traceback (most recent call last)",
      "\u001b[1;32m~\\AppData\\Local\\Temp\\ipykernel_6268\\3271372320.py\u001b[0m in \u001b[0;36m<module>\u001b[1;34m\u001b[0m\n\u001b[0;32m      1\u001b[0m \u001b[0ma\u001b[0m\u001b[1;33m=\u001b[0m\u001b[0mb\u001b[0m\u001b[1;33m=\u001b[0m\u001b[0mdict\u001b[0m\u001b[1;33m(\u001b[0m\u001b[1;33m)\u001b[0m\u001b[1;33m\u001b[0m\u001b[1;33m\u001b[0m\u001b[0m\n\u001b[0;32m      2\u001b[0m \u001b[0ma\u001b[0m\u001b[1;33m[\u001b[0m\u001b[1;33m(\u001b[0m\u001b[1;34m'a'\u001b[0m\u001b[1;33m,\u001b[0m\u001b[1;34m'b'\u001b[0m\u001b[1;33m)\u001b[0m\u001b[1;33m]\u001b[0m \u001b[1;33m=\u001b[0m \u001b[1;36m0\u001b[0m\u001b[1;33m\u001b[0m\u001b[1;33m\u001b[0m\u001b[0m\n\u001b[1;32m----> 3\u001b[1;33m \u001b[0ma\u001b[0m\u001b[1;33m[\u001b[0m\u001b[0ma\u001b[0m\u001b[1;33m]\u001b[0m \u001b[1;33m=\u001b[0m \u001b[1;36m1\u001b[0m\u001b[1;33m\u001b[0m\u001b[1;33m\u001b[0m\u001b[0m\n\u001b[0m\u001b[0;32m      4\u001b[0m \u001b[0mprint\u001b[0m\u001b[1;33m(\u001b[0m\u001b[0ma\u001b[0m\u001b[1;33m)\u001b[0m\u001b[1;33m\u001b[0m\u001b[1;33m\u001b[0m\u001b[0m\n",
      "\u001b[1;31mTypeError\u001b[0m: unhashable type: 'dict'"
     ]
    }
   ],
   "source": [
    "a=b=dict()\n",
    "a[('a','b')] = 0\n",
    "a[a] = 1\n",
    "print(a)"
   ]
  },
  {
   "cell_type": "code",
   "execution_count": 18,
   "id": "94506bc6",
   "metadata": {},
   "outputs": [
    {
     "name": "stdout",
     "output_type": "stream",
     "text": [
      "[[1 2 3]\n",
      " [4 5 6]\n",
      " [7 8 9]] (3, 3)\n"
     ]
    },
    {
     "data": {
      "text/plain": [
       "array([2., 5., 8.])"
      ]
     },
     "execution_count": 18,
     "metadata": {},
     "output_type": "execute_result"
    }
   ],
   "source": [
    "a = [[1, 2, 3],[4, 5, 6],[7, 8, 9]]\n",
    "print(np.array(a), np.array(a).shape)\n",
    "\n",
    "# compute the arithmetic mean along the specified axis. along the specified axis not in the specified axis.\n",
    "np.mean(a,axis=1) "
   ]
  },
  {
   "cell_type": "code",
   "execution_count": 24,
   "id": "89a692cf",
   "metadata": {},
   "outputs": [
    {
     "name": "stdout",
     "output_type": "stream",
     "text": [
      "[[[        nan         nan         nan         nan         nan]\n",
      "  [-0.38741481  0.88251336 -2.97126026 -0.68630933  0.80255069]\n",
      "  [-0.31116595 -0.28278029  1.27927538 -0.24212618  1.00564663]\n",
      "  [-0.87610649  1.26589328  0.1419096   0.52338669  2.40479413]]\n",
      "\n",
      " [[-0.18900162  0.12356675 -1.77809813 -0.15425863  0.88222628]\n",
      "  [-0.81170921  0.09287636 -1.04551404 -1.28765236 -1.21925178]\n",
      "  [-0.14906551  0.37176164  0.39364237 -0.38070733  0.35246171]\n",
      "  [-1.86615688 -0.40064444 -1.10919396  0.23376485  0.27158802]]]\n",
      "(2, 4, 5)\n",
      "[[[ True  True  True  True  True]\n",
      "  [False False False False False]\n",
      "  [False False False False False]\n",
      "  [False False False False False]]\n",
      "\n",
      " [[False False False False False]\n",
      "  [False False False False False]\n",
      "  [False False False False False]\n",
      "  [False False False False False]]]\n"
     ]
    }
   ],
   "source": [
    "# part 1\n",
    "x = np.random.randn(2,4,5)\n",
    "x[0][0][0]=x[0][0][1]=x[0][0][2]=x[0][0][3]=x[0][0][4]=np.nan\n",
    "print(x)\n",
    "print(x.shape)\n",
    "print(tf.math.is_nan(x).numpy())"
   ]
  },
  {
   "cell_type": "code",
   "execution_count": 22,
   "id": "cc9e0e38",
   "metadata": {},
   "outputs": [
    {
     "data": {
      "text/plain": [
       "array([[ True, False, False, False],\n",
       "       [False, False, False, False]])"
      ]
     },
     "execution_count": 22,
     "metadata": {},
     "output_type": "execute_result"
    }
   ],
   "source": [
    "# part 2\n",
    "#z = tf.reduce_all(tf.math.is_nan(x), axis=[-2,-1])\n",
    "z = tf.reduce_all(tf.math.is_nan(x), axis=[-1])# axis => the dimensions to reduce.\n",
    "z.numpy()"
   ]
  },
  {
   "cell_type": "code",
   "execution_count": 33,
   "id": "01c2217d",
   "metadata": {},
   "outputs": [
    {
     "name": "stdout",
     "output_type": "stream",
     "text": [
      "[[ 3  4  5]\n",
      " [ 6  7  8]\n",
      " [ 9 10 11]] (3, 3) \n",
      "\n",
      " [[1 2 3]\n",
      " [4 5 6]\n",
      " [7 8 9]] (3, 3) \n",
      "\n",
      "\n",
      "[[[ 3  4  5]\n",
      "  [ 6  7  8]\n",
      "  [ 9 10 11]]\n",
      "\n",
      " [[ 1  2  3]\n",
      "  [ 4  5  6]\n",
      "  [ 7  8  9]]] (2, 3, 3) \n",
      "\n",
      "\n",
      "[[[ 3  4  5]\n",
      "  [ 1  2  3]]\n",
      "\n",
      " [[ 6  7  8]\n",
      "  [ 4  5  6]]\n",
      "\n",
      " [[ 9 10 11]\n",
      "  [ 7  8  9]]] (3, 2, 3) \n",
      "\n",
      "\n",
      "[[ 3  4  5]\n",
      " [ 6  7  8]\n",
      " [ 9 10 11]\n",
      " [ 1  2  3]\n",
      " [ 4  5  6]\n",
      " [ 7  8  9]] (6, 3) \n",
      "\n",
      "\n"
     ]
    }
   ],
   "source": [
    "a = [[3, 4, 5],[6, 7, 8],[9, 10, 11]]\n",
    "b = [[1, 2, 3],[4, 5, 6],[7, 8, 9]]\n",
    "print(np.array(a), np.array(a).shape, '\\n\\n' ,np.array(b), np.array(b).shape, '\\n\\n' ,)\n",
    "\n",
    "# join a sequence of arrays along a new axis.\n",
    "c = np.stack( (a,b), axis= 0) \n",
    "print(c, c.shape, '\\n\\n' ,)\n",
    "\n",
    "c_1 = np.stack( (a,b), axis= 1)\n",
    "print(c_1, c_1.shape, '\\n\\n' ,)\n",
    "\n",
    "d = np.vstack( (a,b),) \n",
    "print(d, d.shape, '\\n\\n' ,)"
   ]
  },
  {
   "cell_type": "code",
   "execution_count": null,
   "id": "74b1eb8e",
   "metadata": {},
   "outputs": [],
   "source": []
  },
  {
   "cell_type": "code",
   "execution_count": 9,
   "id": "2ccb3c37",
   "metadata": {},
   "outputs": [
    {
     "name": "stdout",
     "output_type": "stream",
     "text": [
      "[[[ 0  1  2  3]\n",
      "  [ 4  5  6  7]\n",
      "  [ 8  9 10 11]]\n",
      "\n",
      " [[12 13 14 15]\n",
      "  [16 17 18 19]\n",
      "  [20 21 22 23]]]\n",
      "(2, 3, 4)\n"
     ]
    }
   ],
   "source": [
    "# part 1\n",
    "x = tf.reshape(tf.range(24), (2,3,4))\n",
    "print(x.numpy())\n",
    "\n",
    "print(x.shape)"
   ]
  },
  {
   "cell_type": "code",
   "execution_count": 11,
   "id": "001ebcd8",
   "metadata": {},
   "outputs": [
    {
     "name": "stdout",
     "output_type": "stream",
     "text": [
      "tf.Tensor(\n",
      "[[ 0  4  8]\n",
      " [12 16 20]], shape=(2, 3), dtype=int32) tf.Tensor(\n",
      "[[ 1  5  9]\n",
      " [13 17 21]], shape=(2, 3), dtype=int32) tf.Tensor(\n",
      "[[ 2  6 10]\n",
      " [14 18 22]], shape=(2, 3), dtype=int32)\n"
     ]
    }
   ],
   "source": [
    "# part 2\n",
    "p, q, r, s = tf.unstack(x, axis=-1)\n",
    "print(p, q, r)\n",
    "# p.shape.as_list()"
   ]
  },
  {
   "cell_type": "code",
   "execution_count": 14,
   "id": "7a35cd61",
   "metadata": {},
   "outputs": [
    {
     "name": "stdout",
     "output_type": "stream",
     "text": [
      "tf.Tensor(\n",
      "[[1 4]\n",
      " [2 5]\n",
      " [3 6]], shape=(3, 2), dtype=int32)\n",
      "tf.Tensor(\n",
      "[[1 2 3]\n",
      " [4 5 6]], shape=(2, 3), dtype=int32)\n"
     ]
    }
   ],
   "source": [
    "x = tf.constant([1, 4])\n",
    "y = tf.constant([2, 5])\n",
    "z = tf.constant([3, 6])\n",
    "print(tf.stack([x, y, z]))\n",
    "print(tf.stack([x, y, z], axis=-1))"
   ]
  },
  {
   "cell_type": "code",
   "execution_count": 15,
   "id": "01d9fb03",
   "metadata": {},
   "outputs": [
    {
     "data": {
      "text/plain": [
       "<tf.Tensor: shape=(5, 1), dtype=int32, numpy=\n",
       "array([[ 10],\n",
       "       [ 20],\n",
       "       [ 12],\n",
       "       [125],\n",
       "       [ 55]], dtype=int32)>"
      ]
     },
     "execution_count": 15,
     "metadata": {},
     "output_type": "execute_result"
    }
   ],
   "source": [
    "tf.constant([10,20,12,125,55])[...,None]"
   ]
  },
  {
   "cell_type": "code",
   "execution_count": 16,
   "id": "f8111689",
   "metadata": {},
   "outputs": [
    {
     "name": "stdout",
     "output_type": "stream",
     "text": [
      "tf.Tensor([ 0  9  0 10 11  0  0 12], shape=(8,), dtype=int32)\n"
     ]
    }
   ],
   "source": [
    "tensor = [0, 0, 0, 0, 0, 0, 0, 0]    # tf.rank(tensor) == 1\n",
    "indices = [[1], [3], [4], [7]]       # num_updates == 4, index_depth == 1\n",
    "updates = [9, 10, 11, 12]            # num_updates == 4\n",
    "print(tf.tensor_scatter_nd_update(tensor, indices, updates))"
   ]
  },
  {
   "cell_type": "code",
   "execution_count": 51,
   "id": "7bcdd33e",
   "metadata": {},
   "outputs": [
    {
     "name": "stdout",
     "output_type": "stream",
     "text": [
      "tf.Tensor([0.752126  0.9173753], shape=(2,), dtype=float32)\n",
      "tf.Tensor(0.87671584, shape=(), dtype=float32)\n"
     ]
    }
   ],
   "source": [
    "scale  = (0.7,0.9)\n",
    "# tf.random.uniform(shape, minval=0, maxval=None, dtype=tf.dtypes.float32)\n",
    "print(tf.random.uniform((),scale))# 1st minval is 0.7, and 2nd minval is 0.9.\n",
    "print(tf.random.uniform((),*scale))# minval=0.7, maxval=0.9,"
   ]
  },
  {
   "cell_type": "markdown",
   "id": "d0fa5eca",
   "metadata": {},
   "source": [
    "### 3d matrix multiplication with 2d"
   ]
  },
  {
   "cell_type": "code",
   "execution_count": 3,
   "id": "feb5b1e1",
   "metadata": {},
   "outputs": [
    {
     "name": "stdout",
     "output_type": "stream",
     "text": [
      "tf.Tensor(\n",
      "[[[ 0.15535602  0.12185005]\n",
      "  [ 0.0398068   0.55404997]\n",
      "  [-0.22367506 -1.4742328 ]\n",
      "  [-1.0462142  -0.42665246]]\n",
      "\n",
      " [[-0.05041332  1.1294501 ]\n",
      "  [-0.7218814  -0.5789553 ]\n",
      "  [-1.0697414   0.26683167]\n",
      "  [-0.02007808 -0.71133935]]], shape=(2, 4, 2), dtype=float32) tf.Tensor(\n",
      "[[1.   0.93]\n",
      " [0.   1.  ]], shape=(2, 2), dtype=float32)\n",
      "tf.Tensor(\n",
      "[[[ 0.15535602  0.26633114]\n",
      "  [ 0.0398068   0.5910703 ]\n",
      "  [-0.22367506 -1.6822506 ]\n",
      "  [-1.0462142  -1.3996317 ]]\n",
      "\n",
      " [[-0.05041332  1.0825657 ]\n",
      "  [-0.7218814  -1.2503049 ]\n",
      "  [-1.0697414  -0.7280278 ]\n",
      "  [-0.02007808 -0.73001194]]], shape=(2, 4, 2), dtype=float32)\n"
     ]
    }
   ],
   "source": [
    "x = tf.convert_to_tensor(np.random.randn(2,4,2), dtype=tf.float32)\n",
    "shear_mat = tf.identity([\n",
    "    [1.,0.93],\n",
    "    [0,1.]\n",
    "])\n",
    "# shear_mat.shape => (2, 2)\n",
    "print(x, shear_mat) \n",
    "y = x@shear_mat\n",
    "print(y)"
   ]
  },
  {
   "cell_type": "code",
   "execution_count": 10,
   "id": "7d7d4f27",
   "metadata": {},
   "outputs": [
    {
     "data": {
      "text/plain": [
       "array([  1, 200, 300,   1], dtype=int32)"
      ]
     },
     "execution_count": 10,
     "metadata": {},
     "output_type": "execute_result"
    }
   ],
   "source": [
    "tf.where([True, False, False, True],\n",
    "         [1, 2, 3, 1],\n",
    "         [100, 200, 300, 400]).numpy()"
   ]
  },
  {
   "cell_type": "code",
   "execution_count": 16,
   "id": "8a8915d7",
   "metadata": {},
   "outputs": [
    {
     "name": "stdout",
     "output_type": "stream",
     "text": [
      "tf.Tensor(\n",
      "[[[-9.2519158e-01 -1.8907794e-03]\n",
      "  [ 6.2423635e-01 -8.7962878e-01]\n",
      "  [ 8.7764792e-02  2.0184629e+00]\n",
      "  [-1.0359342e+00  4.2211890e-01]]\n",
      "\n",
      " [[ 1.5514775e-01 -1.1610771e-01]\n",
      "  [ 8.4216988e-01  2.7054015e-01]\n",
      "  [ 5.0838810e-01  5.1353163e-01]\n",
      "  [-1.3255783e+00  1.1715494e+00]]], shape=(2, 4, 2), dtype=float32)\n",
      "tf.Tensor(\n",
      "[[False False False False]\n",
      " [False  True False False]], shape=(2, 4), dtype=bool)\n",
      "tf.Tensor(\n",
      "[[ True  True  True  True]\n",
      " [ True  True  True  True]], shape=(2, 4), dtype=bool)\n",
      "tf.Tensor(\n",
      "[[[False]\n",
      "  [False]\n",
      "  [False]\n",
      "  [False]]\n",
      "\n",
      " [[False]\n",
      "  [ True]\n",
      "  [False]\n",
      "  [False]]], shape=(2, 4, 1), dtype=bool)\n",
      "tf.Tensor(\n",
      "[[[-9.2519158e-01 -1.8907794e-03]\n",
      "  [ 6.2423635e-01 -8.7962878e-01]\n",
      "  [ 8.7764792e-02  2.0184629e+00]\n",
      "  [-1.0359342e+00  4.2211890e-01]]\n",
      "\n",
      " [[ 1.5514775e-01 -1.1610771e-01]\n",
      "  [           nan            nan]\n",
      "  [ 5.0838810e-01  5.1353163e-01]\n",
      "  [-1.3255783e+00  1.1715494e+00]]], shape=(2, 4, 2), dtype=float32)\n"
     ]
    }
   ],
   "source": [
    "mask_offset_x = tf.constant([0.84])\n",
    "mask_size = tf.constant([0.33])\n",
    "x = tf.convert_to_tensor(np.random.randn(2,4,2), dtype=tf.float32)\n",
    "print(x)\n",
    "print((mask_offset_x<x[...,0]))\n",
    "print((x[...,0] < mask_offset_x + mask_size))\n",
    "mask_x = (mask_offset_x<x[...,0]) & (x[...,0] < mask_offset_x + mask_size)\n",
    "# mask_x.shape => (2, 4), mask_x.shape => (2, 4, 1)\n",
    "print(mask_x[...,None])\n",
    "x = tf.where(mask_x[...,None], float('nan'), x)\n",
    "print(x)"
   ]
  },
  {
   "cell_type": "code",
   "execution_count": 6,
   "id": "364434b4",
   "metadata": {},
   "outputs": [
    {
     "name": "stdout",
     "output_type": "stream",
     "text": [
      "[[1 2 3]\n",
      " [4 5 6]] (2, 3) \n",
      "\n",
      "\n",
      "[[1 1]\n",
      " [2 2]] (2, 2) \n",
      "\n",
      "\n",
      "[[0 0 0 0 0 0 0]\n",
      " [0 0 1 2 3 0 0]\n",
      " [0 0 4 5 6 0 0]\n",
      " [0 0 0 0 0 0 0]]\n"
     ]
    }
   ],
   "source": [
    "# tf.pad ======>\n",
    "t = tf.constant([[1, 2, 3], [4, 5, 6]])\n",
    "print(t.numpy(), t.shape, '\\n\\n')\n",
    "\n",
    "paddings = tf.constant([[1, 1,], [2, 2]])\n",
    "# [1, 1] => add 1 value before and 1 value after to the dimension 0 (axis=0).\n",
    "# [2, 2] => add 2 value before and 2 value after to the dimension 1 (axis=1).\n",
    "\n",
    "print(paddings.numpy(), paddings.shape, '\\n\\n')\n",
    "# 'constant_values' is 0.\n",
    "# rank of 't' is 2.\n",
    "z = tf.pad(t, paddings, \"CONSTANT\")  # [[0, 0, 0, 0, 0, 0, 0],\n",
    "                                     #  [0, 0, 1, 2, 3, 0, 0],\n",
    "                                     #  [0, 0, 4, 5, 6, 0, 0],\n",
    "                                     #  [0, 0, 0, 0, 0, 0, 0]]\n",
    "print(z.numpy())"
   ]
  },
  {
   "cell_type": "code",
   "execution_count": null,
   "id": "f7ec06e3",
   "metadata": {},
   "outputs": [],
   "source": []
  },
  {
   "cell_type": "code",
   "execution_count": 11,
   "id": "00ad9737",
   "metadata": {},
   "outputs": [
    {
     "name": "stdout",
     "output_type": "stream",
     "text": [
      "tf.Tensor(16, shape=(), dtype=int32)\n"
     ]
    },
    {
     "data": {
      "text/plain": [
       "16"
      ]
     },
     "execution_count": 11,
     "metadata": {},
     "output_type": "execute_result"
    }
   ],
   "source": [
    "## tf.cond => (when x and y are equal)\n",
    "x, y = tf.constant(4, dtype=tf.int32), tf.constant(4, dtype=tf.int32)\n",
    "z = tf.multiply(x, y)\n",
    "print(z)\n",
    "r = tf.cond(x < y, lambda: tf.add(x, z), lambda: tf.square(y))\n",
    "r.numpy()"
   ]
  },
  {
   "cell_type": "code",
   "execution_count": 37,
   "id": "3db6098b",
   "metadata": {},
   "outputs": [
    {
     "name": "stdout",
     "output_type": "stream",
     "text": [
      "[[[[49. 39.]\n",
      "   [ 1.  5.]\n",
      "   [16.  6.]\n",
      "   [11. 24.]]\n",
      "\n",
      "  [[36.  2.]\n",
      "   [44. 47.]\n",
      "   [ 9. 43.]\n",
      "   [32. 34.]]\n",
      "\n",
      "  [[44. 45.]\n",
      "   [32. 39.]\n",
      "   [15. 41.]\n",
      "   [46. 45.]]]\n",
      "\n",
      "\n",
      " [[[42. 15.]\n",
      "   [22. 13.]\n",
      "   [14.  8.]\n",
      "   [ 5. 21.]]\n",
      "\n",
      "  [[31.  3.]\n",
      "   [41.  3.]\n",
      "   [43.  2.]\n",
      "   [43. 47.]]\n",
      "\n",
      "  [[45. 28.]\n",
      "   [18.  4.]\n",
      "   [49. 20.]\n",
      "   [25. 19.]]]]\n",
      "[[[[9.9995458e-01 4.5397868e-05]\n",
      "   [1.7986210e-02 9.8201376e-01]\n",
      "   [9.9995458e-01 4.5397868e-05]\n",
      "   [2.2603242e-06 9.9999774e-01]]\n",
      "\n",
      "  [[1.0000000e+00 1.7139085e-15]\n",
      "   [4.7425874e-02 9.5257413e-01]\n",
      "   [1.7139085e-15 1.0000000e+00]\n",
      "   [1.1920292e-01 8.8079703e-01]]\n",
      "\n",
      "  [[2.6894143e-01 7.3105854e-01]\n",
      "   [9.1105123e-04 9.9908900e-01]\n",
      "   [5.1090889e-12 1.0000000e+00]\n",
      "   [7.3105854e-01 2.6894143e-01]]]\n",
      "\n",
      "\n",
      " [[[1.0000000e+00 1.8795287e-12]\n",
      "   [9.9987662e-01 1.2339458e-04]\n",
      "   [9.9752742e-01 2.4726233e-03]\n",
      "   [1.1253516e-07 9.9999988e-01]]\n",
      "\n",
      "  [[1.0000000e+00 6.9144002e-13]\n",
      "   [1.0000000e+00 3.1391326e-17]\n",
      "   [1.0000000e+00 1.5628822e-18]\n",
      "   [1.7986210e-02 9.8201376e-01]]\n",
      "\n",
      "  [[1.0000000e+00 4.1399378e-08]\n",
      "   [9.9999917e-01 8.3152804e-07]\n",
      "   [1.0000000e+00 2.5436657e-13]\n",
      "   [9.9752742e-01 2.4726233e-03]]]]\n"
     ]
    }
   ],
   "source": [
    "## tf.keras.activations.softmax =>\n",
    "x=np.random.randint(0, 50, size=(2,3,4,2))\n",
    "#x=tf.random.normal(shape=(2,3,4,2))\n",
    "tf_1 = tf.convert_to_tensor(x, dtype=tf.float32)\n",
    "# apply softmax over 2 classes (present in last dimension) for each 4 rows (present in 3rd dimension).\n",
    "# 3rd dimension means axis=2\n",
    "y=tf.keras.activations.softmax(tf_1, axis=-1)\n",
    "print(tf_1.numpy())\n",
    "print(y.numpy())"
   ]
  },
  {
   "cell_type": "code",
   "execution_count": 50,
   "id": "96934065",
   "metadata": {},
   "outputs": [
    {
     "name": "stdout",
     "output_type": "stream",
     "text": [
      "-4.5\n",
      "4.5\n",
      "\n",
      "\n",
      "-5\n",
      "4\n"
     ]
    }
   ],
   "source": [
    "# // => Floor division (take to the nearest lower integer) =>\n",
    "print((9/-2))\n",
    "print(9/2)\n",
    "print(\"\\n\")\n",
    "print((9//-2))\n",
    "print(9//2)"
   ]
  },
  {
   "cell_type": "code",
   "execution_count": null,
   "id": "8547e043",
   "metadata": {},
   "outputs": [],
   "source": []
  },
  {
   "cell_type": "code",
   "execution_count": null,
   "id": "6540b646",
   "metadata": {},
   "outputs": [],
   "source": []
  }
 ],
 "metadata": {
  "kernelspec": {
   "display_name": "Python 3 (ipykernel)",
   "language": "python",
   "name": "python3"
  },
  "language_info": {
   "codemirror_mode": {
    "name": "ipython",
    "version": 3
   },
   "file_extension": ".py",
   "mimetype": "text/x-python",
   "name": "python",
   "nbconvert_exporter": "python",
   "pygments_lexer": "ipython3",
   "version": "3.7.12"
  }
 },
 "nbformat": 4,
 "nbformat_minor": 5
}
