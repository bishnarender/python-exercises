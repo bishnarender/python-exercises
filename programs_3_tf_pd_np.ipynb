{
 "cells": [
  {
   "cell_type": "code",
   "execution_count": 1,
   "id": "102a9197",
   "metadata": {},
   "outputs": [],
   "source": [
    "import numpy as np\n",
    "# import tensorflow as tf\n",
    "import pandas as pd"
   ]
  },
  {
   "cell_type": "code",
   "execution_count": 15,
   "id": "77a1ba1e",
   "metadata": {},
   "outputs": [
    {
     "name": "stdout",
     "output_type": "stream",
     "text": [
      "[[1 2]\n",
      " [3 4]]\n",
      "(2, 2)\n",
      "[[0 0 0 0 0 0 0]\n",
      " [0 0 0 0 0 0 0]\n",
      " [0 0 0 0 0 0 0]\n",
      " [0 0 1 2 0 0 0]\n",
      " [0 0 3 4 0 0 0]\n",
      " [0 0 0 0 0 0 0]\n",
      " [0 0 0 0 0 0 0]]\n",
      "(7, 7)\n"
     ]
    }
   ],
   "source": [
    "a = np.array([[1, 2], [3, 4]])\n",
    "print(a)\n",
    "print(a.shape)\n",
    "# [3, 2] => pad axis=0 with 3 values before and 2 values after.\n",
    "# [2, 3] => pad axis=1 with 2 values before and 3 values after.\n",
    "print(np.pad(a, pad_width=[[3, 2], [2, 3]],))\n",
    "print(np.pad(a, pad_width=[[3, 2], [2, 3]],).shape)"
   ]
  },
  {
   "cell_type": "code",
   "execution_count": 4,
   "id": "67a70ba1",
   "metadata": {},
   "outputs": [
    {
     "name": "stdout",
     "output_type": "stream",
     "text": [
      "tf.Tensor(\n",
      "[[1 2 3]\n",
      " [4 5 6]], shape=(2, 3), dtype=int32)\n",
      "tf.Tensor(\n",
      "[[1 2 3 1 2 3]\n",
      " [4 5 6 4 5 6]], shape=(2, 6), dtype=int32)\n"
     ]
    }
   ],
   "source": [
    "a = tf.constant([[1,2,3],[4,5,6]], tf.int32)\n",
    "print(a)\n",
    "b = tf.constant([1,2], tf.int32)\n",
    "# output tensor's i'th dimension has input.dims(i) * multiples[i] elements, -\n",
    "# - and the values of input are kept multiples[i] times along the 'i'th dimension.\n",
    "\n",
    "# output tensor's 0'th dimension has 2 * 1 elements, -\n",
    "# - and the values of input are kept 1 times along the '0'th dimension.\n",
    "\n",
    "# output tensor's 1'th dimension has 3 * 2 elements, -\n",
    "# - and the values of input are kept 2 times along the '1'th dimension.\n",
    "\n",
    "print(tf.tile(a, b))"
   ]
  },
  {
   "cell_type": "code",
   "execution_count": 5,
   "id": "20c687a9",
   "metadata": {},
   "outputs": [
    {
     "name": "stdout",
     "output_type": "stream",
     "text": [
      "tf.Tensor(\n",
      "[[1 2 3]\n",
      " [4 5 6]\n",
      " [1 2 3]\n",
      " [4 5 6]], shape=(4, 3), dtype=int32)\n"
     ]
    }
   ],
   "source": [
    "c = tf.constant([2,1], tf.int32)\n",
    "print(tf.tile(a, c))"
   ]
  },
  {
   "cell_type": "code",
   "execution_count": 6,
   "id": "2b1f216c",
   "metadata": {},
   "outputs": [
    {
     "name": "stdout",
     "output_type": "stream",
     "text": [
      "tf.Tensor(\n",
      "[[1 2 3 1 2 3]\n",
      " [4 5 6 4 5 6]\n",
      " [1 2 3 1 2 3]\n",
      " [4 5 6 4 5 6]], shape=(4, 6), dtype=int32)\n"
     ]
    }
   ],
   "source": [
    "d = tf.constant([2,2], tf.int32)\n",
    "print(tf.tile(a, d))"
   ]
  },
  {
   "cell_type": "code",
   "execution_count": 9,
   "id": "3a5527dc",
   "metadata": {},
   "outputs": [
    {
     "data": {
      "text/plain": [
       "2"
      ]
     },
     "execution_count": 9,
     "metadata": {},
     "output_type": "execute_result"
    }
   ],
   "source": []
  },
  {
   "cell_type": "code",
   "execution_count": 4,
   "id": "5c860f43",
   "metadata": {},
   "outputs": [
    {
     "data": {
      "text/html": [
       "<div>\n",
       "<style scoped>\n",
       "    .dataframe tbody tr th:only-of-type {\n",
       "        vertical-align: middle;\n",
       "    }\n",
       "\n",
       "    .dataframe tbody tr th {\n",
       "        vertical-align: top;\n",
       "    }\n",
       "\n",
       "    .dataframe thead th {\n",
       "        text-align: right;\n",
       "    }\n",
       "</style>\n",
       "<table border=\"1\" class=\"dataframe\">\n",
       "  <thead>\n",
       "    <tr style=\"text-align: right;\">\n",
       "      <th></th>\n",
       "      <th>A</th>\n",
       "      <th>B</th>\n",
       "      <th>C</th>\n",
       "    </tr>\n",
       "  </thead>\n",
       "  <tbody>\n",
       "    <tr>\n",
       "      <th>0</th>\n",
       "      <td>1.0</td>\n",
       "      <td>2.0</td>\n",
       "      <td>3.0</td>\n",
       "    </tr>\n",
       "    <tr>\n",
       "      <th>1</th>\n",
       "      <td>4.0</td>\n",
       "      <td>5.0</td>\n",
       "      <td>6.0</td>\n",
       "    </tr>\n",
       "    <tr>\n",
       "      <th>2</th>\n",
       "      <td>7.0</td>\n",
       "      <td>8.0</td>\n",
       "      <td>9.0</td>\n",
       "    </tr>\n",
       "    <tr>\n",
       "      <th>3</th>\n",
       "      <td>NaN</td>\n",
       "      <td>NaN</td>\n",
       "      <td>NaN</td>\n",
       "    </tr>\n",
       "  </tbody>\n",
       "</table>\n",
       "</div>"
      ],
      "text/plain": [
       "     A    B    C\n",
       "0  1.0  2.0  3.0\n",
       "1  4.0  5.0  6.0\n",
       "2  7.0  8.0  9.0\n",
       "3  NaN  NaN  NaN"
      ]
     },
     "execution_count": 4,
     "metadata": {},
     "output_type": "execute_result"
    }
   ],
   "source": [
    "#######################################################\n",
    "\n",
    "df = pd.DataFrame([[1, 2, 3],\n",
    "                   [4, 5, 6],\n",
    "                   [7, 8, 9],\n",
    "                   [np.nan, np.nan, np.nan]],\n",
    "                  columns=['A', 'B', 'C'])\n",
    "df"
   ]
  },
  {
   "cell_type": "code",
   "execution_count": 5,
   "id": "cced1b35",
   "metadata": {},
   "outputs": [
    {
     "data": {
      "text/plain": [
       "0    3.0\n",
       "1    6.0\n",
       "2    9.0\n",
       "3    NaN\n",
       "dtype: float64"
      ]
     },
     "execution_count": 5,
     "metadata": {},
     "output_type": "execute_result"
    }
   ],
   "source": [
    "df.aggregate('max', axis=1)"
   ]
  },
  {
   "cell_type": "code",
   "execution_count": 6,
   "id": "4d3ea668",
   "metadata": {},
   "outputs": [
    {
     "data": {
      "text/html": [
       "<div>\n",
       "<style scoped>\n",
       "    .dataframe tbody tr th:only-of-type {\n",
       "        vertical-align: middle;\n",
       "    }\n",
       "\n",
       "    .dataframe tbody tr th {\n",
       "        vertical-align: top;\n",
       "    }\n",
       "\n",
       "    .dataframe thead th {\n",
       "        text-align: right;\n",
       "    }\n",
       "</style>\n",
       "<table border=\"1\" class=\"dataframe\">\n",
       "  <thead>\n",
       "    <tr style=\"text-align: right;\">\n",
       "      <th></th>\n",
       "      <th>a</th>\n",
       "      <th>b</th>\n",
       "      <th>c</th>\n",
       "      <th>d</th>\n",
       "    </tr>\n",
       "  </thead>\n",
       "  <tbody>\n",
       "    <tr>\n",
       "      <th>0</th>\n",
       "      <td>1</td>\n",
       "      <td>2</td>\n",
       "      <td>3</td>\n",
       "      <td>4</td>\n",
       "    </tr>\n",
       "    <tr>\n",
       "      <th>1</th>\n",
       "      <td>100</td>\n",
       "      <td>200</td>\n",
       "      <td>300</td>\n",
       "      <td>400</td>\n",
       "    </tr>\n",
       "    <tr>\n",
       "      <th>2</th>\n",
       "      <td>1000</td>\n",
       "      <td>2000</td>\n",
       "      <td>3000</td>\n",
       "      <td>4000</td>\n",
       "    </tr>\n",
       "    <tr>\n",
       "      <th>3</th>\n",
       "      <td>10</td>\n",
       "      <td>9</td>\n",
       "      <td>8</td>\n",
       "      <td>7</td>\n",
       "    </tr>\n",
       "    <tr>\n",
       "      <th>4</th>\n",
       "      <td>11</td>\n",
       "      <td>12</td>\n",
       "      <td>13</td>\n",
       "      <td>14</td>\n",
       "    </tr>\n",
       "  </tbody>\n",
       "</table>\n",
       "</div>"
      ],
      "text/plain": [
       "      a     b     c     d\n",
       "0     1     2     3     4\n",
       "1   100   200   300   400\n",
       "2  1000  2000  3000  4000\n",
       "3    10     9     8     7\n",
       "4    11    12    13    14"
      ]
     },
     "execution_count": 6,
     "metadata": {},
     "output_type": "execute_result"
    }
   ],
   "source": [
    "###################################################\n",
    "mydict = [{'a': 1, 'b': 2, 'c': 3, 'd': 4},\n",
    "          {'a': 100, 'b': 200, 'c': 300, 'd': 400},\n",
    "          {'a': 1000, 'b': 2000, 'c': 3000, 'd': 4000 },\n",
    "          {'a': 10, 'b': 9, 'c': 8, 'd': 7 },\n",
    "          {'a': 11, 'b': 12, 'c': 13, 'd': 14 }]\n",
    "df = pd.DataFrame(mydict)\n",
    "df"
   ]
  },
  {
   "cell_type": "code",
   "execution_count": 8,
   "id": "c43385da",
   "metadata": {},
   "outputs": [
    {
     "data": {
      "text/html": [
       "<div>\n",
       "<style scoped>\n",
       "    .dataframe tbody tr th:only-of-type {\n",
       "        vertical-align: middle;\n",
       "    }\n",
       "\n",
       "    .dataframe tbody tr th {\n",
       "        vertical-align: top;\n",
       "    }\n",
       "\n",
       "    .dataframe thead th {\n",
       "        text-align: right;\n",
       "    }\n",
       "</style>\n",
       "<table border=\"1\" class=\"dataframe\">\n",
       "  <thead>\n",
       "    <tr style=\"text-align: right;\">\n",
       "      <th></th>\n",
       "      <th>a</th>\n",
       "      <th>b</th>\n",
       "      <th>c</th>\n",
       "      <th>d</th>\n",
       "    </tr>\n",
       "  </thead>\n",
       "  <tbody>\n",
       "    <tr>\n",
       "      <th>0</th>\n",
       "      <td>1</td>\n",
       "      <td>2</td>\n",
       "      <td>3</td>\n",
       "      <td>4</td>\n",
       "    </tr>\n",
       "    <tr>\n",
       "      <th>2</th>\n",
       "      <td>1000</td>\n",
       "      <td>2000</td>\n",
       "      <td>3000</td>\n",
       "      <td>4000</td>\n",
       "    </tr>\n",
       "    <tr>\n",
       "      <th>4</th>\n",
       "      <td>11</td>\n",
       "      <td>12</td>\n",
       "      <td>13</td>\n",
       "      <td>14</td>\n",
       "    </tr>\n",
       "  </tbody>\n",
       "</table>\n",
       "</div>"
      ],
      "text/plain": [
       "      a     b     c     d\n",
       "0     1     2     3     4\n",
       "2  1000  2000  3000  4000\n",
       "4    11    12    13    14"
      ]
     },
     "execution_count": 8,
     "metadata": {},
     "output_type": "execute_result"
    }
   ],
   "source": [
    "# iloc[start:stop:step]\n",
    "df.iloc[0::2]"
   ]
  },
  {
   "cell_type": "code",
   "execution_count": null,
   "id": "2860ff63",
   "metadata": {},
   "outputs": [],
   "source": [
    "#################################################################################"
   ]
  },
  {
   "cell_type": "code",
   "execution_count": 3,
   "id": "c762cb07",
   "metadata": {},
   "outputs": [
    {
     "name": "stdout",
     "output_type": "stream",
     "text": [
      "[10, 9, 8, 7, 6, 5, 4, 3, 2, 1]\n"
     ]
    }
   ],
   "source": [
    "# The expression lst[::-1] is used to reverse the elements of a list in Python. Let me explain how it works.\n",
    "# The general syntax for indexing is list_name[start_index:stop_index:step], \n",
    "# The step value is -1, which means it iterates through the list in reverse order with steps of 1.\n",
    "lst = [1, 2, 3, 4, 5, 6, 7, 8, 9, 10]\n",
    "reverse_list = lst[::-1]\n",
    "print(reverse_list)"
   ]
  },
  {
   "cell_type": "code",
   "execution_count": 1,
   "id": "bf25f35e",
   "metadata": {},
   "outputs": [
    {
     "name": "stdout",
     "output_type": "stream",
     "text": [
      "[6, 7, 8, 9, 10]\n"
     ]
    }
   ],
   "source": [
    "# lst[-5:], you are specifying a range starting from the fifth element from the end (inclusive) and continuing until the end of the list.\n",
    "lst = [1, 2, 3, 4, 5, 6, 7, 8, 9, 10]\n",
    "last_five_elements = lst[-5:]\n",
    "print(last_five_elements)"
   ]
  },
  {
   "cell_type": "code",
   "execution_count": 4,
   "id": "d35f4adc",
   "metadata": {},
   "outputs": [
    {
     "name": "stdout",
     "output_type": "stream",
     "text": [
      "[1, 2, 3, 4, 5]\n"
     ]
    }
   ],
   "source": [
    "# [:5], the stop_index is 5, indicating that the sublist should include elements up to, but not including, the element at index 5.\n",
    "lst = [1, 2, 3, 4, 5, 6, 7, 8, 9, 10]\n",
    "first_five_elements = lst[:5]\n",
    "print(first_five_elements)"
   ]
  },
  {
   "cell_type": "code",
   "execution_count": 5,
   "id": "61b4bbeb",
   "metadata": {},
   "outputs": [
    {
     "name": "stdout",
     "output_type": "stream",
     "text": [
      "[1, 2, 3, 4, 5]\n"
     ]
    }
   ],
   "source": [
    "# [:-5], the stop_index is -5, \n",
    "lst = [1, 2, 3, 4, 5, 6, 7, 8, 9, 10]\n",
    "first_five_elements = lst[:-5]\n",
    "print(first_five_elements)"
   ]
  },
  {
   "cell_type": "code",
   "execution_count": 5,
   "id": "736f524d",
   "metadata": {},
   "outputs": [
    {
     "name": "stdout",
     "output_type": "stream",
     "text": [
      "['hello', 2, 'hello_1']\n"
     ]
    }
   ],
   "source": [
    "# OR =====================================\n",
    "\n",
    "a = {\"hello\":1, 2:4 ,\"hello\":6}\n",
    "# a => {'hello': 6, 2: 4}\n",
    "\n",
    "b = {\"hello\":1, 2:4 ,\"hello_1\":6}\n",
    "print(list(b))"
   ]
  },
  {
   "cell_type": "code",
   "execution_count": null,
   "id": "e9b27226",
   "metadata": {},
   "outputs": [],
   "source": [
    "#########################################################################################"
   ]
  },
  {
   "cell_type": "code",
   "execution_count": 6,
   "id": "28e738ed",
   "metadata": {},
   "outputs": [
    {
     "data": {
      "text/plain": [
       "TensorShape([2, 2, 4, 2])"
      ]
     },
     "execution_count": 6,
     "metadata": {},
     "output_type": "execute_result"
    }
   ],
   "source": [
    "x=np.random.randint(0, 50, size=(2,3,4,2))\n",
    "tf_1 = tf.convert_to_tensor(x, dtype=tf.float32)\n",
    "tf_1[:,1:,:,:].shape"
   ]
  },
  {
   "cell_type": "code",
   "execution_count": null,
   "id": "5e8d667a",
   "metadata": {},
   "outputs": [],
   "source": [
    "##########################################################"
   ]
  },
  {
   "cell_type": "code",
   "execution_count": 20,
   "id": "d7a4bb7d",
   "metadata": {},
   "outputs": [
    {
     "data": {
      "text/plain": [
       "array(['', 'archivist', 'archivist', 'block'], dtype='<U9')"
      ]
     },
     "metadata": {},
     "output_type": "display_data"
    },
    {
     "data": {
      "text/plain": [
       "array([  0,   0,   0,   0,   0,   0,   0,   0,   0,  97, 114,  99, 104,\n",
       "       105, 118, 105, 115, 116,  97, 114,  99, 104, 105, 118, 105, 115,\n",
       "       116,  98, 108, 111,  99, 107,   0,   0,   0,   0], dtype=uint32)"
      ]
     },
     "execution_count": 20,
     "metadata": {},
     "output_type": "execute_result"
    }
   ],
   "source": [
    "z => array(['', 'archivist', 'archivist', 'block'], dtype='<U9')\n",
    "z = z.view(np.uint32)\n",
    "z =>\n",
    "array([  0,   0,   0,   0,   0,   0,   0,   0,   0,  97, 114,  99, 104,\n",
    "       105, 118, 105, 115, 116,  97, 114,  99, 104, 105, 118, 105, 115,\n",
    "       116,  98, 108, 111,  99, 107,   0,   0,   0,   0], dtype=uint32)\n",
    "\n",
    "\n",
    "# array([ 97, 114,  99, 104, 105, 118, 105, 115, 116,  97, 114,  99, 104,\n",
    "#        105, 118, 105, 115, 116], dtype=uint32)"
   ]
  },
  {
   "cell_type": "code",
   "execution_count": 21,
   "id": "4dbd6b22",
   "metadata": {},
   "outputs": [
    {
     "name": "stdout",
     "output_type": "stream",
     "text": [
      "[ 0  1  2  3  4  5  6  7  8  9 10 11 12 13 14 15 16 17 18 19 20 21 22 23\n",
      " 24 25 26 27 28 29 30 31]\n"
     ]
    },
    {
     "data": {
      "text/plain": [
       "(32,)"
      ]
     },
     "execution_count": 21,
     "metadata": {},
     "output_type": "execute_result"
    }
   ],
   "source": [
    "#########################################################################\n",
    "\n",
    "aa = np.arange(32) #np.random.rand(32,32,32)\n",
    "print(aa)\n",
    "aa.shape"
   ]
  },
  {
   "cell_type": "code",
   "execution_count": 23,
   "id": "b0353ea9",
   "metadata": {},
   "outputs": [
    {
     "name": "stdout",
     "output_type": "stream",
     "text": [
      "[13 14 15 16 17 18 19 20 21 22 23 24 25 26 27 28 29 30]\n",
      "(18,)\n"
     ]
    },
    {
     "data": {
      "text/plain": [
       "(19,)"
      ]
     },
     "execution_count": 23,
     "metadata": {},
     "output_type": "execute_result"
    }
   ],
   "source": [
    "a31 = aa[-19:31]\n",
    "print(a31)\n",
    "print(a31.shape)\n",
    "aa[-19:32].shape"
   ]
  },
  {
   "cell_type": "code",
   "execution_count": 26,
   "id": "35c798c1",
   "metadata": {},
   "outputs": [
    {
     "name": "stdout",
     "output_type": "stream",
     "text": [
      "[]\n",
      "[13]\n"
     ]
    }
   ],
   "source": [
    "print(aa[-19:13])\n",
    "print(aa[-19:14])"
   ]
  },
  {
   "cell_type": "code",
   "execution_count": 30,
   "id": "19d7531e",
   "metadata": {},
   "outputs": [
    {
     "name": "stdout",
     "output_type": "stream",
     "text": [
      "[19 20 21 22 23 24]\n",
      "(6,)\n"
     ]
    }
   ],
   "source": [
    "a31 = aa[19:-7]\n",
    "print(a31)\n",
    "print(a31.shape)"
   ]
  },
  {
   "cell_type": "code",
   "execution_count": 31,
   "id": "6058ca10",
   "metadata": {},
   "outputs": [],
   "source": [
    "import random"
   ]
  },
  {
   "cell_type": "code",
   "execution_count": 32,
   "id": "39fb5f3a",
   "metadata": {},
   "outputs": [
    {
     "data": {
      "text/plain": [
       "[1, 0, 2]"
      ]
     },
     "execution_count": 32,
     "metadata": {},
     "output_type": "execute_result"
    }
   ],
   "source": [
    "ch_arr = list(range(3))\n",
    "random.sample(ch_arr, len(ch_arr))"
   ]
  },
  {
   "cell_type": "code",
   "execution_count": 48,
   "id": "6bcdaa1a",
   "metadata": {},
   "outputs": [
    {
     "name": "stdout",
     "output_type": "stream",
     "text": [
      "(2, 2, 5)\n"
     ]
    },
    {
     "data": {
      "text/plain": [
       "array([[[ 0,  1,  2,  3,  4],\n",
       "        [ 5,  6,  7,  8,  9]],\n",
       "\n",
       "       [[10, 11, 12, 13, 14],\n",
       "        [15, 16, 17, 18, 19]]])"
      ]
     },
     "execution_count": 48,
     "metadata": {},
     "output_type": "execute_result"
    }
   ],
   "source": [
    "################################################################################\n",
    "ab = np.array([[range(5), range(5,10)], [range(10,15), range(15,20)]])\n",
    "print(ab.shape)\n",
    "ab"
   ]
  },
  {
   "cell_type": "code",
   "execution_count": 60,
   "id": "3a89ad4a",
   "metadata": {},
   "outputs": [
    {
     "name": "stdout",
     "output_type": "stream",
     "text": [
      "(2, 2, 5)\n"
     ]
    },
    {
     "data": {
      "text/plain": [
       "array([[[ 5,  6,  7,  8,  9],\n",
       "        [ 0,  1,  2,  3,  4]],\n",
       "\n",
       "       [[15, 16, 17, 18, 19],\n",
       "        [10, 11, 12, 13, 14]]])"
      ]
     },
     "execution_count": 60,
     "metadata": {},
     "output_type": "execute_result"
    }
   ],
   "source": [
    "print(ab[:,[1,0]].shape)\n",
    "ab[:,[1,0]] # interchange indices for dimension 1."
   ]
  },
  {
   "cell_type": "code",
   "execution_count": 58,
   "id": "a2e0c756",
   "metadata": {},
   "outputs": [
    {
     "name": "stdout",
     "output_type": "stream",
     "text": [
      "(2, 2)\n"
     ]
    },
    {
     "data": {
      "text/plain": [
       "array([[ 9,  0],\n",
       "       [19, 10]])"
      ]
     },
     "execution_count": 58,
     "metadata": {},
     "output_type": "execute_result"
    }
   ],
   "source": [
    "print(ab[:,[1,0],[4,0]].shape)\n",
    "ab[:,[1,0],[4,0]] \n",
    "# pick 4th index in dimension 2 along the index 1 of dimension 1.\n",
    "# pick 0th index in dimension 2 along the index 0 of dimension 1."
   ]
  },
  {
   "cell_type": "code",
   "execution_count": 56,
   "id": "5435240a",
   "metadata": {},
   "outputs": [
    {
     "name": "stdout",
     "output_type": "stream",
     "text": [
      "(2, 2)\n"
     ]
    },
    {
     "data": {
      "text/plain": [
       "array([[ 9,  4],\n",
       "       [19, 14]])"
      ]
     },
     "execution_count": 56,
     "metadata": {},
     "output_type": "execute_result"
    }
   ],
   "source": [
    "print(ab[:,[1,0],[4]].shape)\n",
    "ab[:,[1,0],[4]] \n",
    "# pick 4th index in dimension 2 along the index 1 of dimension 1.\n",
    "# pick 4th index in dimension 2 along the index 0 of dimension 1."
   ]
  },
  {
   "cell_type": "code",
   "execution_count": 64,
   "id": "0886b424",
   "metadata": {},
   "outputs": [
    {
     "name": "stdout",
     "output_type": "stream",
     "text": [
      "(2, 3, 5)\n"
     ]
    },
    {
     "data": {
      "text/plain": [
       "array([[[ 5,  6,  7,  8,  9],\n",
       "        [ 0,  1,  2,  3,  4],\n",
       "        [ 5,  6,  7,  8,  9]],\n",
       "\n",
       "       [[15, 16, 17, 18, 19],\n",
       "        [10, 11, 12, 13, 14],\n",
       "        [15, 16, 17, 18, 19]]])"
      ]
     },
     "execution_count": 64,
     "metadata": {},
     "output_type": "execute_result"
    }
   ],
   "source": [
    "print(ab[:,[1,0,1]].shape)\n",
    "ab[:,[1,0,1]] "
   ]
  },
  {
   "cell_type": "code",
   "execution_count": 63,
   "id": "6b12027c",
   "metadata": {},
   "outputs": [
    {
     "name": "stdout",
     "output_type": "stream",
     "text": [
      "(2, 3)\n"
     ]
    },
    {
     "data": {
      "text/plain": [
       "array([[ 6,  0,  6],\n",
       "       [16, 10, 16]])"
      ]
     },
     "execution_count": 63,
     "metadata": {},
     "output_type": "execute_result"
    }
   ],
   "source": [
    "print(ab[:,[1,0,1],[1,0,1]].shape)\n",
    "ab[:,[1,0,1],[1,0,1]] # interchange indices for dimension 1."
   ]
  },
  {
   "cell_type": "code",
   "execution_count": null,
   "id": "8e666da0",
   "metadata": {},
   "outputs": [],
   "source": []
  },
  {
   "cell_type": "code",
   "execution_count": 169,
   "id": "22b173e1",
   "metadata": {},
   "outputs": [
    {
     "name": "stdout",
     "output_type": "stream",
     "text": [
      "torch.Size([3, 2, 3, 2, 3])\n"
     ]
    },
    {
     "data": {
      "text/plain": [
       "tensor([[[[[177,  63, 164],\n",
       "           [ 22,  61,  71]],\n",
       "\n",
       "          [[ 67, 112,  76],\n",
       "           [139,  36, 125]],\n",
       "\n",
       "          [[101, 126,  36],\n",
       "           [160, 147, 154]]],\n",
       "\n",
       "\n",
       "         [[[127, 124, 123],\n",
       "           [144,  22, 117]],\n",
       "\n",
       "          [[ 35, 133, 163],\n",
       "           [178, 168,  92]],\n",
       "\n",
       "          [[ 76, 138, 160],\n",
       "           [ 57,  91,  69]]]],\n",
       "\n",
       "\n",
       "\n",
       "        [[[[ 38, 173,  95],\n",
       "           [ 11,  83, 113]],\n",
       "\n",
       "          [[ 50,  15,  13],\n",
       "           [170,  94,  39]],\n",
       "\n",
       "          [[ 19,  51, 126],\n",
       "           [165, 104,  54]]],\n",
       "\n",
       "\n",
       "         [[[ 64, 142,  13],\n",
       "           [110,  33,  96]],\n",
       "\n",
       "          [[134,  13,   0],\n",
       "           [178,  10,  99]],\n",
       "\n",
       "          [[ 49, 107,  64],\n",
       "           [120, 155,  67]]]],\n",
       "\n",
       "\n",
       "\n",
       "        [[[[ 68,  49,  20],\n",
       "           [115,  12,  32]],\n",
       "\n",
       "          [[ 30,  20,  96],\n",
       "           [143,  39, 117]],\n",
       "\n",
       "          [[ 36, 127,   9],\n",
       "           [  4,  63,  92]]],\n",
       "\n",
       "\n",
       "         [[[165,  22,  88],\n",
       "           [ 34, 169,  45]],\n",
       "\n",
       "          [[158,  38,  62],\n",
       "           [100, 167, 113]],\n",
       "\n",
       "          [[150, 116,  78],\n",
       "           [ 15,  35, 141]]]]])"
      ]
     },
     "execution_count": 169,
     "metadata": {},
     "output_type": "execute_result"
    }
   ],
   "source": [
    "#############################################################################\n",
    "ab = np.random.randint(0, 179, (3,2,3,2,3))\n",
    "ab = torch.from_numpy(ab)\n",
    "print(ab.shape)\n",
    "ab"
   ]
  },
  {
   "cell_type": "code",
   "execution_count": 170,
   "id": "9952c14c",
   "metadata": {},
   "outputs": [
    {
     "data": {
      "text/plain": [
       "tensor([[[[177,  63, 164],\n",
       "          [ 22,  61,  71]],\n",
       "\n",
       "         [[ 67, 112,  76],\n",
       "          [139,  36, 125]],\n",
       "\n",
       "         [[101, 126,  36],\n",
       "          [160, 147, 154]]],\n",
       "\n",
       "\n",
       "        [[[127, 124, 123],\n",
       "          [144,  22, 117]],\n",
       "\n",
       "         [[ 35, 133, 163],\n",
       "          [178, 168,  92]],\n",
       "\n",
       "         [[ 76, 138, 160],\n",
       "          [ 57,  91,  69]]]])"
      ]
     },
     "execution_count": 170,
     "metadata": {},
     "output_type": "execute_result"
    }
   ],
   "source": [
    "# ab.shape => (3, 2, 3, 2, 3)\n",
    "# ab[0].shape => (2, 3, 2, 3)\n",
    "ab[0]"
   ]
  },
  {
   "cell_type": "code",
   "execution_count": 171,
   "id": "1d8631e7",
   "metadata": {},
   "outputs": [
    {
     "data": {
      "text/plain": [
       "tensor([[[[177,  63, 164],\n",
       "          [ 22,  61,  71]],\n",
       "\n",
       "         [[ 67, 112,  76],\n",
       "          [139,  36, 125]],\n",
       "\n",
       "         [[101, 126,  36],\n",
       "          [160, 147, 154]]],\n",
       "\n",
       "\n",
       "        [[[127, 124, 123],\n",
       "          [144,  22, 117]],\n",
       "\n",
       "         [[ 35, 133, 163],\n",
       "          [178, 168,  92]],\n",
       "\n",
       "         [[ 76, 138, 160],\n",
       "          [ 57,  91,  69]]]])"
      ]
     },
     "execution_count": 171,
     "metadata": {},
     "output_type": "execute_result"
    }
   ],
   "source": [
    "# ab[0,:].shape => (2, 3, 2, 3)\n",
    "ab[0,:]"
   ]
  },
  {
   "cell_type": "code",
   "execution_count": 172,
   "id": "f15c531f",
   "metadata": {},
   "outputs": [
    {
     "data": {
      "text/plain": [
       "tensor([[[177,  63, 164],\n",
       "         [ 22,  61,  71]],\n",
       "\n",
       "        [[127, 124, 123],\n",
       "         [144,  22, 117]]])"
      ]
     },
     "execution_count": 172,
     "metadata": {},
     "output_type": "execute_result"
    }
   ],
   "source": [
    "# ab.shape => (3, 2, 3, 2, 3)\n",
    "# ab[0,:,0].shape => (2, 2, 3)\n",
    "ab[0,:,0]"
   ]
  },
  {
   "cell_type": "code",
   "execution_count": null,
   "id": "6a51acec",
   "metadata": {},
   "outputs": [],
   "source": []
  },
  {
   "cell_type": "code",
   "execution_count": 173,
   "id": "8178e73d",
   "metadata": {},
   "outputs": [
    {
     "name": "stdout",
     "output_type": "stream",
     "text": [
      "torch.Size([3, 2, 3, 2, 3])\n"
     ]
    },
    {
     "data": {
      "text/plain": [
       "tensor([[[[ 67, 112,  76],\n",
       "          [139,  36, 125]],\n",
       "\n",
       "         [[177,  63, 164],\n",
       "          [ 22,  61,  71]],\n",
       "\n",
       "         [[101, 126,  36],\n",
       "          [160, 147, 154]]],\n",
       "\n",
       "\n",
       "        [[[ 35, 133, 163],\n",
       "          [178, 168,  92]],\n",
       "\n",
       "         [[127, 124, 123],\n",
       "          [144,  22, 117]],\n",
       "\n",
       "         [[ 76, 138, 160],\n",
       "          [ 57,  91,  69]]]])"
      ]
     },
     "execution_count": 173,
     "metadata": {},
     "output_type": "execute_result"
    }
   ],
   "source": [
    "ch = [[1,0,2],[2,0,1]]\n",
    "for i,c in enumerate(ch):\n",
    "    # this doesnot work if ab is numpy array.\n",
    "    ab[i] = ab[i,:,c] # interchange indices for dimension 2.\n",
    "    break\n",
    "print(ab.shape)\n",
    "ab[0]"
   ]
  },
  {
   "cell_type": "code",
   "execution_count": 181,
   "id": "db97ba26",
   "metadata": {},
   "outputs": [
    {
     "name": "stdout",
     "output_type": "stream",
     "text": [
      "(12,)\n",
      "(array([4, 7]),)\n",
      "[4 7]\n"
     ]
    },
    {
     "data": {
      "text/plain": [
       "array([5, 8])"
      ]
     },
     "execution_count": 181,
     "metadata": {},
     "output_type": "execute_result"
    }
   ],
   "source": [
    "##############################################\n",
    "a = np.array([1,2,3,4,5,6,7,8,9,10,11,12])\n",
    "z = np.array([False,False,False,False,True,False,False,True,False,False,False,False])\n",
    "print(z.shape)\n",
    "print(np.where(z))\n",
    "print(np.where(z)[0])\n",
    "a[np.where(z)]"
   ]
  },
  {
   "cell_type": "code",
   "execution_count": null,
   "id": "cce71a2f",
   "metadata": {},
   "outputs": [],
   "source": []
  },
  {
   "cell_type": "code",
   "execution_count": null,
   "id": "bdf92085",
   "metadata": {},
   "outputs": [],
   "source": []
  }
 ],
 "metadata": {
  "kernelspec": {
   "display_name": "Python 3 (ipykernel)",
   "language": "python",
   "name": "python3"
  },
  "language_info": {
   "codemirror_mode": {
    "name": "ipython",
    "version": 3
   },
   "file_extension": ".py",
   "mimetype": "text/x-python",
   "name": "python",
   "nbconvert_exporter": "python",
   "pygments_lexer": "ipython3",
   "version": "3.7.12"
  }
 },
 "nbformat": 4,
 "nbformat_minor": 5
}
