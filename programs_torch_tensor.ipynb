{
 "cells": [
  {
   "cell_type": "code",
   "execution_count": 1,
   "id": "466c29d3",
   "metadata": {},
   "outputs": [],
   "source": [
    "import torch"
   ]
  },
  {
   "cell_type": "code",
   "execution_count": 2,
   "id": "ded64a94",
   "metadata": {},
   "outputs": [
    {
     "name": "stdout",
     "output_type": "stream",
     "text": [
      "torch.Size([2, 4])\n"
     ]
    },
    {
     "data": {
      "text/plain": [
       "tensor([[ 2,  4,  6,  8],\n",
       "        [10, 12, 14, 16]])"
      ]
     },
     "execution_count": 2,
     "metadata": {},
     "output_type": "execute_result"
    }
   ],
   "source": [
    "#############################################\n",
    "a = torch.tensor([[2,4,6,8],[10,12,14,16]])\n",
    "print(a.shape)\n",
    "a"
   ]
  },
  {
   "cell_type": "code",
   "execution_count": 5,
   "id": "b5de84cf",
   "metadata": {},
   "outputs": [
    {
     "name": "stdout",
     "output_type": "stream",
     "text": [
      "torch.Size([1, 4])\n"
     ]
    },
    {
     "data": {
      "text/plain": [
       "tensor([[1, 2, 4, 6]])"
      ]
     },
     "execution_count": 5,
     "metadata": {},
     "output_type": "execute_result"
    }
   ],
   "source": [
    "b = torch.tensor([[1,2,4,6]])\n",
    "print(b.shape)\n",
    "b"
   ]
  },
  {
   "cell_type": "code",
   "execution_count": 6,
   "id": "a04dccd1",
   "metadata": {},
   "outputs": [
    {
     "data": {
      "text/plain": [
       "tensor([[ 2.0000,  2.0000,  1.5000,  1.3333],\n",
       "        [10.0000,  6.0000,  3.5000,  2.6667]])"
      ]
     },
     "execution_count": 6,
     "metadata": {},
     "output_type": "execute_result"
    }
   ],
   "source": [
    "a/b"
   ]
  },
  {
   "cell_type": "code",
   "execution_count": 8,
   "id": "a88fa837",
   "metadata": {},
   "outputs": [
    {
     "data": {
      "text/plain": [
       "(512, 512)"
      ]
     },
     "execution_count": 8,
     "metadata": {},
     "output_type": "execute_result"
    }
   ],
   "source": [
    "##################################################\n",
    "a=(512,512)\n",
    "a[:2]"
   ]
  },
  {
   "cell_type": "code",
   "execution_count": 163,
   "id": "39858943",
   "metadata": {},
   "outputs": [
    {
     "name": "stdout",
     "output_type": "stream",
     "text": [
      "torch.Size([2, 4, 3])\n"
     ]
    },
    {
     "data": {
      "text/plain": [
       "tensor([[[ 1,  2,  3],\n",
       "         [ 5,  6,  7],\n",
       "         [ 7,  8,  9],\n",
       "         [10, 11, 12]],\n",
       "\n",
       "        [[ 1,  2,  3],\n",
       "         [ 5,  6,  7],\n",
       "         [ 7,  8,  9],\n",
       "         [10, 11, 12]]])"
      ]
     },
     "execution_count": 163,
     "metadata": {},
     "output_type": "execute_result"
    }
   ],
   "source": [
    "###################################################\n",
    "a = torch.tensor([[[1,2,3],[5,6,7],[7,8,9],[10,11,12]],[[1,2,3],[5,6,7],[7,8,9],[10,11,12]]])\n",
    "print(a.shape)\n",
    "a"
   ]
  },
  {
   "cell_type": "code",
   "execution_count": 164,
   "id": "e2414a9f",
   "metadata": {},
   "outputs": [
    {
     "name": "stdout",
     "output_type": "stream",
     "text": [
      "torch.Size([2, 4, 1])\n"
     ]
    },
    {
     "data": {
      "text/plain": [
       "tensor([[[100],\n",
       "         [ 10],\n",
       "         [  1],\n",
       "         [  0]],\n",
       "\n",
       "        [[  0],\n",
       "         [  1],\n",
       "         [ 10],\n",
       "         [100]]])"
      ]
     },
     "execution_count": 164,
     "metadata": {},
     "output_type": "execute_result"
    }
   ],
   "source": [
    "b = torch.tensor([[[100],[10],[1],[0]],[[0],[1],[10],[100]]])\n",
    "print(b.shape)\n",
    "b"
   ]
  },
  {
   "cell_type": "code",
   "execution_count": 165,
   "id": "e9429209",
   "metadata": {},
   "outputs": [
    {
     "name": "stdout",
     "output_type": "stream",
     "text": [
      "torch.Size([2, 4, 3])\n"
     ]
    },
    {
     "data": {
      "text/plain": [
       "tensor([[[ 100,  200,  300],\n",
       "         [  50,   60,   70],\n",
       "         [   7,    8,    9],\n",
       "         [   0,    0,    0]],\n",
       "\n",
       "        [[   0,    0,    0],\n",
       "         [   5,    6,    7],\n",
       "         [  70,   80,   90],\n",
       "         [1000, 1100, 1200]]])"
      ]
     },
     "execution_count": 165,
     "metadata": {},
     "output_type": "execute_result"
    }
   ],
   "source": [
    "print( (a*b).shape )\n",
    "a*b"
   ]
  },
  {
   "cell_type": "code",
   "execution_count": 179,
   "id": "b26577a5",
   "metadata": {},
   "outputs": [
    {
     "name": "stdout",
     "output_type": "stream",
     "text": [
      "torch.Size([2, 4])\n"
     ]
    },
    {
     "data": {
      "text/plain": [
       "tensor([[ 1,  5,  7, 10],\n",
       "        [ 1,  5,  7, 10]])"
      ]
     },
     "execution_count": 179,
     "metadata": {},
     "output_type": "execute_result"
    }
   ],
   "source": [
    "###########################################################\n",
    "a = torch.tensor([[1,5,7,10],[11,55,77,100]])\n",
    "print(a.shape)\n",
    "a"
   ]
  },
  {
   "cell_type": "code",
   "execution_count": 180,
   "id": "212ed459",
   "metadata": {},
   "outputs": [
    {
     "name": "stdout",
     "output_type": "stream",
     "text": [
      "torch.Size([4])\n"
     ]
    },
    {
     "data": {
      "text/plain": [
       "tensor([  1,  10, 100, 100])"
      ]
     },
     "execution_count": 180,
     "metadata": {},
     "output_type": "execute_result"
    }
   ],
   "source": [
    "b = torch.tensor([1,10,100,100])\n",
    "print(b.shape)\n",
    "b"
   ]
  },
  {
   "cell_type": "code",
   "execution_count": 182,
   "id": "be48c2fe",
   "metadata": {},
   "outputs": [
    {
     "name": "stdout",
     "output_type": "stream",
     "text": [
      "torch.Size([2, 4])\n"
     ]
    },
    {
     "data": {
      "text/plain": [
       "tensor([[ 0,  5, 93, 90],\n",
       "        [ 0,  5, 93, 90]])"
      ]
     },
     "execution_count": 182,
     "metadata": {},
     "output_type": "execute_result"
    }
   ],
   "source": [
    "print((b-a).shape)\n",
    "b-a"
   ]
  },
  {
   "cell_type": "code",
   "execution_count": null,
   "id": "6674f013",
   "metadata": {},
   "outputs": [],
   "source": []
  },
  {
   "cell_type": "code",
   "execution_count": 205,
   "id": "8b2db969",
   "metadata": {},
   "outputs": [
    {
     "name": "stdout",
     "output_type": "stream",
     "text": [
      "torch.Size([20])\n"
     ]
    },
    {
     "data": {
      "text/plain": [
       "tensor([1, 1, 0, 0, 0, 0, 0, 0, 0, 0, 3, 3, 2, 2, 2, 2, 2, 2, 2, 2])"
      ]
     },
     "execution_count": 205,
     "metadata": {},
     "output_type": "execute_result"
    }
   ],
   "source": [
    "###############################################################\n",
    "a = torch.tensor([1, 1, 0, 0, 0, 0, 0, 0, 0, 0, 3, 3, 2, 2, 2, 2, 2, 2, 2, 2])\n",
    "print(a.shape)\n",
    "a"
   ]
  },
  {
   "cell_type": "code",
   "execution_count": 212,
   "id": "601c8514",
   "metadata": {},
   "outputs": [
    {
     "name": "stdout",
     "output_type": "stream",
     "text": [
      "torch.Size([4])\n"
     ]
    },
    {
     "data": {
      "text/plain": [
       "tensor([ 0,  0, 12, 13])"
      ]
     },
     "execution_count": 212,
     "metadata": {},
     "output_type": "execute_result"
    }
   ],
   "source": [
    "b = torch.tensor([0, 0, 12, 13])\n",
    "print(b.shape)\n",
    "b"
   ]
  },
  {
   "cell_type": "code",
   "execution_count": 213,
   "id": "12f8896e",
   "metadata": {},
   "outputs": [
    {
     "name": "stdout",
     "output_type": "stream",
     "text": [
      "torch.Size([20])\n"
     ]
    },
    {
     "data": {
      "text/plain": [
       "tensor([ 0,  0,  0,  0,  0,  0,  0,  0,  0,  0, 13, 13, 12, 12, 12, 12, 12, 12,\n",
       "        12, 12])"
      ]
     },
     "execution_count": 213,
     "metadata": {},
     "output_type": "execute_result"
    }
   ],
   "source": [
    "print(b[a].shape)\n",
    "b[a]"
   ]
  },
  {
   "cell_type": "code",
   "execution_count": 34,
   "id": "2a8e6b45",
   "metadata": {},
   "outputs": [
    {
     "name": "stdout",
     "output_type": "stream",
     "text": [
      "torch.Size([5, 3])\n"
     ]
    },
    {
     "data": {
      "text/plain": [
       "tensor([[0.0099, 0.0237, 0.0059],\n",
       "        [0.0085, 0.0307, 0.0093],\n",
       "        [0.0082, 0.0362, 0.0101],\n",
       "        [0.0085, 0.5307, 0.0093],\n",
       "        [0.4082, 0.6362, 0.9101]])"
      ]
     },
     "execution_count": 34,
     "metadata": {},
     "output_type": "execute_result"
    }
   ],
   "source": [
    "############################################################\n",
    "a = torch.tensor([[0.0099, 0.0237, 0.0059],\n",
    "            [0.0085, 0.0307, 0.0093],\n",
    "            [0.0082, 0.0362, 0.0101],\n",
    "            [0.0085, 0.5307, 0.0093],\n",
    "            [0.4082, 0.6362, 0.9101]])    \n",
    "print(a.shape)\n",
    "a"
   ]
  },
  {
   "cell_type": "code",
   "execution_count": 35,
   "id": "132e07ed",
   "metadata": {},
   "outputs": [
    {
     "name": "stdout",
     "output_type": "stream",
     "text": [
      "torch.Size([5])\n"
     ]
    },
    {
     "data": {
      "text/plain": [
       "tensor([0, 1, 2, 3, 4])"
      ]
     },
     "execution_count": 35,
     "metadata": {},
     "output_type": "execute_result"
    }
   ],
   "source": [
    "b = torch.tensor([0,1,2,3,4])\n",
    "print(b.shape)\n",
    "b"
   ]
  },
  {
   "cell_type": "code",
   "execution_count": 36,
   "id": "3d6f405c",
   "metadata": {},
   "outputs": [
    {
     "name": "stdout",
     "output_type": "stream",
     "text": [
      "torch.Size([5])\n"
     ]
    },
    {
     "data": {
      "text/plain": [
       "tensor([0, 0, 0, 1, 2])"
      ]
     },
     "execution_count": 36,
     "metadata": {},
     "output_type": "execute_result"
    }
   ],
   "source": [
    "c = torch.tensor([0,0,0,1,2])\n",
    "print(c.shape)\n",
    "c"
   ]
  },
  {
   "cell_type": "code",
   "execution_count": 37,
   "id": "96502a65",
   "metadata": {},
   "outputs": [
    {
     "data": {
      "text/plain": [
       "tensor([0.0099, 0.0085, 0.0082, 0.5307, 0.9101])"
      ]
     },
     "execution_count": 37,
     "metadata": {},
     "output_type": "execute_result"
    }
   ],
   "source": [
    "a[b, c]"
   ]
  },
  {
   "cell_type": "code",
   "execution_count": null,
   "id": "bdff4802",
   "metadata": {},
   "outputs": [],
   "source": []
  },
  {
   "cell_type": "code",
   "execution_count": 256,
   "id": "d16ecdc3",
   "metadata": {},
   "outputs": [
    {
     "name": "stdout",
     "output_type": "stream",
     "text": [
      "torch.Size([3, 5, 4])\n"
     ]
    },
    {
     "data": {
      "text/plain": [
       "tensor([[[0.0099, 0.0237, 0.0059, 0.8120],\n",
       "         [0.0085, 0.0307, 0.0093, 0.2450],\n",
       "         [0.0082, 0.0362, 0.0101, 0.2560],\n",
       "         [0.0085, 0.5307, 0.0093, 0.3450],\n",
       "         [0.4082, 0.6362, 0.9101, 0.8660]],\n",
       "\n",
       "        [[0.0099, 0.0237, 0.0059, 0.2560],\n",
       "         [0.0085, 0.0307, 0.0093, 0.2860],\n",
       "         [0.0082, 0.0362, 0.0101, 0.2470],\n",
       "         [0.0085, 0.5307, 0.0093, 0.6540],\n",
       "         [0.4082, 0.6362, 0.9101, 0.7580]],\n",
       "\n",
       "        [[0.0099, 0.0237, 0.0059, 0.4850],\n",
       "         [0.0085, 0.0307, 0.0093, 0.2900],\n",
       "         [0.0082, 0.0362, 0.0101, 0.9500],\n",
       "         [0.0085, 0.5307, 0.0093, 0.4570],\n",
       "         [0.4082, 0.6362, 0.9101, 0.2220]]])"
      ]
     },
     "execution_count": 256,
     "metadata": {},
     "output_type": "execute_result"
    }
   ],
   "source": [
    "###########################################################\n",
    "a = torch.tensor([[[0.0099, 0.0237, 0.0059, 0.812],\n",
    "            [0.0085, 0.0307, 0.0093, 0.245],\n",
    "            [0.0082, 0.0362, 0.0101, 0.256],\n",
    "            [0.0085, 0.5307, 0.0093, 0.345],\n",
    "            [0.4082, 0.6362, 0.9101, 0.866]],\n",
    "            \n",
    "            [[0.0099, 0.0237, 0.0059, 0.256],\n",
    "            [0.0085, 0.0307, 0.0093, 0.286],\n",
    "            [0.0082, 0.0362, 0.0101, 0.247],\n",
    "            [0.0085, 0.5307, 0.0093, 0.654],\n",
    "            [0.4082, 0.6362, 0.9101, 0.758]],\n",
    "                 \n",
    "            [[0.0099, 0.0237, 0.0059, 0.485],\n",
    "            [0.0085, 0.0307, 0.0093, 0.29],\n",
    "            [0.0082, 0.0362, 0.0101, 0.95],\n",
    "            [0.0085, 0.5307, 0.0093, 0.457],\n",
    "            [0.4082, 0.6362, 0.9101, 0.222]]])    \n",
    "print(a.shape)\n",
    "a"
   ]
  },
  {
   "cell_type": "code",
   "execution_count": 257,
   "id": "6ccb4aad",
   "metadata": {},
   "outputs": [
    {
     "name": "stdout",
     "output_type": "stream",
     "text": [
      "torch.Size([2])\n"
     ]
    },
    {
     "data": {
      "text/plain": [
       "tensor([0, 2])"
      ]
     },
     "execution_count": 257,
     "metadata": {},
     "output_type": "execute_result"
    }
   ],
   "source": [
    "b = torch.tensor([0,2])\n",
    "print(b.shape)\n",
    "b"
   ]
  },
  {
   "cell_type": "code",
   "execution_count": 258,
   "id": "e7cac121",
   "metadata": {},
   "outputs": [
    {
     "name": "stdout",
     "output_type": "stream",
     "text": [
      "torch.Size([2])\n"
     ]
    },
    {
     "data": {
      "text/plain": [
       "tensor([0, 3])"
      ]
     },
     "execution_count": 258,
     "metadata": {},
     "output_type": "execute_result"
    }
   ],
   "source": [
    "c = torch.tensor([0,3])\n",
    "print(c.shape)\n",
    "c"
   ]
  },
  {
   "cell_type": "code",
   "execution_count": 259,
   "id": "0d5d61b2",
   "metadata": {},
   "outputs": [
    {
     "data": {
      "text/plain": [
       "tensor([[0.0099, 0.0237, 0.0059, 0.8120],\n",
       "        [0.0085, 0.5307, 0.0093, 0.4570]])"
      ]
     },
     "execution_count": 259,
     "metadata": {},
     "output_type": "execute_result"
    }
   ],
   "source": [
    "a[b, c] \n",
    "# both b and c should have same number of elements. if b is integer.\n",
    "# \"number of True in b\" and c should have same number of elements. if b is bool."
   ]
  },
  {
   "cell_type": "code",
   "execution_count": null,
   "id": "1df642cf",
   "metadata": {},
   "outputs": [],
   "source": []
  },
  {
   "cell_type": "code",
   "execution_count": 310,
   "id": "da682e95",
   "metadata": {},
   "outputs": [
    {
     "name": "stdout",
     "output_type": "stream",
     "text": [
      "torch.Size([4, 2])\n"
     ]
    },
    {
     "data": {
      "text/plain": [
       "tensor([[-1,  2],\n",
       "        [-1,  4],\n",
       "        [ 2, -2],\n",
       "        [ 2, -1]])"
      ]
     },
     "execution_count": 310,
     "metadata": {},
     "output_type": "execute_result"
    }
   ],
   "source": [
    "####################################################################\n",
    "a = torch.tensor([[-1,  2],\n",
    "        [-1,  4],\n",
    "        [ 2,  -2],\n",
    "        [ 2,  -1]])\n",
    "print(a.shape)\n",
    "a"
   ]
  },
  {
   "cell_type": "code",
   "execution_count": 313,
   "id": "f45e0c72",
   "metadata": {},
   "outputs": [
    {
     "name": "stdout",
     "output_type": "stream",
     "text": [
      "torch.Size([4, 2])\n"
     ]
    },
    {
     "data": {
      "text/plain": [
       "tensor([[ 42.,   1.],\n",
       "        [ 42.,   1.],\n",
       "        [  1., 207.],\n",
       "        [  1., 207.]])"
      ]
     },
     "execution_count": 313,
     "metadata": {},
     "output_type": "execute_result"
    }
   ],
   "source": [
    "b = torch.tensor([[  42.,  1.],\n",
    "        [  42.,  1.],\n",
    "        [1., 207.],\n",
    "        [1., 207.]])\n",
    "print(b.shape)\n",
    "b"
   ]
  },
  {
   "cell_type": "code",
   "execution_count": 314,
   "id": "a392f8d7",
   "metadata": {},
   "outputs": [
    {
     "data": {
      "text/plain": [
       "tensor([[ 42.,   2.],\n",
       "        [ 42.,   4.],\n",
       "        [  2., 207.],\n",
       "        [  2., 207.]])"
      ]
     },
     "execution_count": 314,
     "metadata": {},
     "output_type": "execute_result"
    }
   ],
   "source": [
    "torch.max(a,b)"
   ]
  },
  {
   "cell_type": "code",
   "execution_count": null,
   "id": "aed01bcd",
   "metadata": {},
   "outputs": [],
   "source": []
  },
  {
   "cell_type": "code",
   "execution_count": 332,
   "id": "f50ce870",
   "metadata": {},
   "outputs": [
    {
     "name": "stdout",
     "output_type": "stream",
     "text": [
      "torch.Size([4, 2])\n",
      "torch.Size([4, 1, 2])\n"
     ]
    },
    {
     "data": {
      "text/plain": [
       "tensor([[[-1,  2]],\n",
       "\n",
       "        [[-1,  4]],\n",
       "\n",
       "        [[ 2, -2]],\n",
       "\n",
       "        [[ 2, -1]]])"
      ]
     },
     "execution_count": 332,
     "metadata": {},
     "output_type": "execute_result"
    }
   ],
   "source": [
    "################################################\n",
    "a = torch.tensor([[-1,  2],\n",
    "        [-1,  4],\n",
    "        [ 2,  -2],\n",
    "        [ 2,  -1]])\n",
    "print(a.shape)\n",
    "a = a[..., :, None, :2]\n",
    "print(a.shape)\n",
    "a"
   ]
  },
  {
   "cell_type": "code",
   "execution_count": 336,
   "id": "79384cae",
   "metadata": {},
   "outputs": [
    {
     "name": "stdout",
     "output_type": "stream",
     "text": [
      "torch.Size([4, 2])\n",
      "torch.Size([1, 4, 2])\n"
     ]
    },
    {
     "data": {
      "text/plain": [
       "tensor([[[ 42.,   1.],\n",
       "         [ 42.,   1.],\n",
       "         [  1., 207.],\n",
       "         [  1., 207.]]])"
      ]
     },
     "execution_count": 336,
     "metadata": {},
     "output_type": "execute_result"
    }
   ],
   "source": [
    "b = torch.tensor([[  42.,  1.],\n",
    "        [  42.,  1.],\n",
    "        [1., 207.],\n",
    "        [1., 207.]])\n",
    "print(b.shape)\n",
    "b = b[..., None, :, :2]\n",
    "print(b.shape)\n",
    "b"
   ]
  },
  {
   "cell_type": "code",
   "execution_count": 337,
   "id": "aeef0004",
   "metadata": {},
   "outputs": [
    {
     "name": "stdout",
     "output_type": "stream",
     "text": [
      "torch.Size([4, 4, 2])\n"
     ]
    },
    {
     "data": {
      "text/plain": [
       "tensor([[[ 42.,   2.],\n",
       "         [ 42.,   2.],\n",
       "         [  1., 207.],\n",
       "         [  1., 207.]],\n",
       "\n",
       "        [[ 42.,   4.],\n",
       "         [ 42.,   4.],\n",
       "         [  1., 207.],\n",
       "         [  1., 207.]],\n",
       "\n",
       "        [[ 42.,   1.],\n",
       "         [ 42.,   1.],\n",
       "         [  2., 207.],\n",
       "         [  2., 207.]],\n",
       "\n",
       "        [[ 42.,   1.],\n",
       "         [ 42.,   1.],\n",
       "         [  2., 207.],\n",
       "         [  2., 207.]]])"
      ]
     },
     "execution_count": 337,
     "metadata": {},
     "output_type": "execute_result"
    }
   ],
   "source": [
    "c = torch.max(a, b)\n",
    "print(c.shape)\n",
    "c"
   ]
  },
  {
   "cell_type": "code",
   "execution_count": null,
   "id": "03ee4e3a",
   "metadata": {},
   "outputs": [],
   "source": []
  },
  {
   "cell_type": "code",
   "execution_count": 341,
   "id": "b9538972",
   "metadata": {},
   "outputs": [
    {
     "name": "stdout",
     "output_type": "stream",
     "text": [
      "torch.Size([5, 3])\n"
     ]
    },
    {
     "data": {
      "text/plain": [
       "tensor([[0.0099, 0.0237, 0.0059],\n",
       "        [0.0185, 1.0307, 0.0093],\n",
       "        [0.0082, 0.9362, 0.0101],\n",
       "        [0.0785, 0.5307, 0.0093],\n",
       "        [0.4082, 0.6362, 0.9101]])"
      ]
     },
     "execution_count": 341,
     "metadata": {},
     "output_type": "execute_result"
    }
   ],
   "source": [
    "#######################################################\n",
    "a = torch.tensor([[0.0099, 0.0237, 0.0059],\n",
    "            [0.0185, 1.0307, 0.0093],\n",
    "            [0.0082, 0.9362, 0.0101],\n",
    "            [0.0785, 0.5307, 0.0093],\n",
    "            [0.4082, 0.6362, 0.9101]]) \n",
    "print(a.shape)\n",
    "a"
   ]
  },
  {
   "cell_type": "code",
   "execution_count": 342,
   "id": "92112872",
   "metadata": {},
   "outputs": [
    {
     "data": {
      "text/plain": [
       "torch.return_types.topk(\n",
       "values=tensor([[0.4082, 1.0307, 0.9101],\n",
       "        [0.0785, 0.9362, 0.0101],\n",
       "        [0.0185, 0.6362, 0.0093],\n",
       "        [0.0099, 0.5307, 0.0093]]),\n",
       "indices=tensor([[4, 1, 4],\n",
       "        [3, 2, 2],\n",
       "        [1, 4, 3],\n",
       "        [0, 3, 1]]))"
      ]
     },
     "execution_count": 342,
     "metadata": {},
     "output_type": "execute_result"
    }
   ],
   "source": [
    "torch.topk(a, 4, dim=0)"
   ]
  },
  {
   "cell_type": "code",
   "execution_count": null,
   "id": "b724eaac",
   "metadata": {},
   "outputs": [],
   "source": []
  },
  {
   "cell_type": "code",
   "execution_count": 29,
   "id": "d91b135e",
   "metadata": {},
   "outputs": [
    {
     "data": {
      "text/plain": [
       "torch.Size([2, 6])"
      ]
     },
     "execution_count": 29,
     "metadata": {},
     "output_type": "execute_result"
    }
   ],
   "source": [
    "################################################################\n",
    "x = torch.tensor([[True, True, False, True, True, True],\n",
    "                [False, True, True, False, True, True]])\n",
    "x.shape"
   ]
  },
  {
   "cell_type": "code",
   "execution_count": 30,
   "id": "93d009fe",
   "metadata": {},
   "outputs": [
    {
     "name": "stdout",
     "output_type": "stream",
     "text": [
      "tensor([[[ True,  True, False,  True,  True,  True]],\n",
      "\n",
      "        [[False,  True,  True, False,  True,  True]]])\n"
     ]
    },
    {
     "data": {
      "text/plain": [
       "torch.Size([2, 1, 6])"
      ]
     },
     "execution_count": 30,
     "metadata": {},
     "output_type": "execute_result"
    }
   ],
   "source": [
    "a = x.unsqueeze(1)\n",
    "print(a)\n",
    "a.shape"
   ]
  },
  {
   "cell_type": "code",
   "execution_count": 31,
   "id": "af2e2281",
   "metadata": {},
   "outputs": [
    {
     "name": "stdout",
     "output_type": "stream",
     "text": [
      "tensor([[[ True],\n",
      "         [ True],\n",
      "         [False],\n",
      "         [ True],\n",
      "         [ True],\n",
      "         [ True]],\n",
      "\n",
      "        [[False],\n",
      "         [ True],\n",
      "         [ True],\n",
      "         [False],\n",
      "         [ True],\n",
      "         [ True]]])\n"
     ]
    },
    {
     "data": {
      "text/plain": [
       "torch.Size([2, 6, 1])"
      ]
     },
     "execution_count": 31,
     "metadata": {},
     "output_type": "execute_result"
    }
   ],
   "source": [
    "b = a.permute(0,2,1)\n",
    "print(b)\n",
    "b.shape"
   ]
  },
  {
   "cell_type": "code",
   "execution_count": 32,
   "id": "40134af6",
   "metadata": {},
   "outputs": [
    {
     "name": "stdout",
     "output_type": "stream",
     "text": [
      "torch.Size([2, 6, 6])\n"
     ]
    },
    {
     "data": {
      "text/plain": [
       "tensor([[[ True,  True, False,  True,  True,  True],\n",
       "         [ True,  True, False,  True,  True,  True],\n",
       "         [False, False, False, False, False, False],\n",
       "         [ True,  True, False,  True,  True,  True],\n",
       "         [ True,  True, False,  True,  True,  True],\n",
       "         [ True,  True, False,  True,  True,  True]],\n",
       "\n",
       "        [[False, False, False, False, False, False],\n",
       "         [False,  True,  True, False,  True,  True],\n",
       "         [False,  True,  True, False,  True,  True],\n",
       "         [False, False, False, False, False, False],\n",
       "         [False,  True,  True, False,  True,  True],\n",
       "         [False,  True,  True, False,  True,  True]]])"
      ]
     },
     "execution_count": 32,
     "metadata": {},
     "output_type": "execute_result"
    }
   ],
   "source": [
    "print((a*b).shape)\n",
    "a*b"
   ]
  },
  {
   "cell_type": "code",
   "execution_count": 41,
   "id": "4abda101",
   "metadata": {},
   "outputs": [
    {
     "data": {
      "text/plain": [
       "tensor([[ 0,  1,  2,  3],\n",
       "        [ 4,  5,  6,  7],\n",
       "        [ 8,  9, 10, 11],\n",
       "        [12, 13, 14, 15]])"
      ]
     },
     "execution_count": 41,
     "metadata": {},
     "output_type": "execute_result"
    }
   ],
   "source": [
    "##############################################################\n",
    "x = torch.arange(16).view(4, 4)\n",
    "x"
   ]
  },
  {
   "cell_type": "code",
   "execution_count": 42,
   "id": "9fef4ff5",
   "metadata": {},
   "outputs": [
    {
     "data": {
      "text/plain": [
       "tensor([[12, 13, 14, 15],\n",
       "        [ 8,  9, 10, 11],\n",
       "        [ 4,  5,  6,  7],\n",
       "        [ 0,  1,  2,  3]])"
      ]
     },
     "execution_count": 42,
     "metadata": {},
     "output_type": "execute_result"
    }
   ],
   "source": [
    "torch.flip(x, [0])"
   ]
  },
  {
   "cell_type": "code",
   "execution_count": 8,
   "id": "3ed13715",
   "metadata": {},
   "outputs": [
    {
     "name": "stdout",
     "output_type": "stream",
     "text": [
      "torch.Size([2, 4, 4])\n"
     ]
    },
    {
     "data": {
      "text/plain": [
       "tensor([[[ 0,  1,  2,  3],\n",
       "         [ 4,  5,  6,  7],\n",
       "         [ 8,  9, 10, 11],\n",
       "         [12, 13, 14, 15]],\n",
       "\n",
       "        [[16, 17, 18, 19],\n",
       "         [20, 21, 22, 23],\n",
       "         [24, 25, 26, 27],\n",
       "         [28, 29, 30, 31]]])"
      ]
     },
     "execution_count": 8,
     "metadata": {},
     "output_type": "execute_result"
    }
   ],
   "source": [
    "#######################################################\n",
    "x = torch.arange(32).view(2, 4, 4)\n",
    "print(x.shape)\n",
    "x"
   ]
  },
  {
   "cell_type": "code",
   "execution_count": 9,
   "id": "64035b9d",
   "metadata": {},
   "outputs": [
    {
     "data": {
      "text/plain": [
       "tensor([[[ 0,  1,  2,  3],\n",
       "         [ 0,  0,  0,  0],\n",
       "         [ 0,  0,  0,  0],\n",
       "         [12, 13, 14, 15]],\n",
       "\n",
       "        [[16, 17, 18, 19],\n",
       "         [ 0,  0,  0,  0],\n",
       "         [ 0,  0,  0,  0],\n",
       "         [28, 29, 30, 31]]])"
      ]
     },
     "execution_count": 9,
     "metadata": {},
     "output_type": "execute_result"
    }
   ],
   "source": [
    "# replace all values for indices 1 and 2 (along dim=1) with 0.\n",
    "x[:, [1,2]] = 0\n",
    "x"
   ]
  },
  {
   "cell_type": "code",
   "execution_count": null,
   "id": "632163ac",
   "metadata": {},
   "outputs": [],
   "source": []
  },
  {
   "cell_type": "code",
   "execution_count": null,
   "id": "d785c16e",
   "metadata": {},
   "outputs": [],
   "source": []
  }
 ],
 "metadata": {
  "kernelspec": {
   "display_name": "Python 3 (ipykernel)",
   "language": "python",
   "name": "python3"
  },
  "language_info": {
   "codemirror_mode": {
    "name": "ipython",
    "version": 3
   },
   "file_extension": ".py",
   "mimetype": "text/x-python",
   "name": "python",
   "nbconvert_exporter": "python",
   "pygments_lexer": "ipython3",
   "version": "3.7.12"
  }
 },
 "nbformat": 4,
 "nbformat_minor": 5
}
