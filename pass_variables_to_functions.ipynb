{
 "cells": [
  {
   "cell_type": "code",
   "execution_count": 1,
   "id": "a0c07da5",
   "metadata": {},
   "outputs": [
    {
     "name": "stdout",
     "output_type": "stream",
     "text": [
      "23\n",
      "[99, 42]\n",
      "[99]\n"
     ]
    }
   ],
   "source": [
    "def try_to_modify(x, y, z):\n",
    "    x = 23\n",
    "    y.append(42)\n",
    "    z = [99] # new reference\n",
    "    print(x)\n",
    "    print(y)\n",
    "    print(z)\n",
    "\n",
    "a = 77    # immutable variable\n",
    "b = [99]  # mutable variable\n",
    "c = [28]\n",
    "try_to_modify(a, b, c)\n",
    "# Immutable types (e.g., integers, strings, tuples) are effectively pass by value in Python because you can't \n",
    "#                                                                     modify them in-place within a function.\n",
    "\n",
    "\n",
    "# Mutable types (e.g., lists, dictionaries) are effectively pass by reference because changes made to them \n",
    "#                                                        within a function will affect the original object.\n",
    "\n",
    "# Parameters to functions are references to objects/values, which are passed by value. When you pass a variable to \n",
    "#                 a function, python passes the reference to the object to which the variable refers (the value). \n",
    "#                 Not the variable itself.\n",
    "\n",
    "# If the value passed in a function is immutable, the function does not modify the caller’s variable. If the \n",
    "#                                  value is mutable, the function may modify the caller’s variable in-place."
   ]
  },
  {
   "cell_type": "code",
   "execution_count": 2,
   "id": "cca49f9e",
   "metadata": {},
   "outputs": [
    {
     "name": "stdout",
     "output_type": "stream",
     "text": [
      "77\n",
      "[99, 42]\n",
      "[28]\n"
     ]
    }
   ],
   "source": [
    "print(a) # not changed\n",
    "print(b)\n",
    "print(c)"
   ]
  },
  {
   "cell_type": "code",
   "execution_count": 14,
   "id": "848f0fba",
   "metadata": {},
   "outputs": [
    {
     "data": {
      "text/plain": [
       "15"
      ]
     },
     "execution_count": 14,
     "metadata": {},
     "output_type": "execute_result"
    }
   ],
   "source": [
    "####################################################################\n",
    "x = 5\n",
    "\n",
    "# “global” variables cannot be modified within the function, unless declared global in the function.\n",
    "def addx(y):\n",
    "    return x + y\n",
    "addx(10)"
   ]
  },
  {
   "cell_type": "code",
   "execution_count": 18,
   "id": "baebf517",
   "metadata": {},
   "outputs": [
    {
     "name": "stdout",
     "output_type": "stream",
     "text": [
      "x is 10\n"
     ]
    },
    {
     "data": {
      "text/plain": [
       "5"
      ]
     },
     "execution_count": 18,
     "metadata": {},
     "output_type": "execute_result"
    }
   ],
   "source": [
    "def setx(y):\n",
    "    x = y\n",
    "    print('x is %d' %x)\n",
    "setx(10)\n",
    "x"
   ]
  },
  {
   "cell_type": "code",
   "execution_count": 19,
   "id": "7a511f48",
   "metadata": {},
   "outputs": [
    {
     "name": "stdout",
     "output_type": "stream",
     "text": [
      "x is 10\n"
     ]
    },
    {
     "data": {
      "text/plain": [
       "10"
      ]
     },
     "execution_count": 19,
     "metadata": {},
     "output_type": "execute_result"
    }
   ],
   "source": [
    "def setx_(y):\n",
    "    global x\n",
    "    x = y\n",
    "    print('x is %d' %x)\n",
    "setx_(10)\n",
    "x"
   ]
  },
  {
   "cell_type": "code",
   "execution_count": 26,
   "id": "732b5801",
   "metadata": {},
   "outputs": [
    {
     "name": "stdout",
     "output_type": "stream",
     "text": [
      "15\n"
     ]
    }
   ],
   "source": [
    "############################################################################3\n",
    " \n",
    "# function definition\n",
    "def calculateTotalSum(*arguments):\n",
    "    # type(arguments) => <class 'tuple'>\n",
    "    # arguments => (5, 4, 3, 2, 1)\n",
    "    totalSum = 0\n",
    "    for number in arguments:\n",
    "        totalSum += number\n",
    "    print(totalSum)\n",
    "    \n",
    "# function call\n",
    "calculateTotalSum(5, 4, 3, 2, 1)"
   ]
  },
  {
   "cell_type": "code",
   "execution_count": 24,
   "id": "e868d7e5",
   "metadata": {},
   "outputs": [
    {
     "name": "stdout",
     "output_type": "stream",
     "text": [
      "('argument1', 'Geeks')\n",
      "('argument2', 4)\n",
      "('argument3', 'Geeks')\n"
     ]
    }
   ],
   "source": [
    "# function definition\n",
    "def displayArgument(**arguments): \n",
    "    # type(arguments) => <class 'dict'>\n",
    "    # arguments => {'argument1': 'Geeks', 'argument2': 4, 'argument3': 'Geeks'}\n",
    "    for arg in arguments.items():\n",
    "        print(arg)\n",
    "        \n",
    "# function call\n",
    "displayArgument(argument1 =\"Geeks\", argument2 = 4, argument3 =\"Geeks\")"
   ]
  },
  {
   "cell_type": "code",
   "execution_count": 34,
   "id": "03bb19fa",
   "metadata": {},
   "outputs": [
    {
     "name": "stdout",
     "output_type": "stream",
     "text": [
      "15\n",
      "x is 300\n"
     ]
    },
    {
     "data": {
      "text/plain": [
       "10"
      ]
     },
     "execution_count": 34,
     "metadata": {},
     "output_type": "execute_result"
    }
   ],
   "source": [
    "########################################################################\n",
    "z=10\n",
    "def setx_v(z):\n",
    "    print(z)\n",
    "    y = z*20\n",
    "    print('x is %d' %y)\n",
    "setx_v(15)\n",
    "z"
   ]
  },
  {
   "cell_type": "code",
   "execution_count": 33,
   "id": "4206dd66",
   "metadata": {},
   "outputs": [
    {
     "name": "stdout",
     "output_type": "stream",
     "text": [
      "16\n",
      "x is 1600\n"
     ]
    },
    {
     "data": {
      "text/plain": [
       "16"
      ]
     },
     "execution_count": 33,
     "metadata": {},
     "output_type": "execute_result"
    }
   ],
   "source": [
    "z=16\n",
    "def setx_v_(z):\n",
    "    print(z)\n",
    "    z = z*100\n",
    "    print('x is %d' %z)\n",
    "setx_v_(z)\n",
    "z"
   ]
  },
  {
   "cell_type": "code",
   "execution_count": 35,
   "id": "5b431e6f",
   "metadata": {},
   "outputs": [
    {
     "ename": "UnboundLocalError",
     "evalue": "local variable 'var' referenced before assignment",
     "output_type": "error",
     "traceback": [
      "\u001b[0;31m---------------------------------------------------------------------------\u001b[0m",
      "\u001b[0;31mUnboundLocalError\u001b[0m                         Traceback (most recent call last)",
      "Cell \u001b[0;32mIn[35], line 6\u001b[0m\n\u001b[1;32m      3\u001b[0m \u001b[38;5;28;01mdef\u001b[39;00m \u001b[38;5;21mincrement\u001b[39m():\n\u001b[1;32m      4\u001b[0m     var \u001b[38;5;241m=\u001b[39m var \u001b[38;5;241m+\u001b[39m \u001b[38;5;241m1\u001b[39m  \u001b[38;5;66;03m# Try to update a global variable\u001b[39;00m\n\u001b[0;32m----> 6\u001b[0m \u001b[43mincrement\u001b[49m\u001b[43m(\u001b[49m\u001b[43m)\u001b[49m\n",
      "Cell \u001b[0;32mIn[35], line 4\u001b[0m, in \u001b[0;36mincrement\u001b[0;34m()\u001b[0m\n\u001b[1;32m      3\u001b[0m \u001b[38;5;28;01mdef\u001b[39;00m \u001b[38;5;21mincrement\u001b[39m():\n\u001b[0;32m----> 4\u001b[0m     var \u001b[38;5;241m=\u001b[39m \u001b[43mvar\u001b[49m \u001b[38;5;241m+\u001b[39m \u001b[38;5;241m1\u001b[39m\n",
      "\u001b[0;31mUnboundLocalError\u001b[0m: local variable 'var' referenced before assignment"
     ]
    }
   ],
   "source": [
    "##########################################################################\n",
    "var = 100  # A global variable\n",
    "def increment():\n",
    "    var = var + 1  # Try to update a global variable\n",
    "\n",
    "increment()"
   ]
  },
  {
   "cell_type": "code",
   "execution_count": 73,
   "id": "fc6442fa",
   "metadata": {},
   "outputs": [
    {
     "data": {
      "text/plain": [
       "1"
      ]
     },
     "execution_count": 73,
     "metadata": {},
     "output_type": "execute_result"
    }
   ],
   "source": [
    "var = 100  # A global variable\n",
    "def increment_():\n",
    "    var = 0\n",
    "    var = var + 1  # Try to update a global variable\n",
    "    return var\n",
    "\n",
    "increment_()"
   ]
  },
  {
   "cell_type": "code",
   "execution_count": 42,
   "id": "5298ad5d",
   "metadata": {},
   "outputs": [
    {
     "name": "stdout",
     "output_type": "stream",
     "text": [
      "200\n"
     ]
    }
   ],
   "source": [
    "def func():\n",
    "    var_ = 100  # a nonlocal variable - nonlocal to nested()             # immutable\n",
    "    def nested():\n",
    "        #  nonlocal statement causes the listed identifiers to refer to previously bound variables in the nearest \n",
    "        #                                                                      enclosing scope excluding globals.\n",
    "        nonlocal var_  # declare var as nonlocal\n",
    "        var_ += 100\n",
    "\n",
    "    nested()\n",
    "    print(var_)\n",
    "\n",
    "func()"
   ]
  },
  {
   "cell_type": "code",
   "execution_count": 44,
   "id": "39ff25fe",
   "metadata": {},
   "outputs": [
    {
     "ename": "SyntaxError",
     "evalue": "nonlocal declaration not allowed at module level (604811989.py, line 2)",
     "output_type": "error",
     "traceback": [
      "\u001b[0;36m  Cell \u001b[0;32mIn[44], line 2\u001b[0;36m\u001b[0m\n\u001b[0;31m    nonlocal my_var\u001b[0m\n\u001b[0m    ^\u001b[0m\n\u001b[0;31mSyntaxError\u001b[0m\u001b[0;31m:\u001b[0m nonlocal declaration not allowed at module level\n"
     ]
    }
   ],
   "source": [
    "# Unlike global, you can’t use nonlocal outside of a enclosed function. \n",
    "nonlocal my_var"
   ]
  },
  {
   "cell_type": "code",
   "execution_count": 49,
   "id": "1fb3ff2e",
   "metadata": {},
   "outputs": [
    {
     "ename": "SyntaxError",
     "evalue": "no binding for nonlocal 'var' found (175396458.py, line 3)",
     "output_type": "error",
     "traceback": [
      "\u001b[0;36m  Cell \u001b[0;32mIn[49], line 3\u001b[0;36m\u001b[0m\n\u001b[0;31m    nonlocal var  # Try to use nonlocal in a local scope\u001b[0m\n\u001b[0m    ^\u001b[0m\n\u001b[0;31mSyntaxError\u001b[0m\u001b[0;31m:\u001b[0m no binding for nonlocal 'var' found\n"
     ]
    }
   ],
   "source": [
    "# Unlike global, you can’t use nonlocal outside of a nested function. \n",
    "def func_():\n",
    "    nonlocal var  # Try to use nonlocal in a local scope\n",
    "    print(var)"
   ]
  },
  {
   "cell_type": "code",
   "execution_count": 50,
   "id": "f207464e",
   "metadata": {},
   "outputs": [
    {
     "ename": "SyntaxError",
     "evalue": "no binding for nonlocal 'lazy_var' found (2442822696.py, line 3)",
     "output_type": "error",
     "traceback": [
      "\u001b[0;36m  Cell \u001b[0;32mIn[50], line 3\u001b[0;36m\u001b[0m\n\u001b[0;31m    nonlocal lazy_var  # Try to create a nonlocal lazy name\u001b[0m\n\u001b[0m    ^\u001b[0m\n\u001b[0;31mSyntaxError\u001b[0m\u001b[0;31m:\u001b[0m no binding for nonlocal 'lazy_var' found\n"
     ]
    }
   ],
   "source": [
    "def func_1():\n",
    "    def nested():\n",
    "        nonlocal lazy_var  # Try to create a nonlocal lazy name\n"
   ]
  },
  {
   "cell_type": "code",
   "execution_count": 51,
   "id": "d0a3eb10",
   "metadata": {},
   "outputs": [
    {
     "name": "stdout",
     "output_type": "stream",
     "text": [
      "{'arg': 300, 'var': 100}\n"
     ]
    }
   ],
   "source": [
    "def func_2(arg):\n",
    "    var = 100\n",
    "    print(locals())\n",
    "    another = 200\n",
    "\n",
    "func_2(300)"
   ]
  },
  {
   "cell_type": "code",
   "execution_count": null,
   "id": "95bbd45a",
   "metadata": {},
   "outputs": [],
   "source": []
  },
  {
   "cell_type": "code",
   "execution_count": 60,
   "id": "57c6efbd",
   "metadata": {},
   "outputs": [
    {
     "name": "stdout",
     "output_type": "stream",
     "text": [
      "[('__name__', '__main__'), ('__doc__', 'Automatically created module for IPython interactive environment'), ('__package__', None), ('__loader__', None), ('__spec__', None)]\n"
     ]
    },
    {
     "data": {
      "text/plain": [
       "True"
      ]
     },
     "execution_count": 60,
     "metadata": {},
     "output_type": "execute_result"
    }
   ],
   "source": [
    "print( list(locals().items())[:5] )\n",
    "locals() is globals()"
   ]
  },
  {
   "cell_type": "code",
   "execution_count": 53,
   "id": "f0508531",
   "metadata": {},
   "outputs": [
    {
     "name": "stdout",
     "output_type": "stream",
     "text": [
      "100\n"
     ]
    }
   ],
   "source": [
    "# locals() is only useful for read operations since updates to the locals dictionary are ignored by Python.\n",
    "def func_3():\n",
    "    var = 100    \n",
    "    locals()['var'] = 200\n",
    "    print(var)\n",
    "\n",
    "func_3()\n"
   ]
  },
  {
   "cell_type": "code",
   "execution_count": 61,
   "id": "dfec9cf3",
   "metadata": {},
   "outputs": [
    {
     "data": {
      "text/plain": [
       "[('__name__', '__main__'),\n",
       " ('__doc__',\n",
       "  'Automatically created module for IPython interactive environment'),\n",
       " ('__package__', None),\n",
       " ('__loader__', None),\n",
       " ('__spec__', None)]"
      ]
     },
     "execution_count": 61,
     "metadata": {},
     "output_type": "execute_result"
    }
   ],
   "source": [
    "list(globals().items())[:5]"
   ]
  },
  {
   "cell_type": "code",
   "execution_count": 63,
   "id": "73acd792",
   "metadata": {},
   "outputs": [
    {
     "data": {
      "text/plain": [
       "'Docstring for __main__ .'"
      ]
     },
     "execution_count": 63,
     "metadata": {},
     "output_type": "execute_result"
    }
   ],
   "source": [
    "globals()['__doc__'] = \"\"\"Docstring for __main__ .\"\"\"\n",
    "__doc__"
   ]
  },
  {
   "cell_type": "code",
   "execution_count": 66,
   "id": "4b2e7a5d",
   "metadata": {},
   "outputs": [
    {
     "name": "stdout",
     "output_type": "stream",
     "text": [
      "100\n"
     ]
    },
    {
     "data": {
      "text/plain": [
       "400"
      ]
     },
     "execution_count": 66,
     "metadata": {},
     "output_type": "execute_result"
    }
   ],
   "source": [
    "def power_factory(exp):\n",
    "    # returns closures (an inner function).\n",
    "    def power(base):\n",
    "        return base ** exp\n",
    "    return power\n",
    "\n",
    "square = power_factory(2)\n",
    "print(square(10))\n",
    "square(20)"
   ]
  },
  {
   "cell_type": "code",
   "execution_count": 65,
   "id": "5182db2c",
   "metadata": {},
   "outputs": [
    {
     "data": {
      "text/plain": [
       "<function __main__.power_factory.<locals>.power(base)>"
      ]
     },
     "execution_count": 65,
     "metadata": {},
     "output_type": "execute_result"
    }
   ],
   "source": [
    "power_factory(4)"
   ]
  },
  {
   "cell_type": "code",
   "execution_count": 67,
   "id": "4801fcb4",
   "metadata": {},
   "outputs": [
    {
     "name": "stdout",
     "output_type": "stream",
     "text": [
      "27\n"
     ]
    },
    {
     "data": {
      "text/plain": [
       "64"
      ]
     },
     "execution_count": 67,
     "metadata": {},
     "output_type": "execute_result"
    }
   ],
   "source": [
    "cube = power_factory(3)\n",
    "print(cube(3))\n",
    "cube(4)"
   ]
  },
  {
   "cell_type": "code",
   "execution_count": 68,
   "id": "2429336d",
   "metadata": {},
   "outputs": [
    {
     "name": "stdout",
     "output_type": "stream",
     "text": [
      "10.0\n",
      "12.5\n",
      "12.333333333333334\n",
      "12.0\n"
     ]
    },
    {
     "data": {
      "text/plain": [
       "12.2"
      ]
     },
     "execution_count": 68,
     "metadata": {},
     "output_type": "execute_result"
    }
   ],
   "source": [
    "##############################################################\n",
    "def mean():\n",
    "    sample = []\n",
    "    def _mean(number):\n",
    "        sample.append(number)\n",
    "        return sum(sample) / len(sample)\n",
    "    return _mean\n",
    "\n",
    "current_mean = mean()\n",
    "print(current_mean(10))\n",
    "print(current_mean(15))\n",
    "print(current_mean(12))\n",
    "print(current_mean(11))\n",
    "current_mean(13)"
   ]
  },
  {
   "cell_type": "code",
   "execution_count": 72,
   "id": "4f047ba3",
   "metadata": {},
   "outputs": [
    {
     "name": "stdout",
     "output_type": "stream",
     "text": [
      "10.0\n",
      "12.5\n",
      "12.333333333333334\n",
      "12.0\n"
     ]
    },
    {
     "data": {
      "text/plain": [
       "12.2"
      ]
     },
     "execution_count": 72,
     "metadata": {},
     "output_type": "execute_result"
    }
   ],
   "source": [
    "##################################################3\n",
    "def mean_():\n",
    "    total = 0\n",
    "    length = 0\n",
    "    def _mean(number):\n",
    "        nonlocal total, length\n",
    "        total += number\n",
    "        length += 1\n",
    "        return total / length\n",
    "    return _mean\n",
    "\n",
    "current_mean = mean_()\n",
    "print(current_mean(10))\n",
    "print(current_mean(15))\n",
    "print(current_mean(12))\n",
    "print(current_mean(11))\n",
    "current_mean(13)"
   ]
  },
  {
   "cell_type": "code",
   "execution_count": null,
   "id": "fa07e76f",
   "metadata": {},
   "outputs": [],
   "source": []
  }
 ],
 "metadata": {
  "kernelspec": {
   "display_name": "Python 3 (ipykernel)",
   "language": "python",
   "name": "python3"
  },
  "language_info": {
   "codemirror_mode": {
    "name": "ipython",
    "version": 3
   },
   "file_extension": ".py",
   "mimetype": "text/x-python",
   "name": "python",
   "nbconvert_exporter": "python",
   "pygments_lexer": "ipython3",
   "version": "3.8.17"
  }
 },
 "nbformat": 4,
 "nbformat_minor": 5
}
