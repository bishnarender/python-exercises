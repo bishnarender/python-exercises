{
 "cells": [
  {
   "cell_type": "markdown",
   "id": "3ab059cc",
   "metadata": {},
   "source": [
    "https://www.geeksforgeeks.org/python-programming-examples/\n",
    "\n",
    "https://github.com/Sachin-D-N/Python_solved_problems/tree/master/Python_Problem_Practise"
   ]
  },
  {
   "cell_type": "code",
   "execution_count": 1,
   "id": "a7b5a566",
   "metadata": {},
   "outputs": [],
   "source": [
    "import time\n",
    "import itertools\n",
    "import numpy as np\n",
    "from bitarray import bitarray"
   ]
  },
  {
   "cell_type": "code",
   "execution_count": 20,
   "id": "f068394d",
   "metadata": {},
   "outputs": [
    {
     "name": "stdout",
     "output_type": "stream",
     "text": [
      "[28, 29, 29, 30, 31]\n",
      "{28, 29, 30, 31}\n",
      "[28, 29, 30, 31]\n",
      "[28, 29, 29, 30, 31]\n"
     ]
    }
   ],
   "source": [
    "# sorting of numbers present as dictionary values.\n",
    "dict_={\"hari\":29,\"mani\":30,\"siva\":29,\"ganesh\":28,\"tirupati\":31}\n",
    "\n",
    "# sorted; returns list\n",
    "b=sorted(dict_.values())\n",
    "print( b )\n",
    "# b => [28, 29, 29, 30, 31]\n",
    "\n",
    "print( set(b) )\n",
    "# => {28, 29, 30, 31}\n",
    "\n",
    "print( list(set(b)) )\n",
    "# => [28, 29, 30, 31]\n",
    "\n",
    "_ = b.sort()\n",
    "print( b )\n",
    "# => [28, 29, 29, 30, 31]\n",
    "\n"
   ]
  },
  {
   "cell_type": "code",
   "execution_count": 30,
   "id": "c6c6f327",
   "metadata": {},
   "outputs": [
    {
     "name": "stdout",
     "output_type": "stream",
     "text": [
      "['Python', 'is', 'great', 'and', 'Java', 'is', 'also', 'great']\n",
      "{'Python': None, 'is': None, 'great': None, 'and': None, 'Java': None, 'also': None}\n",
      "{'also', 'Java', 'is', 'Python', 'great', 'and'}\n",
      "Python is great and Java also\n"
     ]
    }
   ],
   "source": [
    "# remove duplicate/copy of word in sentence.\n",
    "str_=\"Python is great and Java is also great\"\n",
    "\n",
    "a=str_.split(\" \") # it splits and converts the string in to direct list.\n",
    "print(a)\n",
    "# => ['Python', 'is', 'great', 'and', 'Java', 'is', 'also', 'great']\n",
    "\n",
    "print(dict.fromkeys(a))\n",
    "# => {'Python': None, 'is': None, 'great': None, 'and': None, 'Java': None, 'also': None}\n",
    "\n",
    "print( set(a) )\n",
    "# => {'also', 'Java', 'is', 'Python', 'great', 'and'}\n",
    "\n",
    "print(\" \".join(dict.fromkeys(a)))"
   ]
  },
  {
   "cell_type": "code",
   "execution_count": 40,
   "id": "623ada25",
   "metadata": {},
   "outputs": [
    {
     "name": "stdout",
     "output_type": "stream",
     "text": [
      "[40, 70, 40, 80, 50]\n",
      "{40, 50, 80, 70}\n",
      "['sachin', 50]\n"
     ]
    }
   ],
   "source": [
    "# print the 2nd grade of the students\n",
    "g_ = 2 # 2nd grade\n",
    "list_=[[\"hari\",40],[\"banu\",70],[\"bavani\",40],[\"sachin\",80],[\"sachin\",50]]\n",
    "\n",
    "lt_=[]\n",
    "for i in list_:\n",
    "    lt_.append(i[1])\n",
    "    \n",
    "print(lt_)\n",
    "# => [40, 70, 40, 80, 50]\n",
    "\n",
    "lt_=set(lt_)\n",
    "print(lt_)\n",
    "# => {40, 50, 80, 70}\n",
    "\n",
    "for i in list_:\n",
    "    if i[1]==list(lt_)[g_-1]:\n",
    "        print(i)"
   ]
  },
  {
   "cell_type": "markdown",
   "id": "5d32558a",
   "metadata": {},
   "source": [
    "## What is Lambda Function in Python?\n",
    "> A Lambda Function is a small anonymous function. A lambda function can take any number of arguments, but can only have one expression.\n"
   ]
  },
  {
   "cell_type": "code",
   "execution_count": 42,
   "id": "1704bc7c",
   "metadata": {},
   "outputs": [
    {
     "name": "stdout",
     "output_type": "stream",
     "text": [
      "[15, 14, 13, 12, 11, 10]\n",
      "Using .reverse()  [15, 14, 13, 12, 11, 10]\n"
     ]
    }
   ],
   "source": [
    "# reversing a list using slicing technique\n",
    "def Reverse(lst):\n",
    "    new_lst = lst[::-1]\n",
    "    return new_lst\n",
    " \n",
    "lst = [10, 11, 12, 13, 14, 15]\n",
    "print(Reverse(lst))\n",
    "\n",
    "# OR ==========================\n",
    "lst.reverse()\n",
    "print(\"Using .reverse() \", lst)"
   ]
  },
  {
   "cell_type": "code",
   "execution_count": 12,
   "id": "206bdc22",
   "metadata": {},
   "outputs": [
    {
     "name": "stdout",
     "output_type": "stream",
     "text": [
      "enter the no. of rotations : 7\n",
      "rotation no.  1  => [2, 3, 4, 5, 1]\n",
      "rotation no.  2  => [3, 4, 5, 1, 2]\n",
      "rotation no.  3  => [4, 5, 1, 2, 3]\n",
      "rotation no.  4  => [5, 1, 2, 3, 4]\n",
      "rotation no.  5  => [1, 2, 3, 4, 5]\n",
      "rotation no.  6  => [2, 3, 4, 5, 1]\n",
      "rotation no.  7  => [3, 4, 5, 1, 2]\n"
     ]
    }
   ],
   "source": [
    "# rotate the numbers clockwise.\n",
    "n=[1,2,3,4,5]\n",
    "l=int(input(\"enter the no. of rotations : \"))\n",
    "for i in range(1,l+1):    \n",
    "    # n[-j:] => # returns list of j numbers from the end.\n",
    "    # n[:j] => # returns list of j numbers from start.    \n",
    "    n = n[-len(n)+1:] + n[:1]\n",
    "    print(\"rotation no. \",i, \" =>\", n)\n",
    "    \n",
    "# check the every element of every list from up to down => feel like clockwise."
   ]
  },
  {
   "cell_type": "code",
   "execution_count": 10,
   "id": "7ec69148",
   "metadata": {},
   "outputs": [
    {
     "name": "stdout",
     "output_type": "stream",
     "text": [
      "enter the no. of rotations : 7\n",
      "rotation no.  1  => [5, 1, 2, 3, 4]\n",
      "rotation no.  2  => [4, 5, 1, 2, 3]\n",
      "rotation no.  3  => [3, 4, 5, 1, 2]\n",
      "rotation no.  4  => [2, 3, 4, 5, 1]\n",
      "rotation no.  5  => [1, 2, 3, 4, 5]\n",
      "rotation no.  6  => [5, 1, 2, 3, 4]\n",
      "rotation no.  7  => [4, 5, 1, 2, 3]\n"
     ]
    }
   ],
   "source": [
    "# rotate the numbers anti-clockwise.\n",
    "n=[1,2,3,4,5]\n",
    "l=int(input(\"enter the no. of rotations : \"))\n",
    "for i in range(1,l+1):    \n",
    "    n = n[-1:] + n[:len(n)-1]\n",
    "    print(\"rotation no. \",i, \" =>\", n)\n",
    "    \n",
    "# check the every element of every list from up to down => feel like anti-clockwise."
   ]
  },
  {
   "cell_type": "code",
   "execution_count": 4,
   "id": "1ea5a38c",
   "metadata": {},
   "outputs": [
    {
     "name": "stdout",
     "output_type": "stream",
     "text": [
      "[4, 5, 6, 1, 2, 3]\n"
     ]
    }
   ],
   "source": [
    "# right rotating a list by picking n positions from the end.\n",
    "n = 3\n",
    "list_1 = [1, 2, 3, 4, 5, 6]\n",
    "\n",
    "if n>len(list_1):\n",
    "    n = int(n%len(list_1))# % returns remainder. i.e., 1 % 5 = 1\n",
    "    \n",
    "# list_1[-n:] => # returns list of n numbers from the end.\n",
    "# list_1[:-n] => # returns list from start, leaving n numbers from the end.\n",
    "list_1 = list_1[-n:] + list_1[:-n]\n",
    " \n",
    "print(list_1)"
   ]
  },
  {
   "cell_type": "code",
   "execution_count": 23,
   "id": "d090b248",
   "metadata": {},
   "outputs": [
    {
     "name": "stdout",
     "output_type": "stream",
     "text": [
      "Original List:  [1, 2, 4, 2, 1, 4, 5]\n",
      "List after removing duplicate elements:  [1, 2, 4, 5]\n"
     ]
    }
   ],
   "source": [
    "# duplicate remove using lists;\n",
    "       \n",
    "l = [1, 2, 4, 2, 1, 4, 5]\n",
    "print(\"Original List: \", l)\n",
    "# type( set(l) ) => <class 'set'>\n",
    "# set(l) => {1, 2, 4, 5}\n",
    "# *set(l) => 1 2 4 5\n",
    "res = [*set(l)]\n",
    "print(\"List after removing duplicate elements: \", res)        "
   ]
  },
  {
   "cell_type": "code",
   "execution_count": 26,
   "id": "a7ca45bc",
   "metadata": {},
   "outputs": [
    {
     "name": "stdout",
     "output_type": "stream",
     "text": [
      "['hello', 2, 3, 4, 6, 5]\n"
     ]
    }
   ],
   "source": [
    "# OR =====================================\n",
    "mylist = [\"hello\", 2 ,\"hello\", 3, 4,6,5,5, 5]\n",
    "\n",
    "# dict.fromkeys(mylist) => {'hello': None, 2: None, 3: None, 4: None, 6: None, 5: None}\n",
    "mylist = list(dict.fromkeys(mylist))\n",
    "print(mylist)"
   ]
  },
  {
   "cell_type": "code",
   "execution_count": 37,
   "id": "2c681337",
   "metadata": {},
   "outputs": [
    {
     "name": "stdout",
     "output_type": "stream",
     "text": [
      "[1, 1, 2, 3]\n",
      "[1, 2, 3]\n",
      "[1, 3]\n"
     ]
    }
   ],
   "source": [
    "b=[1,2,3,1]\n",
    "_ = b.sort()\n",
    "print(b)\n",
    "# => [1, 1, 2, 3]\n",
    "\n",
    "del b[0]\n",
    "_ = b.sort()\n",
    "print(b)\n",
    "# => [1, 2, 3]\n",
    "\n",
    "_ = b.remove(2) # remove the number '2' from the list.\n",
    "print(b)"
   ]
  },
  {
   "cell_type": "code",
   "execution_count": 1,
   "id": "a3d79ea9",
   "metadata": {},
   "outputs": [
    {
     "name": "stdout",
     "output_type": "stream",
     "text": [
      "element...26\n",
      "modulus...2\n",
      "\n",
      "modulus by... 3\n",
      "modulus by... 4\n",
      "modulus by... 6\n",
      "modulus by... 8\n",
      "modulus by... 12\n",
      "modulus by... 24\n",
      "possible values of x ... [3, 4, 6, 8, 12, 24]\n"
     ]
    }
   ],
   "source": [
    "# number of solutions to modular equations.\n",
    "# (a % x) = b => % (modulo operator)\n",
    "\n",
    "a=int(input(\"element...\",))\n",
    "b=int(input(\"modulus...\",))\n",
    "print('')\n",
    "l=[]\n",
    "for x in range(1,a):\n",
    "    if a%x==b:\n",
    "        print(\"modulus by...\",x)\n",
    "        l.append(x)\n",
    "print(\"possible values of x ...\",l)"
   ]
  },
  {
   "cell_type": "code",
   "execution_count": 9,
   "id": "6b9f5fe8",
   "metadata": {},
   "outputs": [
    {
     "name": "stdout",
     "output_type": "stream",
     "text": [
      "enter the number ...256\n",
      "enter the base ...16\n",
      "count of zeros in base-form (16) is 2\n"
     ]
    }
   ],
   "source": [
    "# Check whether a \"decimal number\" has consecutive 0’s in the given base-form or not.\n",
    "\n",
    "n=int(input(\"enter the number ...\",))\n",
    "k=int(input(\"enter the base ...\", ))\n",
    "\n",
    "if k==2:    \n",
    "    # bin(n) => binary of n.\n",
    "    # bin(16) => 0b10000\n",
    "    # type( bin(16) ) => <class 'str'>\n",
    "    b=bin(n)[2::] # select characters on or after 2 in string.\n",
    "    # b => 10000\n",
    "    \n",
    "    # b.count('0') => count 0's in string 'b'.\n",
    "    print(\"count of zeros in base-form ({}) is {}\".format(k, b.count('0')))\n",
    "\n",
    "elif k==8:\n",
    "    # hex(16) => 0x10\n",
    "    b=hex(n)[2::]    \n",
    "    print(\"count of zeros in base-form ({}) is {}\".format(k, b.count('0')))\n",
    "\n",
    "elif k==16:\n",
    "    b=oct(n)[2::]    \n",
    "    print(\"count of zeros in base-form ({}) is {}\".format(k, b.count('0')))\n",
    "else:\n",
    "    print(\"wrong k notation\")"
   ]
  },
  {
   "cell_type": "code",
   "execution_count": 13,
   "id": "18fa9eba",
   "metadata": {},
   "outputs": [
    {
     "name": "stdout",
     "output_type": "stream",
     "text": [
      "Enter the number-->128\n"
     ]
    },
    {
     "data": {
      "text/plain": [
       "('All the digits of number can divide the number', 128)"
      ]
     },
     "execution_count": 13,
     "metadata": {},
     "output_type": "execute_result"
    }
   ],
   "source": [
    "# given a number n, find whether all digits of n divide it or not.\n",
    "def digit_divisible(n):\n",
    "    s=str(n)\n",
    "    flag=True\n",
    "    for i in s:\n",
    "        if n%int(i)==0:\n",
    "            continue\n",
    "        else:\n",
    "            flag=False\n",
    "    if flag:\n",
    "        return 'All the digits of number can divide the number', n\n",
    "    else:\n",
    "        return 'All the digits of number cannot divide the number',n\n",
    "\n",
    "digit_divisible(int(input('Enter the number-->')))"
   ]
  },
  {
   "cell_type": "code",
   "execution_count": 26,
   "id": "dcff57a9",
   "metadata": {},
   "outputs": [
    {
     "name": "stdout",
     "output_type": "stream",
     "text": [
      "The string after replacing ===> India is best . It has many states . It can help other countries to grow.\n"
     ]
    }
   ],
   "source": [
    "# replace duplicate/copy from string leaving first one i.e, from second occurrence. \n",
    "\n",
    "test_str = 'India is best . India has many states . India can help other countries to grow.'\n",
    " \n",
    "# initializing replace mapping.\n",
    "repl_dict = {'India' : 'It', 'other' : 'rest of' }\n",
    "\n",
    "test_list = test_str.split(' ')\n",
    "# test_list =>\n",
    "# ['India', 'is', 'best', '.', 'India', 'has', 'many', 'states', '.', 'India', 'can', 'help', 'other', 'countries', 'to', 'grow.']\n",
    "\n",
    "\n",
    "# list comprehension offers a shorter syntax to complete all with only one line of code.\n",
    "# test_list.index(val) => get index from \"test_list\" list where value is \"val\".\n",
    "res = ' '.join([repl_dict[val] if val in repl_dict.keys() and test_list.index(val) != idx else val for idx, val in enumerate(test_list)])\n",
    " \n",
    "# printing result\n",
    "print(\"The string after replacing ===> \" + str(res))"
   ]
  },
  {
   "cell_type": "code",
   "execution_count": 25,
   "id": "93f44cac",
   "metadata": {},
   "outputs": [
    {
     "name": "stdout",
     "output_type": "stream",
     "text": [
      "hi hi hi kavya hi father hi hi x\n"
     ]
    }
   ],
   "source": [
    "# replace multiple words with K.\n",
    "\n",
    "a=\"my name is kavya my father name is x\"\n",
    "b=[\"my\",\"name\",\"is\"]\n",
    "for i in b:\n",
    "    a=a.replace(i,\"hi\")\n",
    "print(a)"
   ]
  },
  {
   "cell_type": "code",
   "execution_count": 196,
   "id": "7ed49727",
   "metadata": {},
   "outputs": [
    {
     "name": "stdout",
     "output_type": "stream",
     "text": [
      "[ 2  3  5  7 11 13 17 19 23 29]\n",
      "Wall time: 0 ns\n"
     ]
    }
   ],
   "source": [
    "%%time\n",
    "# list all primes number below n\n",
    "def bit_primes(n):\n",
    "    # 30 // 3 => 10\n",
    "    # 30 % 6 == 2 => False\n",
    "    # 30 // 3 + (30 % 6 == 2) => 10\n",
    "    # 10 + False, 10 + True => 10, 11\n",
    "    # bitarray( 10 ) => creates an random array of bits of size 10.\n",
    "    bit_sieve = bitarray(n // 3 + (n % 6 == 2))\n",
    "    # bit_sieve => bitarray('0000000000')\n",
    "    # type(bit_sieve) => <class 'bitarray.bitarray'>\n",
    "    \n",
    "    bit_sieve.setall(1)\n",
    "    # bit_sieve => bitarray('1111111111')\n",
    "    \n",
    "    bit_sieve[0] = False\n",
    "    # bit_sieve => bitarray('0111111111')\n",
    "    \n",
    "    # 30 ** 0.5 => 30 power 0.5.\n",
    "    # int(30 ** 0.5) // 3 + 1 => 2\n",
    "    for i in range(int(n ** 0.5) // 3 + 1):\n",
    "        if bit_sieve[i]:\n",
    "            \"\"\"\n",
    "            The | (OR) operator performs bit-wise addition (1+1=1, 0+1=1, 0+0=0):\n",
    "            \n",
    "            6 | 3 => 7\n",
    "            6 = 0000000000000110\n",
    "            3 = 0000000000000011\n",
    "            --------------------\n",
    "            7 = 0000000000000111\n",
    "            ====================\n",
    "\n",
    "            Decimal numbers and their binary values:\n",
    "            0 = 0000000000000000\n",
    "            1 = 0000000000000001\n",
    "            2 = 0000000000000010\n",
    "            3 = 0000000000000011\n",
    "            4 = 0000000000000100\n",
    "            5 = 0000000000000101\n",
    "            6 = 0000000000000110\n",
    "            7 = 0000000000000111\n",
    "            \"\"\"            \n",
    "            k = 3 * i + 1 | 1 # OR operation is performed after BODMAS.\n",
    "            # k => 5\n",
    "            bit_sieve[k * k // 3::2 * k] = False\n",
    "            # bit_sieve => bitarray('0111111101')\n",
    "            bit_sieve[(k * k + 4 * k - 2 * k * (i & 1)) // 3::2 * k] = False\n",
    "            # bit_sieve => bitarray('0111111101')\n",
    "    \n",
    "    # bit_sieve.tobytes() => b'\\x7f@'\n",
    "    # np.frombuffer(bit_sieve.tobytes(), dtype=np.uint8) => [127  64]\n",
    "    # np.unpackbits(np.frombuffer(bit_sieve.tobytes(), dtype=np.uint8)) => [0 1 1 1 1 1 1 1 0 1 0 0 0 0 0 0]\n",
    "    np_sieve = np.unpackbits(np.frombuffer(bit_sieve.tobytes(), dtype=np.uint8)).view(bool)\n",
    "    # np_sieve => [False  True  True  True  True  True  True  True False  True False False False False False False]\n",
    "    # np.flatnonzero(np_sieve) => [1 2 3 4 5 6 7 9]\n",
    "    # 3 * np.flatnonzero(np_sieve) + 1 | 1 => [ 5  7 11 13 17 19 23 29]\n",
    "    return np.concatenate(((2, 3), (3 * np.flatnonzero(np_sieve) + 1 | 1)))\n",
    "\n",
    "print(bit_primes(30))"
   ]
  },
  {
   "cell_type": "code",
   "execution_count": null,
   "id": "3964e562",
   "metadata": {},
   "outputs": [],
   "source": []
  },
  {
   "cell_type": "code",
   "execution_count": 223,
   "id": "797f5bf7",
   "metadata": {},
   "outputs": [
    {
     "name": "stdout",
     "output_type": "stream",
     "text": [
      "[2, 2, 2, 2, 2, 2]\n",
      "Wall time: 0 ns\n"
     ]
    }
   ],
   "source": [
    "%%time\n",
    "# prime factors of a number.\n",
    "def prime_factors(n):\n",
    "    i = 2\n",
    "    factors = []\n",
    "    while i * i <= n:\n",
    "        # different values taken by n % i => 0 0 0 1\n",
    "        if n % i:\n",
    "            i += 1\n",
    "        else:\n",
    "            n //= i\n",
    "            factors.append(i)\n",
    "    if n > 1:\n",
    "        factors.append(n)\n",
    "    return factors\n",
    "\n",
    "print(prime_factors(64))"
   ]
  },
  {
   "cell_type": "code",
   "execution_count": 5,
   "id": "ab1034b1",
   "metadata": {},
   "outputs": [
    {
     "name": "stdout",
     "output_type": "stream",
     "text": [
      "True\n"
     ]
    }
   ],
   "source": [
    "# Check if one string is a rotation of other string\n",
    "\n",
    "def is_rotation(s1, s2):\n",
    "    # 2*s2 => tackoverflowstackoverflows\n",
    "    return len(s1) ==len(s2) and s1 in 2*s2\n",
    "\n",
    "s1 = \"stackoverflow\"\n",
    "\n",
    "# s2 = \"stackoverflwo\" # Should return False\n",
    "s2 = \"tackoverflows\" # Should return True\n",
    "# s2 = \"ackoverflowst\" # Should return True\n",
    "# s2 = \"overflowstack\" # Should return True\n",
    "\n",
    "print(is_rotation(s1, s2))\n"
   ]
  },
  {
   "cell_type": "code",
   "execution_count": 13,
   "id": "d1356f1f",
   "metadata": {},
   "outputs": [
    {
     "name": "stdout",
     "output_type": "stream",
     "text": [
      "1\n",
      "Wall time: 0 ns\n"
     ]
    }
   ],
   "source": [
    "%%time\n",
    "# Find \"Sum of Digits\" / \"Digital Root\".\n",
    "# Digital root is the recursive sum of all the digits in a number.\n",
    "# 493193  -->  4 + 9 + 3 + 1 + 9 + 3 = 29  -->  2 + 9 = 11  -->  1 + 1 = 2\n",
    "\n",
    "def digital_root(n):\n",
    "    if(n < 10):\n",
    "        return n    \n",
    "    \n",
    "    \"\"\"\n",
    "        n = 235%10 + digital_root(235//10)\n",
    "          = 5 + digital_root(23)\n",
    "                      |\n",
    "                n = 23%10 + digital_root(23//10)\n",
    "                  = 3 + digital_root(2)\n",
    "                              |\n",
    "                        return 2\n",
    "                  = 5\n",
    "                return digital_root(5)\n",
    "                            |\n",
    "                        return 5\n",
    "                return 5\n",
    "          = 5 + 5\n",
    "          = 10\n",
    "          \n",
    "        return digital_root(10)\n",
    "                    |\n",
    "                n = 10%10 + digital_root(10//10)\n",
    "                  = 0  + digital_root(1)\n",
    "                               |\n",
    "                         return 1\n",
    "                  = 1\n",
    "                return digital_root(1)\n",
    "                             |\n",
    "                        return 1\n",
    "                return 1\n",
    "        return 1\n",
    "    \"\"\" \n",
    "    \n",
    "    n=n%10+digital_root(n//10) # remainder + digital_root(quotient)\n",
    "    return digital_root(n)\n",
    "\n",
    "print(digital_root(235))"
   ]
  },
  {
   "cell_type": "code",
   "execution_count": 19,
   "id": "352d7e31",
   "metadata": {},
   "outputs": [
    {
     "name": "stdout",
     "output_type": "stream",
     "text": [
      "1\n"
     ]
    }
   ],
   "source": [
    "# OR =====================================\n",
    "# without recursion\n",
    "def root(n):\n",
    "    while n > 9:\n",
    "        # map(int, str(n)) => <map object at 0x0000027A5CB1C848>\n",
    "        # list(map(int, str(n))) => [2, 3, 5]\n",
    "        n = sum(map(int, str(n)))\n",
    "        # n => 10\n",
    "    return n\n",
    "\n",
    "print(root(235))"
   ]
  },
  {
   "cell_type": "code",
   "execution_count": 23,
   "id": "9547ff66",
   "metadata": {},
   "outputs": [
    {
     "name": "stdout",
     "output_type": "stream",
     "text": [
      "UP 5 DOWN 3 LEFT 3 RIGHT 2\n",
      "\n",
      "5\n"
     ]
    }
   ],
   "source": []
  },
  {
   "cell_type": "code",
   "execution_count": null,
   "id": "aa1b218a",
   "metadata": {},
   "outputs": [],
   "source": []
  }
 ],
 "metadata": {
  "kernelspec": {
   "display_name": "Python 3 (ipykernel)",
   "language": "python",
   "name": "python3"
  },
  "language_info": {
   "codemirror_mode": {
    "name": "ipython",
    "version": 3
   },
   "file_extension": ".py",
   "mimetype": "text/x-python",
   "name": "python",
   "nbconvert_exporter": "python",
   "pygments_lexer": "ipython3",
   "version": "3.7.12"
  }
 },
 "nbformat": 4,
 "nbformat_minor": 5
}
