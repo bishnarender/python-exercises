{
 "cells": [
  {
   "cell_type": "code",
   "execution_count": 4,
   "id": "558e659f",
   "metadata": {},
   "outputs": [],
   "source": [
    "from datetime import datetime\n",
    "import math\n",
    "import os\n",
    "import random\n",
    "import re\n",
    "import sys\n",
    "from datetime import datetime\n",
    "from itertools import groupby, combinations\n",
    "from collections import deque\n",
    "import numpy as np"
   ]
  },
  {
   "cell_type": "code",
   "execution_count": 133,
   "id": "9383893a",
   "metadata": {},
   "outputs": [],
   "source": [
    "for num in range(2, 2):\n",
    "    print(\"Hello\")"
   ]
  },
  {
   "cell_type": "code",
   "execution_count": 27,
   "id": "7b717166",
   "metadata": {},
   "outputs": [
    {
     "name": "stdout",
     "output_type": "stream",
     "text": [
      "1\n",
      "Sat 02 May 2015 19:54:36 +0530\n",
      "Fri 01 May 2015 13:54:36 -0000\n",
      "88200\n"
     ]
    }
   ],
   "source": [
    "##############################################3\n",
    "def time_delta(t1, t2):\n",
    "    # .strptime(date_string, format) => return a datetime corresponding to date_string, parsed according to format.\n",
    "    # %a (weekday), %d (day), ..., %z (zone OR UTC offset) \n",
    "    a=datetime.strptime(t1,\"%a %d %b %Y %H:%M:%S %z\")\n",
    "    # a => 2015-05-02 19:54:36+05:30\n",
    "    # type(a) => <class 'datetime.datetime'>\n",
    "    \n",
    "    b=datetime.strptime(t2,\"%a %d %b %Y %H:%M:%S %z\")\n",
    "    \n",
    "    # a-b => 1 day, 0:30:00\n",
    "    # type(a-b) => <class 'datetime.timedelta'>\n",
    "    # (a-b).total_seconds() => 88200.0\n",
    "    \n",
    "    return str(int(abs((a-b).total_seconds())))\n",
    "'''\n",
    "given two timestamps in the following format: Day dd Mon yyyy hh:mm:ss +xxxx.\n",
    "Here +xxxx represents the time zone. Your task is to print the absolute difference (in seconds) between them.\n",
    "\n",
    "1 => first line contains T, the number of testcases.\n",
    "Sat 02 May 2015 19:54:36 +0530 => each testcase contains 2 lines, representing time t1 and time t2.\n",
    "Fri 01 May 2015 13:54:36 -0000\n",
    "'''\n",
    "\n",
    "for _ in range(int(input())):\n",
    "    t1 = input()\n",
    "    t2 = input()\n",
    "delta = time_delta(t1, t2)\n",
    "print(delta)"
   ]
  },
  {
   "cell_type": "code",
   "execution_count": 6,
   "id": "3c0cd4b5",
   "metadata": {},
   "outputs": [
    {
     "name": "stdout",
     "output_type": "stream",
     "text": [
      "1222311\n",
      "(1, 1) (3, 2) (1, 3) (2, 1) "
     ]
    }
   ],
   "source": [
    "########################################################################\n",
    "'''\n",
    "1222311 => single line of input consisting of the string S.\n",
    "\n",
    "(1, 1) (3, 2) (1, 3) (2, 1) => O/P\n",
    "First, the character 1 occurs only once. It is replaced by (1,1). Then the character 2 occurs three times, and it \n",
    "is replaced by (3 => occurence count, 2 => character/element) and so on.\n",
    "'''\n",
    "\n",
    "# list(groupby(input())) => [('1', <itertools._grouper object at 0x7f330c055890>), \n",
    "#      ('2', <itertools._grouper object at 0x7f330474a950>), ('3', <itertools._grouper object at 0x7f330474a590>),\n",
    "#      ('1', <itertools._grouper object at 0x7f330474a510>)]\n",
    "\n",
    "\n",
    "for k, c in groupby(input()):\n",
    "    # k, c => 1, <itertools._grouper object at 0x7f33047a4250>\n",
    "    # list(c) => 1\n",
    "    # %d => this placeholder is used to represent an integer value.\n",
    "    print(\"(%d, %d)\" % ( len(list(c)), int(k) ), end=' ')"
   ]
  },
  {
   "cell_type": "code",
   "execution_count": null,
   "id": "a5ae91be",
   "metadata": {},
   "outputs": [],
   "source": []
  },
  {
   "cell_type": "code",
   "execution_count": 20,
   "id": "5e4906fb",
   "metadata": {},
   "outputs": [
    {
     "name": "stdout",
     "output_type": "stream",
     "text": [
      "3 2\n",
      "1 5 3\n",
      "3 1\n",
      "5 7\n",
      "1\n"
     ]
    }
   ],
   "source": [
    "###################################################################\n",
    "# taking input\n",
    "n, m = input().split()\n",
    "sc_ar = input().split()\n",
    "\n",
    "# converting to set\n",
    "A = set(input().split())\n",
    "B = set(input().split())\n",
    "\n",
    "'''\n",
    "There is an array of n integers. There are also 2 disjoint sets, A and B, each containing m integers. \n",
    "You like all the integers in set A and dislike all the integers in set B. Your initial happiness is 0. \n",
    "For each i integer in the array , if i e A, you add 1 to your happiness. If i e B, you add -1 to your happiness. \n",
    "Otherwise, your happiness does not change. Output your final happiness at the end.\n",
    "\n",
    "3 2 => first line contains integers n and m separated by a space.\n",
    "1 5 3 => second line contains n integers, the elements of the array.\n",
    "3 1 =>  third and fourth lines contain m integers, A and B, respectively.\n",
    "5 7\n",
    "'''\n",
    "\n",
    "# A => {'1', '3'}\n",
    "\n",
    "# (i in A) => True\n",
    "# (i in A) - (i in B) => 1\n",
    "# (True-True) => 0\n",
    "# (True-False) => 1\n",
    "\n",
    "print (sum([(i in A) - (i in B) for i in sc_ar]))"
   ]
  },
  {
   "cell_type": "code",
   "execution_count": 23,
   "id": "be9dc7fa",
   "metadata": {},
   "outputs": [
    {
     "name": "stdout",
     "output_type": "stream",
     "text": [
      "10\n",
      "10\n",
      "45°\n"
     ]
    }
   ],
   "source": [
    "################################################################\n",
    "\n",
    "a = int(input())\n",
    "b = int(input())\n",
    "\n",
    "\n",
    "M = math.sqrt(a**2 + b**2)\n",
    "# acos => return the \"arc cosine\" (cosine inverse) of x, in radians. \n",
    "theta = math.acos(b/M )\n",
    "\n",
    "'''\n",
    "ABC is a right triangle, 90 degree at B.\n",
    "Point M is the midpoint of hypotenuse AC.\n",
    "You are given the lengths AB and BC.\n",
    "Your task is to find angle MBC in degrees.\n",
    "\n",
    "10 => first line contains the length of side AB.\n",
    "10 => second line contains the length of side BC.\n",
    "'''\n",
    "# theta => 0.7853981633974484\n",
    "# math.degrees(theta) => 45.00000000000001\n",
    "# int(round(math.degrees(theta),0)) => 45\n",
    "print(int( round(math.degrees(theta),0) ),'\\u00B0',sep='')"
   ]
  },
  {
   "cell_type": "code",
   "execution_count": 7,
   "id": "2dab9236",
   "metadata": {},
   "outputs": [
    {
     "name": "stdout",
     "output_type": "stream",
     "text": [
      "1\n",
      "6\n",
      "4 3 2 1 3 4\n",
      "Yes\n"
     ]
    }
   ],
   "source": [
    "#####################################################################\n",
    "\n",
    "#from collections import deque\n",
    "\n",
    "'''\n",
    "There is a horizontal row of n cubes. The length of each cube is given. You need to create a new vertical pile \n",
    "of cubes. The new pile should follow these directions: \n",
    "cube[j]^cube[i]                (if cube[i] is on top of cube[j]) then \n",
    "sideLength[j]>=sideLength[i].\n",
    "\n",
    "When stacking the cubes, you can only pick up either the leftmost or the rightmost cube each time. \n",
    "After choosing the rightmost element, choose the leftmost element and vice-versa. \n",
    "Print \"Yes\" if it is possible to stack the cubes. Otherwise, print \"No\".\n",
    "*Hint*: \"Yes\" is possible for the cases where innermost elements are less than outermost elements.\n",
    "\n",
    "1 => first line contains a single integer T, the number of test cases.\n",
    "6 => first line of each test case contains n, the number of cubes.\n",
    "4 3 2 1 3 4 => second line contains n space separated integers, denoting the sideLengths of each cube.\n",
    "\n",
    "1\n",
    "3\n",
    "1 3 2\n",
    "'''\n",
    "\n",
    "\n",
    "for i in range(int(input())):\n",
    "    size = int(input())\n",
    "    top = 2**31 # maximum value that an integer can take on \n",
    "    # top => 2147483648 \n",
    "    \n",
    "    d = deque(map(int,input().split()))\n",
    "    # d => deque([4, 3, 2, 1, 3, 4])\n",
    "    \n",
    "    for j in range(len(d)):\n",
    "        if d[0]>=d[len(d)-1] and d[0]<=top:\n",
    "            top = d.popleft()\n",
    "            # top => 4\n",
    "            # d => deque([3, 2, 1, 3, 4])\n",
    "        elif d[len(d)-1]<=top:            \n",
    "            top = d.pop()\n",
    "            # top => 4            \n",
    "            # d => deque([3, 2, 1, 3])\n",
    "        else:\n",
    "            print('No')\n",
    "            break\n",
    "#         if j==1: break\n",
    "        \n",
    "    if len(d) == 0:\n",
    "        print('Yes')"
   ]
  },
  {
   "cell_type": "code",
   "execution_count": 49,
   "id": "696a6fa7",
   "metadata": {},
   "outputs": [
    {
     "name": "stdout",
     "output_type": "stream",
     "text": [
      "2 1\n",
      "5 6\n",
      "(2+1j)\n",
      "7.00+7.00i\n",
      "-3.00-5.00i\n",
      "4.00+17.00i\n",
      "0.26-0.11i\n",
      "2.24+0.00i\n",
      "7.81+0.00i\n"
     ]
    }
   ],
   "source": [
    "#############################################################################\n",
    "class Complex(object):\n",
    "    def __init__(self, real, imaginary):\n",
    "        self.real = real\n",
    "        self.imaginary = imaginary\n",
    "        \n",
    "    def __add__(self, no):\n",
    "        # no => 5.00+6.00i\n",
    "        return Complex(self.real + no.real , self.imaginary + no.imaginary)\n",
    "        \n",
    "    def __sub__(self, no):\n",
    "        return Complex(self.real - no.real , self.imaginary - no.imaginary)       \n",
    "        \n",
    "    def __mul__(self, no):\n",
    "        # complex(self.real , self.imaginary) => (2+1j)\n",
    "        prod = complex(self.real , self.imaginary)*complex(no.real , no.imaginary)\n",
    "        return Complex(prod.real , prod.imag)\n",
    "\n",
    "    def __truediv__(self, no):\n",
    "        div = complex(self.real , self.imaginary)/complex(no.real , no.imaginary)\n",
    "        return Complex(div.real , div.imag)\n",
    "\n",
    "    def mod(self):\n",
    "        m = math.sqrt(self.real**2 + self.imaginary**2)\n",
    "        return Complex(m,0)\n",
    "\n",
    "    def __str__(self):\n",
    "        if self.imaginary >= 0:\n",
    "            result = \"%.2f+%.2fi\" % (self.real, self.imaginary)\n",
    "        else:\n",
    "            result = \"%.2f-%.2fi\" % (self.real, abs(self.imaginary))\n",
    "        return result\n",
    "\n",
    "\n",
    "\n",
    "c = map(float, input().split())\n",
    "d = map(float, input().split())\n",
    "\n",
    "# *c => 2.0 1.0\n",
    "\n",
    "x = Complex(*c)\n",
    "# x => 2.00+1.00i\n",
    "y = Complex(*d)\n",
    "# y => 5.00+6.00i\n",
    "\n",
    "'''\n",
    "given two complex numbers (C and D), and you have to print the result of their addition, subtraction, \n",
    "multiplication, division and modulus operations i.e., C+D, C-D, C*D, C/D, mod(C) and mod(D).\n",
    "\n",
    "2 1 => two lines of input for 2 numbers: the real and imaginary part of a each number.\n",
    "5 6\n",
    "'''\n",
    "\n",
    "\n",
    "print(*map(str, [x+y, x-y, x*y, x/y, x.mod(), y.mod()]), sep='\\n')"
   ]
  },
  {
   "cell_type": "code",
   "execution_count": 53,
   "id": "06bb7a37",
   "metadata": {},
   "outputs": [
    {
     "name": "stdout",
     "output_type": "stream",
     "text": [
      "(5+10j)\n"
     ]
    },
    {
     "data": {
      "text/plain": [
       "10.0"
      ]
     },
     "execution_count": 53,
     "metadata": {},
     "output_type": "execute_result"
    }
   ],
   "source": [
    "print(complex(5,10))\n",
    "complex(5,10).imag"
   ]
  },
  {
   "cell_type": "code",
   "execution_count": 70,
   "id": "d60d10aa",
   "metadata": {},
   "outputs": [
    {
     "name": "stdout",
     "output_type": "stream",
     "text": [
      "4\n",
      "a a c d\n",
      "2\n",
      "0.83\n"
     ]
    }
   ],
   "source": [
    "########################################################################\n",
    "\n",
    "n = int(input())\n",
    "ls = input().split()\n",
    "# ls => ['a', 'a', 'c', 'd']\n",
    "k = int(input())\n",
    "\n",
    "# .combinations(iterable, r) => return r length subsequences of elements from the input iterable.\n",
    "\n",
    "# combinations(ls, k) => <itertools.combinations object at 0x7f32eafaed70>\n",
    "# combinations(ls, k) => generate all possible combinations of k letters from the input list of letters.\n",
    "com = list(combinations(ls, k))\n",
    "# com => [('a', 'a'), ('a', 'c'), ('a', 'd'), ('a', 'c'), ('a', 'd'), ('c', 'd')]\n",
    "tol = [i for i in com  if \"a\" in i]\n",
    "\n",
    "# tol => [('a', 'a'), ('a', 'c'), ('a', 'd'), ('a', 'c'), ('a', 'd')]\n",
    "\n",
    "\n",
    "'''\n",
    "You are given a list of N lowercase English letters. For a given integer K, you can select any K indices \n",
    "(assume 1-based indexing) with a uniform probability from the list. Find the probability that at least one of \n",
    "the K indices selected will contain the letter: 'a'.\n",
    "\n",
    "4 => first line contains the integer N, denoting the length of the list. \n",
    "a a c d => next line consists of N space-separated lowercase English letters, denoting the elements of the list.\n",
    "2 => third and the last line of input contains the integer K, denoting the number of indices to be selected.\n",
    "'''\n",
    "print(f'{(len(tol)/len(com)):.12f}')\n"
   ]
  },
  {
   "cell_type": "code",
   "execution_count": null,
   "id": "21c10106",
   "metadata": {},
   "outputs": [],
   "source": []
  },
  {
   "cell_type": "code",
   "execution_count": 86,
   "id": "301a450a",
   "metadata": {},
   "outputs": [
    {
     "name": "stdout",
     "output_type": "stream",
     "text": [
      "5\n",
      "1\n",
      "22\n",
      "333\n",
      "4444\n"
     ]
    }
   ],
   "source": [
    "###############################################################################\n",
    "\n",
    "'''\n",
    "given a positive integer N. print a numerical triangle of height N-1 like the one below:\n",
    "1\n",
    "22\n",
    "333\n",
    "4444\n",
    "\n",
    "5 => a single line containing integer, N.\n",
    "'''\n",
    "\n",
    "for i in range(1,int(input())):    \n",
    "    # bin(2**i - 1) => 0b1           (for i=1, 2**i =2)\n",
    "    # bin(2**i - 1) => 0b11          (for i=2, 2**i =4)\n",
    "    # bin(2**i - 1) => 0b111         (for i=3, 2**3 =8)\n",
    "    \n",
    "    # binary of \"1, 3, 7, 15, 31, ...\" is \"1, 11, 111, 1111, 11111, ...\"\n",
    "    print (i * int(bin(2**i - 1)[2:]))"
   ]
  },
  {
   "cell_type": "code",
   "execution_count": null,
   "id": "2211f796",
   "metadata": {},
   "outputs": [],
   "source": []
  },
  {
   "cell_type": "code",
   "execution_count": 91,
   "id": "e06245f3",
   "metadata": {},
   "outputs": [
    {
     "name": "stdout",
     "output_type": "stream",
     "text": [
      "5\n",
      "1\n",
      "121\n",
      "12321\n",
      "1234321\n",
      "123454321\n"
     ]
    }
   ],
   "source": [
    "####################################################################################\n",
    "'''\n",
    "print a palindromic triangle of size N.\n",
    "a palindromic triangle of size 5 is:\n",
    "1\n",
    "121\n",
    "12321\n",
    "1234321\n",
    "123454321\n",
    "\n",
    "5 => a single line of input containing the integer N.\n",
    "'''\n",
    "for i in range(1,int(input())+1): \n",
    "    # (10**i - 1) => 9     (for i=1)\n",
    "    # (10**i - 1) => 99    (for i=2)\n",
    "    \n",
    "    # power of \"1, 11 , 111, 111, ...\" is 2 the o/p is \"1, 121, 12321, 1234321, ....\"\n",
    "    print ( ((10**i - 1)//9)**2 )"
   ]
  },
  {
   "cell_type": "code",
   "execution_count": 111,
   "id": "b9ab2b5a",
   "metadata": {},
   "outputs": [
    {
     "name": "stdout",
     "output_type": "stream",
     "text": [
      "(5, 5) (5, 5)\n"
     ]
    },
    {
     "data": {
      "text/plain": [
       "array([[ 5038,  6836,  2594,  8751,  5676],\n",
       "       [12066, 13589,  5875, 16340, 10265],\n",
       "       [19799, 25455, 12354, 19737, 17112],\n",
       "       [ 9002, 13153,  6704,  9489,  8150],\n",
       "       [10810, 10845,  5525,  4509,  7207]])"
      ]
     },
     "execution_count": 111,
     "metadata": {},
     "output_type": "execute_result"
    }
   ],
   "source": [
    "########################################################################################\n",
    "A = [[32, 9, 26, 57, 5],\n",
    "[32, 39, 89, 96, 1],\n",
    "[84, 61, 56, 99, 84],\n",
    "[55, 13, 14, 46, 60],\n",
    "[6, 70, 27, 7, 32]] \n",
    "\n",
    "B = [[35, 94, 4, 62, 67],\n",
    "[97, 81, 26, 21, 79],\n",
    "[56, 63, 35, 57, 10],\n",
    "[22, 18, 16, 88, 43],\n",
    "[67, 87, 82, 16, 22]]\n",
    "\n",
    "print(np.array(A).shape, np.array(B).shape)\n",
    "'''\n",
    "Matrix multiplication of A and B.\n",
    "'''\n",
    "# A*B\n",
    "#print(np.dot(A,B)) # OR\n",
    "#print(np.matmul(A,B)) # preferred method # OR   \n",
    "np.array(A) @ np.array(B)"
   ]
  },
  {
   "cell_type": "code",
   "execution_count": 114,
   "id": "026cd505",
   "metadata": {},
   "outputs": [
    {
     "name": "stdout",
     "output_type": "stream",
     "text": [
      "5038\n"
     ]
    }
   ],
   "source": [
    "A = [32, 9, 26, 57, 5]\n",
    "B = [35, 97, 56, 22, 67]\n",
    "#print(np.dot(A,B)) # OR\n",
    "print(np.matmul(A,B)) # preferred method"
   ]
  },
  {
   "cell_type": "code",
   "execution_count": 159,
   "id": "351a9766",
   "metadata": {},
   "outputs": [
    {
     "name": "stdout",
     "output_type": "stream",
     "text": [
      "Introduce a number: 30\n"
     ]
    },
    {
     "data": {
      "text/plain": [
       "[2, 3, 5, 7, 11, 13, 17, 19, 23, 29]"
      ]
     },
     "execution_count": 159,
     "metadata": {},
     "output_type": "execute_result"
    }
   ],
   "source": [
    "##################################################################\n",
    "'''\n",
    "list all primes number below and equal to n.\n",
    "'''\n",
    "def era1():\n",
    "    n = int(input(\"Introduce a number: \").strip())    \n",
    "    A = range(2, n+1) \n",
    "    # A => range(2, 31)\n",
    "    B, C = [], A\n",
    "    # math.sqrt(n) => 5.477225575051661\n",
    "    while C[0]< math.sqrt(n): #Condition\n",
    "        firstElement = C[0]        \n",
    "        \n",
    "        B += [firstElement] \n",
    "                \n",
    "        C = [x for x in C if x%firstElement!=0] \n",
    "        # C => [3, 5, 7, 9, 11, 13, 15, 17, 19, 21, 23, 25, 27, 29]       (1st entry in loop)\n",
    "        # C => [5, 7, 11, 13, 17, 19, 23, 25, 29]                         (2nd entry in loop)\n",
    "        # C => [7, 11, 13, 17, 19, 23, 29]                                (3rd entry in loop)\n",
    "        \n",
    "    return B+C \n",
    "\n",
    "era1()\n",
    "#print(era1())"
   ]
  },
  {
   "cell_type": "code",
   "execution_count": null,
   "id": "67b80501",
   "metadata": {},
   "outputs": [],
   "source": [
    "##########################################################################"
   ]
  },
  {
   "cell_type": "code",
   "execution_count": 166,
   "id": "89581944",
   "metadata": {},
   "outputs": [
    {
     "name": "stdout",
     "output_type": "stream",
     "text": [
      "[2, 3, 3, 7]\n",
      "CPU times: user 47 µs, sys: 19 µs, total: 66 µs\n",
      "Wall time: 62.7 µs\n"
     ]
    }
   ],
   "source": [
    "%%time\n",
    "# prime factors of a number.\n",
    "def prime_factors(n):\n",
    "    i = 2\n",
    "    factors = []\n",
    "    while i * i <= n:\n",
    "        \n",
    "        if n % i:\n",
    "            i += 1\n",
    "        else:\n",
    "            n //= i\n",
    "            factors.append(i)\n",
    "    if n > 1:\n",
    "        factors.append(n)\n",
    "    return factors\n",
    "\n",
    "print(prime_factors(126))"
   ]
  },
  {
   "cell_type": "code",
   "execution_count": null,
   "id": "dfb95973",
   "metadata": {},
   "outputs": [],
   "source": []
  },
  {
   "cell_type": "code",
   "execution_count": 2,
   "id": "6b4b901c",
   "metadata": {},
   "outputs": [
    {
     "data": {
      "text/plain": [
       "(False, True)"
      ]
     },
     "execution_count": 2,
     "metadata": {},
     "output_type": "execute_result"
    }
   ],
   "source": [
    "#########################################################################\n",
    "def is_leap(year):\n",
    "    leap = False\n",
    "        \n",
    "    if ((year % 4 ==0) and (year % 100 != 0)) | ((year % 400 == 0) and (year % 100 == 0)):\n",
    "        leap = True\n",
    "    \n",
    "    return leap\n",
    "'''\n",
    "In the Gregorian calendar, identify leap years as:\n",
    "Evenly divisible by 4 and not 100. \n",
    "OR \n",
    "Evenly divisible by 400 and 100. \n",
    "'''\n",
    "\n",
    "is_leap(2017), is_leap(2016)"
   ]
  },
  {
   "cell_type": "code",
   "execution_count": 10,
   "id": "42d2b359",
   "metadata": {},
   "outputs": [
    {
     "name": "stdout",
     "output_type": "stream",
     "text": [
      "----------WELCOME----------\n"
     ]
    }
   ],
   "source": [
    "#########################################################################\n",
    "\n",
    "row, col = 9, 27\n",
    "wel = \"WELCOME\"\n",
    "# .center(width[, fillchar]) => return centered in a string of length width. padding is done using the specified \n",
    "#         - fillchar (default is an ASCII space).\n",
    "print(wel.center(col,\"-\"))\n"
   ]
  },
  {
   "cell_type": "code",
   "execution_count": 18,
   "id": "d90c524e",
   "metadata": {},
   "outputs": [
    {
     "data": {
      "text/plain": [
       "[5, 4, 8, 9, 7]"
      ]
     },
     "execution_count": 18,
     "metadata": {},
     "output_type": "execute_result"
    }
   ],
   "source": [
    "#############################################################################\n",
    "i = 54897\n",
    "w = [int(x) for x in str(i)]\n",
    "w"
   ]
  },
  {
   "cell_type": "code",
   "execution_count": 20,
   "id": "b2f5b2c8",
   "metadata": {},
   "outputs": [
    {
     "name": "stdout",
     "output_type": "stream",
     "text": [
      "hello\n"
     ]
    }
   ],
   "source": [
    "l = ['first']\n",
    "while len(l):\n",
    "    print('hello')\n",
    "    l=[]"
   ]
  },
  {
   "cell_type": "code",
   "execution_count": 21,
   "id": "11bf3c63",
   "metadata": {},
   "outputs": [
    {
     "name": "stdout",
     "output_type": "stream",
     "text": [
      "hello\n"
     ]
    }
   ],
   "source": [
    "l=[5,4,3]\n",
    "while 2 not in l:\n",
    "    print('hello')\n",
    "    l.append(2)"
   ]
  },
  {
   "cell_type": "code",
   "execution_count": 24,
   "id": "6ba12d6c",
   "metadata": {},
   "outputs": [
    {
     "name": "stdout",
     "output_type": "stream",
     "text": [
      "hello\n"
     ]
    }
   ],
   "source": [
    "if not (6 in l): # ! instead of not gives SyntaxError.\n",
    "    print('hello')"
   ]
  },
  {
   "cell_type": "code",
   "execution_count": null,
   "id": "04e4d255",
   "metadata": {},
   "outputs": [],
   "source": []
  },
  {
   "cell_type": "code",
   "execution_count": 44,
   "id": "ee932b50",
   "metadata": {},
   "outputs": [
    {
     "data": {
      "text/plain": [
       "720"
      ]
     },
     "execution_count": 44,
     "metadata": {},
     "output_type": "execute_result"
    }
   ],
   "source": [
    "'''\n",
    "factorial of a number\n",
    "'''\n",
    "def factorial_(n):\n",
    "    if n == 0:\n",
    "        return 1\n",
    "    elif n == 1:\n",
    "        return 1\n",
    "    else:\n",
    "        return n*factorial_(n-1)\n",
    "    \n",
    "factorial_(6)"
   ]
  },
  {
   "cell_type": "code",
   "execution_count": null,
   "id": "613fcb3b",
   "metadata": {},
   "outputs": [],
   "source": []
  }
 ],
 "metadata": {
  "kernelspec": {
   "display_name": "Python 3 (ipykernel)",
   "language": "python",
   "name": "python3"
  },
  "language_info": {
   "codemirror_mode": {
    "name": "ipython",
    "version": 3
   },
   "file_extension": ".py",
   "mimetype": "text/x-python",
   "name": "python",
   "nbconvert_exporter": "python",
   "pygments_lexer": "ipython3",
   "version": "3.7.12"
  }
 },
 "nbformat": 4,
 "nbformat_minor": 5
}
