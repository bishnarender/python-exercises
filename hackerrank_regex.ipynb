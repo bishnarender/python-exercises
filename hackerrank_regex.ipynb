{
 "cells": [
  {
   "cell_type": "code",
   "execution_count": 2,
   "id": "415a5e2e",
   "metadata": {},
   "outputs": [],
   "source": [
    "from itertools import product,starmap\n",
    "from operator import mul\n",
    "from collections import Counter\n",
    "import re\n",
    "import numpy as np\n",
    "from fractions import Fraction\n",
    "from functools import reduce"
   ]
  },
  {
   "cell_type": "code",
   "execution_count": 1,
   "id": "11c17347",
   "metadata": {},
   "outputs": [
    {
     "name": "stdout",
     "output_type": "stream",
     "text": [
      "1 1000\n",
      "1 1000\n"
     ]
    }
   ],
   "source": [
    "k, m = map(int,['1','1000'])\n",
    "# k, m => 1, 1000\n",
    "print(k, m)\n",
    "\n",
    "# *map(int,['1','1000']) => 1 1000"
   ]
  },
  {
   "cell_type": "code",
   "execution_count": 18,
   "id": "cd84bc24",
   "metadata": {},
   "outputs": [
    {
     "name": "stdout",
     "output_type": "stream",
     "text": [
      "3 1000\n"
     ]
    },
    {
     "data": {
      "text/plain": [
       "str"
      ]
     },
     "execution_count": 18,
     "metadata": {},
     "output_type": "execute_result"
    }
   ],
   "source": [
    "# Enter => 3[space]1000\n",
    "type(input())"
   ]
  },
  {
   "cell_type": "code",
   "execution_count": 19,
   "id": "cf5fa12f",
   "metadata": {},
   "outputs": [
    {
     "name": "stdout",
     "output_type": "stream",
     "text": [
      "2 5 4\n"
     ]
    },
    {
     "data": {
      "text/plain": [
       "['2', '5 4']"
      ]
     },
     "execution_count": 19,
     "metadata": {},
     "output_type": "execute_result"
    }
   ],
   "source": [
    "# Enter => 2[space]5[space]4\n",
    "\n",
    "# str.split(sep=None, maxsplit=-1) => if maxsplit is given, at most maxsplit splits are done (thus, the list will -\n",
    "# - have at most maxsplit+1 elements).\n",
    "input().split(\" \",1)"
   ]
  },
  {
   "cell_type": "code",
   "execution_count": 36,
   "id": "a5f8b630",
   "metadata": {},
   "outputs": [
    {
     "name": "stdout",
     "output_type": "stream",
     "text": [
      "(5, 5)\n"
     ]
    }
   ],
   "source": [
    "vec1, vec2 = (5, 7, 5), (5, 7, 5)\n",
    "for i in zip(vec1, vec2):\n",
    "    print(i)\n",
    "    break"
   ]
  },
  {
   "cell_type": "code",
   "execution_count": 44,
   "id": "7cdc185f",
   "metadata": {},
   "outputs": [
    {
     "data": {
      "text/plain": [
       "([5, 4], [7, 8, 9])"
      ]
     },
     "execution_count": 44,
     "metadata": {},
     "output_type": "execute_result"
    }
   ],
   "source": [
    "([5, 4], [7, 8, 9])"
   ]
  },
  {
   "cell_type": "code",
   "execution_count": 51,
   "id": "4b547981",
   "metadata": {},
   "outputs": [],
   "source": [
    "# a = [[5, 4], [7, 8, 9], [5, 7, 8, 9, 10]]\n",
    "# for _ in product(*a):\n",
    "#     print(_)\n",
    "    \n",
    "# (5, 7, 5)\n",
    "# (5, 7, 7)\n",
    "# (5, 7, 8)\n",
    "# ...\n",
    "# (5, 9, 8)\n",
    "# (5, 9, 9)\n",
    "# (5, 9, 10)\n",
    "# ...\n",
    "# (4, 9, 7)\n",
    "# (4, 9, 8)\n",
    "# (4, 9, 9)\n",
    "# (4, 9, 10)"
   ]
  },
  {
   "cell_type": "code",
   "execution_count": 47,
   "id": "5d1bb408",
   "metadata": {},
   "outputs": [
    {
     "name": "stdout",
     "output_type": "stream",
     "text": [
      "3 1000\n",
      "2 5 4\n",
      "3 7 8 9\n",
      "5 5 7 8 9 10\n",
      "99\n"
     ]
    }
   ],
   "source": [
    "\n",
    "def dotproduct(vec1, vec2):\n",
    "    '''\n",
    "    np.dot(np.array([5, 7, 5]), np.array([5, 7, 5])) => 99\n",
    "    '''    \n",
    "    # vec1, vec2 => (5, 7, 5), (5, 7, 5)\n",
    "    \n",
    "    # starmap(function, iterable) => make an iterator that computes the function using arguments obtained from the iterable.\n",
    "    # starmap(mul, zip(vec1, vec2)) => <itertools.starmap object at 0x7f1b7c26d510>\n",
    "    # sum(starmap(mul, zip(vec1, vec2))) => 5*5 + 7*7 + 5*5 (99)\n",
    "    return sum(starmap(mul, zip(vec1, vec2)))\n",
    "\n",
    "# input() => 3[space]1000\n",
    "# input().split() => ['3','1000']\n",
    "K, M = map(int,input().split())\n",
    "N_list = []\n",
    "\n",
    "for _ in range(K):\n",
    "    N_i, N = input().split(\" \",1)\n",
    "    # N_i, N => '2', '5 4'\n",
    "    N_list.append( list(map(int, N.split())) )\n",
    "    \n",
    "# N_list => [[5, 4], [7, 8, 9], [5, 7, 8, 9, 10]]\n",
    "# *N_list => [5, 4] [7, 8, 9] [5, 7, 8, 9, 10]\n",
    "# [5,4], [7, 8, 9] => ([5, 4], [7, 8, 9])\n",
    "\n",
    "max_S = 0\n",
    "# itertools.product(*iterables, repeat=1) => cartesian product of input iterables.\n",
    "for x in product(*N_list):\n",
    "    S = dotproduct(x,x)%M\n",
    "    if S > max_S:\n",
    "        max_S = S\n",
    "    break\n",
    "    \n",
    "\n",
    "'''\n",
    "You are given a function f(X) = X^2. You are also given K lists. The ith list consists of N elements.\n",
    "You have to pick one element from each list so that the value from the equation below is maximized:\n",
    "S = (X1^2 + X2^2 + ... + XK^2)%M\n",
    "Xi denotes the element picked from the ith list. \n",
    "Note that you need to take exactly one element from each list.\n",
    "\n",
    "\n",
    "# 3 1000 => 3 lists, 1000 is M\n",
    "# 2 5 4  => 2 element in the first list and elements are [5,4]\n",
    "# 3 7 8 9 => => 3 element in the second list and elements are [5,4]\n",
    "# 5 5 7 8 9 10\n",
    "'''\n",
    "print(max_S)"
   ]
  },
  {
   "cell_type": "code",
   "execution_count": null,
   "id": "81500717",
   "metadata": {},
   "outputs": [],
   "source": []
  },
  {
   "cell_type": "code",
   "execution_count": 53,
   "id": "c05f81b6",
   "metadata": {},
   "outputs": [
    {
     "name": "stdout",
     "output_type": "stream",
     "text": [
      "10\n",
      "2 3 4 5 6 8 7 6 5 18\n",
      "6\n",
      "6 55\n",
      "6 45\n",
      "6 55\n",
      "4 40\n",
      "18 6\n",
      "10 50\n",
      "146\n"
     ]
    }
   ],
   "source": [
    "##################################################################################\n",
    "\n",
    "x = int(input())\n",
    "y = Counter(map(int, input().split()))\n",
    "# y => Counter({5: 2, 6: 2, 2: 1, 3: 1, 4: 1, 8: 1, 7: 1, 18: 1})\n",
    "z = int(input())\n",
    "\n",
    "total = 0\n",
    "for i in range(z):\n",
    "    size, rate = map(int, input().split())\n",
    "    if y[size]: \n",
    "        y[size] -= 1\n",
    "        total += rate\n",
    "'''\n",
    "Raghu is a shoe shop owner. His shop has X number of shoes (problem from hackerrank).\n",
    "10  =>  first line contains x, the number of shoes.\n",
    "2 3 4 5 6 8 7 6 5 18 => second line contains the space separated list of all the shoe sizes in the shop.\n",
    "6 => third line contains z, the number of customers.\n",
    "6 55 => shoe size and price\n",
    "6 45\n",
    "6 55\n",
    "4 40\n",
    "18 60\n",
    "10 50\n",
    "\n",
    "Your task is to compute how much money earned.\n",
    "'''        \n",
    "print(total)"
   ]
  },
  {
   "cell_type": "code",
   "execution_count": 8,
   "id": "41007d4d",
   "metadata": {},
   "outputs": [
    {
     "name": "stdout",
     "output_type": "stream",
     "text": [
      "110000\n",
      "False\n"
     ]
    }
   ],
   "source": [
    "###################################################\n",
    "# ^: Asserts the start of the string.\n",
    "# [1-9]: Matches a single digit between 1 and 9.\n",
    "# [0-9]{5}: Matches exactly five digits (0-9).\n",
    "# $: Asserts the end of the string.    \n",
    "regex_integer_in_range = r\"^[1-9][0-9]{5}$\" # [0-9] => 0,1,2,3 ..., 9\n",
    "\n",
    "# (\\d) => This part captures a single digit (0-9) and stores it in a capturing group. The parentheses ( ) denote a -\n",
    "#     - capturing group, and \\d represents any digit.\n",
    "# (?=...) => This is a positive lookahead assertion. It specifies a condition that must be satisfied for a match to - \n",
    "#     - occur, but it doesn't consume characters in the string. \n",
    "# ...(?=\\d) => It checks if there is a digit followed the content of the capturing group.\n",
    "#  ...(?=\\d\\1) => It checks if there is a \"digit\" and then a \"same number (as the content of capturing group)\", -\n",
    "#     - followed by the content of the capturing group.\n",
    "\n",
    "# Isaac (?=Asimov) => will match 'Isaac ' only if it’s followed by 'Asimov'.\n",
    "\n",
    "# (\\d)(?=\\d\\1) captures a digit and then uses a positive lookahead according to specified \"condition\" (...\\d\\1...).\n",
    "# re.findall(regex_alternating_repetitive_digit_pair, '10101') => ['1', '0', '1']\n",
    "regex_alternating_repetitive_digit_pair = r\"(\\d)(?=\\d\\1)\"   \n",
    "\n",
    "P = input().strip()\n",
    "\n",
    "'''\n",
    "A valid postal code P have to fullfil both below requirements:\n",
    "    P must be a number in the range from 100000 to 999999 inclusive.\n",
    "    P must not contain more than one alternating repetitive digit pair.\n",
    "\n",
    "E.g.,\n",
    "121426 # Here, 1 is an alternating repetitive digit.\n",
    "523563 # Here, NO digit is an alternating repetitive digit.\n",
    "552523 # Here, both 2 and 5 are alternating repetitive digits.\n",
    "'''\n",
    "\n",
    "# re.match(regex_integer_in_range, P) => <re.Match object; span=(0, 6), match='110000'>\n",
    "# bool(re.match(regex_integer_in_range, P)) => True\n",
    "# re.findall(regex_alternating_repetitive_digit_pair, '110000') => ['0', '0']\n",
    "print ( bool(re.match(regex_integer_in_range, P)) \n",
    "and len(re.findall(regex_alternating_repetitive_digit_pair, P)) < 2 )\n",
    "# False for input 110000."
   ]
  },
  {
   "cell_type": "code",
   "execution_count": 88,
   "id": "1f9f610f",
   "metadata": {},
   "outputs": [
    {
     "data": {
      "text/plain": [
       "['0']"
      ]
     },
     "execution_count": 88,
     "metadata": {},
     "output_type": "execute_result"
    }
   ],
   "source": [
    "re.findall(regex_alternating_repetitive_digit_pair, '110001')"
   ]
  },
  {
   "cell_type": "code",
   "execution_count": 86,
   "id": "b1eb1007",
   "metadata": {},
   "outputs": [
    {
     "name": "stdout",
     "output_type": "stream",
     "text": [
      "7 3\n",
      "Tsi\n",
      "h%x\n",
      "i #\n",
      "sM \n",
      "$a \n",
      "#t%\n",
      "ir!\n",
      "This is Matrix#  %!\n"
     ]
    }
   ],
   "source": [
    "#################################################################\n",
    "import math\n",
    "import os\n",
    "import random\n",
    "import re\n",
    "import sys\n",
    "\n",
    "# str.rstrip([chars]) => return a copy of the string with trailing characters removed. If omitted or None, the -\n",
    "#    - chars argument defaults to removing whitespace.\n",
    "# '7 3'.rstrip().split() => ['7', '3']\n",
    "# list(map(int, '7 3'.rstrip().split())) => [7, 3]\n",
    "n, m = map(int, input().rstrip().split())\n",
    "\n",
    "matrix = []\n",
    "\n",
    "for _ in range(n):\n",
    "    matrix_item = input()\n",
    "    matrix.append(matrix_item)\n",
    "\n",
    "# matrix => ['Tsi', 'h%x', 'i #', 'sM ', '$a ', '#t%', 'ir!']\n",
    "# *matrix => Tsi h%x i # sM  $a  #t% ir!\n",
    "\n",
    "matrix = list(zip(*matrix))\n",
    "# matrix => [('T', 'h', 'i', 's', '$', '#', 'i'), ('s', '%', ' ', 'M', 'a', 't', 'r'), ('i', 'x', '#', ' ', ' ', '%', '!')]\n",
    "\n",
    "sample = ''\n",
    "\n",
    "for words in matrix:\n",
    "    for char in words:\n",
    "        sample += char\n",
    "'''\n",
    "reads the column from top to bottom and starts reading from the leftmost column. if there are symbols or spaces \n",
    "between two alphanumeric characters of the decoded script, then replace them with a single space ''. there is \n",
    "no need to use 'if' conditions for decoding. alphanumeric characters consist of: [A-Z, a-z, and 0-9].\n",
    "\n",
    "7 3 => the first line contains space-separated integers N (rows) and M (columns) respectively.\n",
    "Tsi => 1st row element of matrix.\n",
    "h%x\n",
    "i #\n",
    "sM \n",
    "$a \n",
    "#t%\n",
    "ir!\n",
    "'''\n",
    "\n",
    "# sample => This$#is% Matrix#  %!\n",
    "\n",
    "# (?<=\\w) => positive lookbehind assertion.\n",
    "# (?=\\w) => positive lookahead assertion.\n",
    "# \\w => word character.\n",
    "# ([^\\w\\d]+) => capturing group that matches one or more consecutive characters that are not word characters or digits.\n",
    "print(re.sub(r'(?<=\\w)([^\\w\\d]+)(?=\\w)', ' ', sample))"
   ]
  },
  {
   "cell_type": "code",
   "execution_count": null,
   "id": "5d7fab80",
   "metadata": {},
   "outputs": [],
   "source": []
  },
  {
   "cell_type": "code",
   "execution_count": null,
   "id": "4e78fd3a",
   "metadata": {},
   "outputs": [],
   "source": []
  },
  {
   "cell_type": "code",
   "execution_count": 90,
   "id": "4ee607a8",
   "metadata": {},
   "outputs": [
    {
     "name": "stdout",
     "output_type": "stream",
     "text": [
      "5 3\n",
      "10 2 5\n",
      "7 1 0\n",
      "9 9 9\n",
      "1 23 12\n",
      "6 5 9\n",
      "1\n",
      "7 1 0\n",
      "10 2 5\n",
      "6 5 9\n",
      "9 9 9\n",
      "1 23 12\n"
     ]
    }
   ],
   "source": [
    "############################################################################################\n",
    "# initiailzing map function\n",
    "N, M = map(int, input().split())\n",
    "\n",
    "# taking for rows\n",
    "rows = [input() for _ in range(N)]\n",
    "# rows => ['10 2 5', '7 1 0', '9 9 9', '1 23 12', '6 5 9']\n",
    "\n",
    "# taking input from user\n",
    "K = int(input())\n",
    "\n",
    "'''\n",
    "sort the data based on the kth attribute and print the final resulting table. \n",
    "if two values for different rows are the same for a attribute, print the row that appeared first in the input.\n",
    "\n",
    "5 3 => first line contains rows and columns separated by a space.\n",
    "10 2 5 => elements of row.\n",
    "7 1 0\n",
    "9 9 9\n",
    "1 23 12\n",
    "6 5 9\n",
    "1 => sort over this attribute/column.\n",
    "'''\n",
    "\n",
    "# sorted(iterable, /, *, key=None, reverse=False) => \n",
    "# key => key specifies a function of one argument that is used to extract a comparison key from each element -\n",
    "#    - in iterable.\n",
    "# sorted(rows, key=lambda row: int(row.split()[K])) => ['7 1 0', '10 2 5', '6 5 9', '9 9 9', '1 23 12']\n",
    "for row in sorted(rows, key=lambda row: int(row.split()[K])):\n",
    "    print(row)"
   ]
  },
  {
   "cell_type": "code",
   "execution_count": 116,
   "id": "f9a7ba3a",
   "metadata": {},
   "outputs": [
    {
     "name": "stdout",
     "output_type": "stream",
     "text": [
      "Sorting1234\n",
      "ginortS1324\n"
     ]
    }
   ],
   "source": [
    "###############################################################################\n",
    "# taking the input from user\n",
    "s = input()\n",
    "\n",
    "# sorted sorts in ascending i.e., False -> True.\n",
    "s = sorted(s, key = lambda x: (x.isdigit() and int(x)%2==0, x.isdigit(), x.isupper(), x.islower(), x) )\n",
    "# x = 'S', key => (False, False, True, False, 'S')\n",
    "# x = 'g', key => (False, False, False, True, 'g')\n",
    "# x = '1', key => (False, True, False, False, '1')\n",
    "# x = '4', key => (True, True, False, False, '4')\n",
    "'''\n",
    "task is to sort the string  in the following manner:\n",
    "    All sorted lowercase letters are ahead of uppercase letters.\n",
    "    All sorted uppercase letters are ahead of digits.\n",
    "    All sorted odd digits are ahead of sorted even digits.\n",
    "\n",
    "Sorting1234 => single line of input contains the string s.\n",
    "'''\n",
    "# s => ['g', 'i', 'n', 'o', 'r', 't', 'S', '1', '3', '2', '4']\n",
    "# printing the sorted string\n",
    "print(*s,sep = '')"
   ]
  },
  {
   "cell_type": "code",
   "execution_count": 120,
   "id": "be3e2ef3",
   "metadata": {},
   "outputs": [
    {
     "name": "stdout",
     "output_type": "stream",
     "text": [
      "AAABCADDE\n",
      "3\n",
      "A\n",
      "BCA\n",
      "DE\n"
     ]
    }
   ],
   "source": [
    "#########################################################################################3\n",
    "\n",
    "def merge_the_tools(string, k):\n",
    "    l = len(string)//k\n",
    "    for i in range(l):\n",
    "        # i = 0, dict.fromkeys(string[i*k:(i*k)+k]) => {'A': None}\n",
    "        # i = 1, dict.fromkeys(string[i*k:(i*k)+k]) => {'B': None, 'C': None, 'A': None}\n",
    "        \n",
    "        # dict.fromkeys(iterable[, value]) => create a new dictionary with keys from iterable and values set to value.\n",
    "        print(''.join(dict.fromkeys(string[i*k:(i*k)+k])))\n",
    "\n",
    "string, k = input(), int(input())\n",
    "\n",
    "'''\n",
    "split string s into n/k substrings i.e., n = length of string. k = factor of n.\n",
    "then print each substring without any repeat occurrence of a character.\n",
    "\n",
    "AAABCADDE =>  first line contains a single string.\n",
    "3 => k, factor of n.\n",
    "'''\n",
    "merge_the_tools(string, k)"
   ]
  },
  {
   "cell_type": "code",
   "execution_count": 119,
   "id": "c6c92bf7",
   "metadata": {},
   "outputs": [
    {
     "data": {
      "text/plain": [
       "'BCA'"
      ]
     },
     "execution_count": 119,
     "metadata": {},
     "output_type": "execute_result"
    }
   ],
   "source": [
    "z = {'B': None, 'C': None, 'A': None}\n",
    "''.join(z)"
   ]
  },
  {
   "cell_type": "code",
   "execution_count": 12,
   "id": "231ea1e8",
   "metadata": {},
   "outputs": [
    {
     "name": "stdout",
     "output_type": "stream",
     "text": [
      "BANANA\n",
      "Stuart 12\n"
     ]
    }
   ],
   "source": [
    "###################################################################\n",
    "def minion_game(string: str) -> None:\n",
    "    \"\"\"Print the winner of the game and the score.\"\"\"\n",
    "    kevin = stuart = 0\n",
    "    length: int = len(string)\n",
    "        \n",
    "    for i, char in enumerate(string):\n",
    "        points: int = length - i\n",
    "        if char in {\"A\", \"E\", \"I\", \"O\", \"U\"}:\n",
    "            kevin += points\n",
    "        else:\n",
    "            stuart += points\n",
    "            \n",
    "    if kevin == stuart:\n",
    "        print(\"Draw\")\n",
    "    else:\n",
    "        print(*(\"Stuart\", stuart) if stuart > kevin else (\"Kevin\", kevin))\n",
    "        \n",
    "'''\n",
    "Two players (kevin and stuart) are given the same string, string  will contain only uppercase letters.\n",
    "Both have to make substrings using the letters of the string.\n",
    "kevin has to make words starting with vowels.\n",
    "stuart has to make words starting with consonants.\n",
    "The game ends when both players have made all possible substrings.\n",
    "A player gets +1 point for each occurrence of the substring in the string.\n",
    "\n",
    "BANANA => a single line of input containing the string. \n",
    "OOOH \n",
    "COOL\n",
    "'''\n",
    "s = input().strip()\n",
    "minion_game(s)"
   ]
  },
  {
   "cell_type": "code",
   "execution_count": 3,
   "id": "ea006a24",
   "metadata": {},
   "outputs": [
    {
     "name": "stdout",
     "output_type": "stream",
     "text": [
      "4\n",
      "bcdef\n",
      "abcdefg\n",
      "bcde\n",
      "bcdef\n",
      "3\n",
      "2 1 1\n"
     ]
    }
   ],
   "source": [
    "###########################################################################\n",
    "\n",
    "integer1 = int(input())\n",
    "\n",
    "# str.strip([chars]) => return a copy of the string with the leading and trailing characters removed.\n",
    "words = [input().strip() for _ in range(integer1)]\n",
    "\n",
    "# words => ['bcdef', 'abcdefg', 'bcde', 'bcdef']\n",
    "\n",
    "# Counter(words).keys() => dict_keys(['bcdef', 'abcdefg', 'bcde'])\n",
    "\n",
    "\n",
    "val = list(Counter(words).values())\n",
    "listToStr = ' '.join([f\"{elem}\" for elem in val])\n",
    "\n",
    "'''\n",
    "You are given n words. Some words may repeat. For each word, output its number of occurrences in the all words. \n",
    "The output order should correspond with the input order of appearance of the word.\n",
    "\n",
    "\n",
    "4 => The first line contains the integer, n.\n",
    "bcdef => The next n lines each contain a word.\n",
    "abcdefg\n",
    "bcde\n",
    "bcdef\n",
    "'''\n",
    "\n",
    "# output the number of occurrences for each distinct word according to their appearance in the input.\n",
    "print(listToStr) "
   ]
  },
  {
   "cell_type": "code",
   "execution_count": 22,
   "id": "5f24453d",
   "metadata": {},
   "outputs": [
    {
     "name": "stdout",
     "output_type": "stream",
     "text": [
      "google\n",
      "g 2\n",
      "o 2\n",
      "e 1\n"
     ]
    }
   ],
   "source": [
    "####################################################################3\n",
    "   \n",
    "# taking input from user and sorting it\n",
    "s = input().strip()\n",
    "# list(s) => ['g', 'o', 'o', 'g', 'l', 'e']\n",
    "# Counter('google') => Counter({'g': 2, 'o': 2, 'l': 1, 'e': 1})\n",
    "# Counter(['google', 'apple']) => Counter({'google': 1, 'apple': 1})\n",
    "# Counter(list(s)) => Counter({'g': 2, 'o': 2, 'l': 1, 'e': 1})\n",
    "\n",
    "s = sorted(s)\n",
    "# using counter method to find the frequency of each of the words\n",
    "freq = Counter(s)\n",
    "\n",
    "'''\n",
    "Given a string s in lowercase letters, your task is to find the top three most common characters in the string.\n",
    "\n",
    "google => a single line of input containing the string.\n",
    "'''\n",
    "\n",
    "# freq.most_common() => [('g', 2), ('o', 2), ('e', 1), ('l', 1)]\n",
    "\n",
    "# using for loop to print the three words with frequency\n",
    "for k, v in freq.most_common(3): # 3\n",
    "    print(k, v)"
   ]
  },
  {
   "cell_type": "code",
   "execution_count": 18,
   "id": "b8c0d538",
   "metadata": {},
   "outputs": [
    {
     "data": {
      "text/plain": [
       "'google'"
      ]
     },
     "execution_count": 18,
     "metadata": {},
     "output_type": "execute_result"
    }
   ],
   "source": [
    "'google'.strip()"
   ]
  },
  {
   "cell_type": "code",
   "execution_count": 19,
   "id": "412784a5",
   "metadata": {},
   "outputs": [
    {
     "data": {
      "text/plain": [
       "['g', 'o', 'o', 'g', 'l', 'e']"
      ]
     },
     "execution_count": 19,
     "metadata": {},
     "output_type": "execute_result"
    }
   ],
   "source": [
    "list('google')"
   ]
  },
  {
   "cell_type": "code",
   "execution_count": 23,
   "id": "cc7742dd",
   "metadata": {},
   "outputs": [
    {
     "data": {
      "text/plain": [
       "Counter({'g': 2, 'o': 2, 'l': 1, 'e': 1})"
      ]
     },
     "execution_count": 23,
     "metadata": {},
     "output_type": "execute_result"
    }
   ],
   "source": [
    "Counter('google')"
   ]
  },
  {
   "cell_type": "code",
   "execution_count": 24,
   "id": "5bf016f1",
   "metadata": {},
   "outputs": [
    {
     "data": {
      "text/plain": [
       "[('g', 2), ('o', 2), ('l', 1), ('e', 1)]"
      ]
     },
     "execution_count": 24,
     "metadata": {},
     "output_type": "execute_result"
    }
   ],
   "source": [
    "Counter('google').most_common()"
   ]
  },
  {
   "cell_type": "code",
   "execution_count": null,
   "id": "03c93a85",
   "metadata": {},
   "outputs": [],
   "source": []
  },
  {
   "cell_type": "code",
   "execution_count": 31,
   "id": "65c66093",
   "metadata": {},
   "outputs": [
    {
     "name": "stdout",
     "output_type": "stream",
     "text": [
      "1\n",
      "5123-4567-8912-3456\n",
      "Valid\n"
     ]
    }
   ],
   "source": [
    "##########################################################################\n",
    "\n",
    "\n",
    "# (?!...) =>  negative lookahead assertion. e.g., Isaac (?!Asimov) will match 'Isaac ' only if it’s not followed -\n",
    "#            - by 'Asimov'.\n",
    "# .* => matches any number of elements/characters (except newline element/character).\n",
    "# (\\d)(-?\\1) => matches a digit followed by an optional hypen sign and then the same digit that was captured earlier.\n",
    "# ..(\\d)(-?\\1){3}.. => this part is checking for the repeated sequence of the captured digit (\\d). \n",
    "#                      - captured digit (\\d) can be repeated three times. i.e., ..2-22-2.. (invalid),\n",
    "#                      - ..2-2-2-2.. (invalid), ..2-2-2.. (valid), ..222.. (valid), ..2222.. (invalid), ..2#222.. (valid).\n",
    "# (?!.*(\\d)(-?\\1){3}) => checking that there are no repeated sequences of a digit that are 4 or more characters long in the entire string.\n",
    "\n",
    "# [456]\\d{3} => checking that string must start with a 4, 5 or 6, then a digit (this digit can appear thrice).\n",
    "\n",
    "# (?: ... ) =>  represents a non-capturing group. non-capturing groups are particularly useful when you want to -\n",
    "#               - use parentheses ( () ) for grouping but don't need to store the matched substring for later use. \n",
    "# (?:-?\\d{4}){3} => checking optional hyphen, then exactly four digit, preceding element (in this case,  -\n",
    "#                  - the non-capturing group) should appear exactly three times.\n",
    "\n",
    "\n",
    "# Compile a regular expression pattern into a \"regular expression object\", which can be used for matching using -\n",
    "#    - its match(), search() and other methods.\n",
    "pattern = re.compile(\n",
    "    r'^'\n",
    "    r'(?!.*(\\d)(-?\\1){3})'\n",
    "    r'[456]\\d{3}'\n",
    "    r'(?:-?\\d{4}){3}'\n",
    "    r'$')\n",
    "\n",
    "'''\n",
    "A valid credit card from ABCD Bank has the following characteristics:\n",
    "► It must start with a 4, 5 or 6.\n",
    "► It must contain exactly 16 digits.\n",
    "► It must only consist of digits (0-9).\n",
    "► It may have digits in groups of 4, separated by one hyphen \"-\".\n",
    "► It must NOT use any other separator like ' ' , '_', etc.\n",
    "► It must NOT have 4 or more consecutive repeated digits.\n",
    "\n",
    "\n",
    "5 => first line of input contains an integer N.\n",
    "4123456789123456 => next N lines contain credit card numbers.\n",
    "5123-4567-8912-3456\n",
    "61234-567-8912-3456\n",
    "4123356789123456\n",
    "5133-3367-8912-3456\n",
    "'''\n",
    "\n",
    "# using for loop to the input from user \n",
    "for _ in range(int(input().strip())):\n",
    "    \n",
    "    # pattern.search(input().strip()) =>\n",
    "    #        <re.Match object; span=(0, 19), match='5123-4567-8912-3456'>    (for 5123-4567-8912-3456)\n",
    "    #        None                                                            (for 61234-567-8912-3456)\n",
    "    print('Valid' if pattern.search(input().strip()) else 'Invalid')"
   ]
  },
  {
   "cell_type": "code",
   "execution_count": 6,
   "id": "f8913f18",
   "metadata": {},
   "outputs": [
    {
     "name": "stdout",
     "output_type": "stream",
     "text": [
      "1\n",
      "brian-23@hackerrank.com\n",
      "['brian-23@hackerrank.com']\n"
     ]
    }
   ],
   "source": [
    "#########################################################################\n",
    "\n",
    "def fun(email):\n",
    "    # r (\"raw string literal\" used to indicate that the string should be treated as a raw string, which means that - \n",
    "    #    - backslashes within the string are treated as literal characters and not as escape characters).\n",
    "    # \n",
    "    # [\\\\w-]+ => matches one or more word characters (\\w, which includes letters, digits, and underscores) or hyphens.\n",
    "    # \\\\. => matches a literal dot character (escaped with backslashes).\n",
    "    # [a-z]{1,3} => matches one to three lowercase letters.\n",
    "    \n",
    "    #pattern = re.compile(\"^[\\\\w-]+@[0-9a-zA-Z]+\\\\.[a-z]{1,3}$\")\n",
    "    \n",
    "    # \\w+ => matches one or more word characters at the beginning of the email address.\n",
    "    # ([-_]?\\\\w+)* => allows for hyphens or underscores followed by more word characters, and this pattern can repeat.\n",
    "    pattern = re.compile(\"^\\\\w+([-_]?\\\\w+)*@[0-9a-zA-Z]+\\\\.[a-z]{1,3}$\")\n",
    "    \n",
    "    \n",
    "    # pattern.match(email) => <re.Match object; span=(0, 19), match='lara@hackerrank.com'>\n",
    "    return pattern.match(email)\n",
    "\n",
    "\n",
    "def filter_mail(emails):\n",
    "    # filter(function, iterable) => construct an iterator from those elements of iterable for which function is true. \n",
    "    # filter(fun, emails) => <filter object at 0x7f89b42a4790>.\n",
    "    return list(filter(fun, emails))\n",
    "\n",
    "\n",
    "n = int(input())\n",
    "emails = []\n",
    "for _ in range(n):\n",
    "    emails.append(input().strip())\n",
    "\n",
    "'''\n",
    "Valid email addresses must follow these rules:\n",
    "    It must have the username@websitename.extension format type.\n",
    "    The username can only contain letters, digits, dashes and underscores (i.e., [a-z],[A-Z],[0-9],[_-]).\n",
    "    The website name can only have letters and digits (i.e., [a-z],[A-Z],[0-9]).\n",
    "    The extension can only contain letters (i.e., [a-z],[A-Z]).\n",
    "    The maximum length of the extension is 3.\n",
    "\n",
    "3 => the first line of input is the integer N. \n",
    "lara@hackerrank.com => N lines next, each containing a string.\n",
    "brian-23@hackerrank.com\n",
    "harsh@gmail\n",
    "'''\n",
    "    \n",
    "filtered_emails = filter_mail(emails)\n",
    "filtered_emails.sort()\n",
    "print(filtered_emails)"
   ]
  },
  {
   "cell_type": "code",
   "execution_count": null,
   "id": "f4418dcd",
   "metadata": {},
   "outputs": [],
   "source": []
  },
  {
   "cell_type": "code",
   "execution_count": 54,
   "id": "4c780c31",
   "metadata": {},
   "outputs": [
    {
     "name": "stdout",
     "output_type": "stream",
     "text": [
      "3\n",
      "odd 2\n",
      "1\n",
      "3\n",
      "even 3\n",
      "0\n",
      "2\n",
      "4\n",
      "odd 5\n",
      "1\n",
      "3\n",
      "5\n",
      "7\n",
      "9\n"
     ]
    }
   ],
   "source": [
    "#################################################################################\n",
    "\n",
    "class EvenStream(object):\n",
    "    def __init__(self):\n",
    "        self.current = 0\n",
    "\n",
    "    def get_next(self):\n",
    "        to_return = self.current\n",
    "        self.current += 2\n",
    "        return to_return\n",
    "\n",
    "class OddStream(object):\n",
    "    def __init__(self):\n",
    "        self.current = 1\n",
    "\n",
    "    def get_next(self):\n",
    "        to_return = self.current\n",
    "        self.current += 2\n",
    "        return to_return\n",
    "\n",
    "def print_from_stream(n, stream=None):\n",
    "    if stream is None:\n",
    "        stream = EvenStream()\n",
    "    for _ in range(n):\n",
    "        print(stream.get_next())\n",
    "\n",
    "\n",
    "queries = int(input())\n",
    "\n",
    "'''\n",
    "def print_from_stream(n, stream) => function should print the first n values returned by \"get_next() method\" of - \n",
    "             - \"stream object\" provided as an argument. Each of these values should be printed in a separate line.\n",
    "             whenever the function is called without the stream argument, it should use an \"instance of EvenStream\"\n",
    "             class as the value of stream.\n",
    "             \n",
    "3 => in the first line, there is a single integer q denoting the number of queries.\n",
    "odd 2 => next q lines contains a stream_name followed by integer n.\n",
    "even 3\n",
    "odd 5\n",
    "'''\n",
    "for _ in range(queries):\n",
    "    stream_name, n = input().split()\n",
    "    n = int(n)\n",
    "    if stream_name == \"even\":\n",
    "        print_from_stream(n)\n",
    "    else:\n",
    "        print_from_stream(n, OddStream())"
   ]
  },
  {
   "cell_type": "code",
   "execution_count": 7,
   "id": "a0a0464a",
   "metadata": {},
   "outputs": [
    {
     "name": "stdout",
     "output_type": "stream",
     "text": [
      "1\n",
      "if a + b > 0 && a - b < 0 || a*b=2:\n",
      "if a + b > 0 and a - b < 0 or a*b=2:\n"
     ]
    }
   ],
   "source": [
    "###############################3\n",
    "'''\n",
    "modify && and || symbols to the following:\n",
    "&& → and\n",
    "|| → or\n",
    "Note do not change &&& or ||| or & or |.\n",
    "Only change those '&&' which have space on both sides.\n",
    "Only change those '||' which have space on both sides.\n",
    "\n",
    "4\n",
    "if a + b > 0 && a - b < 0 || a*b=2:\n",
    "    start()\n",
    "elif a*b > 10 || a/b < 1 && a*b=2:\n",
    "    stop()\n",
    "'''\n",
    "\n",
    "def lambda_extended(x):\n",
    "    # when input()='if a + b > 0 && a - b < 0 || a*b=2:' this function is called twice.\n",
    "    # x (on first call of this func)=>\n",
    "    # <re.Match object; span=(13, 15), match='&&'> \n",
    "    # x (on second call of this func)=>\n",
    "    # <re.Match object; span=(26, 28), match='||'>\n",
    "    \n",
    "\n",
    "    # x.group(), x.group(0), x.group(1) => &&, &&, &&      (on first call of this func)\n",
    "    # x.group(2) => no such group            (on first call of this func)\n",
    "    if x.group() == '&&':\n",
    "        return 'and'\n",
    "    else: return 'or'\n",
    "\n",
    "for i in range(int(input())):\n",
    "    \n",
    "    # re.sub(pattern, repl, string, ...) => return the string obtained by replacing the leftmost non-overlapping -\n",
    "    #    - occurrences of pattern in string by the replacement repl. if repl is a function, it is called for every -\n",
    "    #    - non-overlapping occurrence of pattern. the function takes a single match object argument, and returns -\n",
    "    #    - the replacement string.\n",
    "    # (?<=...) => positive lookbehind assertion.\n",
    "    # (&&|\\|\\|) => matches either && (logical AND) or || (logical OR) operator.\n",
    "    # (?= ) => positive lookahead assertion. \n",
    "    \n",
    "    #print(re.sub(r'(?<= )(&&|\\|\\|)(?= )', lambda x: 'and' if x.group() == '&&' else 'or', input()))\n",
    "    print(re.sub(r'(?<= )(&&|\\|\\|)(?= )', lambda_extended, input()))"
   ]
  },
  {
   "cell_type": "code",
   "execution_count": 77,
   "id": "84c6f680",
   "metadata": {},
   "outputs": [
    {
     "name": "stdout",
     "output_type": "stream",
     "text": [
      "3\n",
      "1 2\n",
      "3 4\n",
      "10 6\n",
      "5 8\n"
     ]
    }
   ],
   "source": [
    "###########################################################\n",
    "def product(fracs):\n",
    "    # reduce(function, iterable) => apply function of two arguments cumulatively to the items of iterable, from - \n",
    "    #     - left to right, so as to reduce the iterable to a single value\n",
    "    \n",
    "    # reduce(lambda x, y: x * y, fracs) => 5/8\n",
    "    t = reduce(lambda x, y: x * y, fracs)\n",
    "\n",
    "    return t.numerator, t.denominator\n",
    "\n",
    "'''\n",
    "Given a list of rational numbers, find their product.\n",
    "\n",
    "3 => first line contains n, the number of rational numbers.\n",
    "1 2 => next n lines contain two integers, the numerator and denominator of rational number.\n",
    "3 4\n",
    "10 6\n",
    "\n",
    "5 8 => numerator and denominator of output.\n",
    "'''\n",
    "\n",
    "fracs = []\n",
    "for _ in range(int(input())):\n",
    "    # *map(int, input().split()) => 1 2        (for first input 1 2)\n",
    "    # Fraction(*map(int, input().split())) => 1/2     (for first input 1 2)\n",
    "\n",
    "    fracs.append( Fraction(*map(int, input().split())) )\n",
    "\n",
    "# fracs => [Fraction(1, 2), Fraction(3, 4), Fraction(5, 3)]\n",
    "# fracs[0] => 1/2\n",
    "\n",
    "result = product(fracs)\n",
    "print(*result)"
   ]
  },
  {
   "cell_type": "code",
   "execution_count": null,
   "id": "c4b8a7d3",
   "metadata": {},
   "outputs": [],
   "source": []
  }
 ],
 "metadata": {
  "kernelspec": {
   "display_name": "Python 3 (ipykernel)",
   "language": "python",
   "name": "python3"
  },
  "language_info": {
   "codemirror_mode": {
    "name": "ipython",
    "version": 3
   },
   "file_extension": ".py",
   "mimetype": "text/x-python",
   "name": "python",
   "nbconvert_exporter": "python",
   "pygments_lexer": "ipython3",
   "version": "3.7.12"
  }
 },
 "nbformat": 4,
 "nbformat_minor": 5
}
