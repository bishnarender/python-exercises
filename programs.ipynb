{
 "cells": [
  {
   "cell_type": "markdown",
   "metadata": {},
   "source": [
    "https://github.com/Sachin-D-N/Python_solved_problems/tree/master/Python_Problem_Practise"
   ]
  },
  {
   "cell_type": "markdown",
   "metadata": {
    "colab_type": "text",
    "id": "l0ZzOlyxB-kf"
   },
   "source": [
    "<h1>Python: without numpy or sklearn </h1>"
   ]
  },
  {
   "cell_type": "markdown",
   "metadata": {
    "colab_type": "text",
    "id": "C0xO8JV9B-ki"
   },
   "source": [
    "<h3> Q1: Given two matrices please print the product of those two matrices </h3>\n",
    "<pre>\n",
    "\n",
    "Ex 1: A   = [[1 3 4]\n",
    "             [2 5 7]\n",
    "             [5 9 6]]\n",
    "      B   = [[1 0 0]\n",
    "             [0 1 0]\n",
    "             [0 0 1]]\n",
    "      A*B = [[1 3 4]\n",
    "             [2 5 7]\n",
    "             [5 9 6]]\n",
    "\n",
    "     \n",
    "Ex 2: A   = [[1 2]\n",
    "             [3 4]]\n",
    "      B   = [[1 2 3 4 5]\n",
    "             [5 6 7 8 9]]\n",
    "      A*B = [[11 14 17 20 23]\n",
    "             [23 30 37 44 51]]\n",
    "             \n",
    "Ex 3: A   = [[1 2]\n",
    "             [3 4]]\n",
    "      B   = [[1 4]\n",
    "             [5 6]\n",
    "             [7 8]\n",
    "             [9 6]]\n",
    "      A*B =Not possible\n",
    "</pre>"
   ]
  },
  {
   "cell_type": "code",
   "execution_count": 7,
   "metadata": {},
   "outputs": [],
   "source": [
    "from random import randint\n",
    "from random import randrange\n",
    "from random import choices\n",
    "from collections import Counter\n",
    "from itertools import accumulate\n",
    "from bisect import bisect\n",
    "import math"
   ]
  },
  {
   "cell_type": "code",
   "execution_count": 21,
   "metadata": {},
   "outputs": [
    {
     "name": "stdout",
     "output_type": "stream",
     "text": [
      "0\n"
     ]
    }
   ],
   "source": [
    "# return a single value in range [0,2) i.e., exclusive of 2\n",
    "print(randrange(0,2))"
   ]
  },
  {
   "cell_type": "code",
   "execution_count": 32,
   "metadata": {},
   "outputs": [
    {
     "name": "stdout",
     "output_type": "stream",
     "text": [
      "2\n"
     ]
    }
   ],
   "source": [
    "# return a single value in range [0,2] i.e., inclusive of 2\n",
    "print(randint(0,2))"
   ]
  },
  {
   "cell_type": "code",
   "execution_count": 11,
   "metadata": {},
   "outputs": [
    {
     "name": "stdout",
     "output_type": "stream",
     "text": [
      "[[0, 1, 2, 3, 4, 5, 6, 7, 8, 9], [0, 1, 2, 3, 4, 5, 6, 7, 8, 9], [0, 1, 2, 3, 4, 5, 6, 7, 8, 9], [0, 1, 2, 3, 4, 5, 6, 7, 8, 9], [0, 1, 2, 3, 4, 5, 6, 7, 8, 9], [0, 1, 2, 3, 4, 5, 6, 7, 8, 9], [0, 1, 2, 3, 4, 5, 6, 7, 8, 9], [0, 1, 2, 3, 4, 5, 6, 7, 8, 9], [0, 1, 2, 3, 4, 5, 6, 7, 8, 9], [0, 1, 2, 3, 4, 5, 6, 7, 8, 9]]\n"
     ]
    }
   ],
   "source": [
    "mat_A = [[i for i in range(10)] for j in range(10)]\n",
    "print(mat_A)"
   ]
  },
  {
   "cell_type": "code",
   "execution_count": 24,
   "metadata": {},
   "outputs": [
    {
     "name": "stdout",
     "output_type": "stream",
     "text": [
      "[[3, 1, 2, 4, 4, 4, 0, 3, 0, 0], [2, 2, 4, 4, 2, 3, 1, 1, 3, 4], [1, 1, 0, 2, 4, 0, 0, 4, 1, 1], [0, 1, 3, 4, 2, 4, 4, 4, 2, 0], [3, 0, 0, 2, 0, 3, 1, 0, 4, 1], [0, 4, 2, 2, 1, 4, 4, 0, 1, 4], [4, 2, 4, 1, 4, 3, 1, 4, 4, 2], [3, 0, 1, 2, 4, 2, 1, 1, 4, 1], [1, 1, 2, 4, 0, 3, 2, 3, 3, 3], [4, 1, 0, 0, 3, 4, 1, 3, 1, 2]]\n"
     ]
    }
   ],
   "source": [
    "mat_A = [[randrange(0,5) for i in range(10)] for j in range(10)]\n",
    "print(mat_A)"
   ]
  },
  {
   "cell_type": "code",
   "execution_count": 50,
   "metadata": {},
   "outputs": [
    {
     "name": "stdout",
     "output_type": "stream",
     "text": [
      "4\t1\t0\t0\t3\t4\t1\t3\t1\t2\n",
      "<class 'str'>\n"
     ]
    }
   ],
   "source": [
    "for row in mat_A:\n",
    "    a = '\\t'.join([str(cell) for cell in row])\n",
    "print(a)\n",
    "print(type(a))"
   ]
  },
  {
   "cell_type": "code",
   "execution_count": 48,
   "metadata": {},
   "outputs": [
    {
     "name": "stdout",
     "output_type": "stream",
     "text": [
      "['3\\t1\\t2\\t4\\t4\\t4\\t0\\t3\\t0\\t0']\n"
     ]
    }
   ],
   "source": [
    "b = []\n",
    "for row in mat_A:\n",
    "    a = '\\t'.join([str(cell) for cell in row])\n",
    "    b.append(a)\n",
    "    break\n",
    "print(b)"
   ]
  },
  {
   "cell_type": "code",
   "execution_count": 55,
   "metadata": {},
   "outputs": [
    {
     "name": "stdout",
     "output_type": "stream",
     "text": [
      "['3\\t1\\t2\\t4\\t4\\t4\\t0\\t3\\t0\\t0', '2\\t2\\t4\\t4\\t2\\t3\\t1\\t1\\t3\\t4', '1\\t1\\t0\\t2\\t4\\t0\\t0\\t4\\t1\\t1', '0\\t1\\t3\\t4\\t2\\t4\\t4\\t4\\t2\\t0', '3\\t0\\t0\\t2\\t0\\t3\\t1\\t0\\t4\\t1', '0\\t4\\t2\\t2\\t1\\t4\\t4\\t0\\t1\\t4', '4\\t2\\t4\\t1\\t4\\t3\\t1\\t4\\t4\\t2', '3\\t0\\t1\\t2\\t4\\t2\\t1\\t1\\t4\\t1', '1\\t1\\t2\\t4\\t0\\t3\\t2\\t3\\t3\\t3', '4\\t1\\t0\\t0\\t3\\t4\\t1\\t3\\t1\\t2']\n",
      "3\t1\t2\t4\t4\t4\t0\t3\t0\t0\n",
      "2\t2\t4\t4\t2\t3\t1\t1\t3\t4\n",
      "1\t1\t0\t2\t4\t0\t0\t4\t1\t1\n",
      "0\t1\t3\t4\t2\t4\t4\t4\t2\t0\n",
      "3\t0\t0\t2\t0\t3\t1\t0\t4\t1\n",
      "0\t4\t2\t2\t1\t4\t4\t0\t1\t4\n",
      "4\t2\t4\t1\t4\t3\t1\t4\t4\t2\n",
      "3\t0\t1\t2\t4\t2\t1\t1\t4\t1\n",
      "1\t1\t2\t4\t0\t3\t2\t3\t3\t3\n",
      "4\t1\t0\t0\t3\t4\t1\t3\t1\t2\n"
     ]
    }
   ],
   "source": [
    "b = []\n",
    "for row in mat_A:\n",
    "    a = '\\t'.join([str(cell) for cell in row])\n",
    "    b.append(a)\n",
    "print(b)\n",
    "a = '\\n'.join(b)\n",
    "print(a)"
   ]
  },
  {
   "cell_type": "code",
   "execution_count": 33,
   "metadata": {},
   "outputs": [
    {
     "name": "stdout",
     "output_type": "stream",
     "text": [
      "3\t1\t2\t4\t4\t4\t0\t3\t0\t0\n",
      "2\t2\t4\t4\t2\t3\t1\t1\t3\t4\n",
      "1\t1\t0\t2\t4\t0\t0\t4\t1\t1\n",
      "0\t1\t3\t4\t2\t4\t4\t4\t2\t0\n",
      "3\t0\t0\t2\t0\t3\t1\t0\t4\t1\n",
      "0\t4\t2\t2\t1\t4\t4\t0\t1\t4\n",
      "4\t2\t4\t1\t4\t3\t1\t4\t4\t2\n",
      "3\t0\t1\t2\t4\t2\t1\t1\t4\t1\n",
      "1\t1\t2\t4\t0\t3\t2\t3\t3\t3\n",
      "4\t1\t0\t0\t3\t4\t1\t3\t1\t2 \n",
      "\n"
     ]
    }
   ],
   "source": [
    "print('\\n'.join(['\\t'.join([str(cell) for cell in row]) for row in mat_A]),'\\n')"
   ]
  },
  {
   "cell_type": "code",
   "execution_count": 1,
   "metadata": {
    "colab": {},
    "colab_type": "code",
    "id": "rnssAfpgB-kj"
   },
   "outputs": [
    {
     "name": "stdout",
     "output_type": "stream",
     "text": [
      "Number of rows for matrix A: 5\n",
      "Number of columns for matrix A: 5\n",
      "your matrix A:\n",
      "32\t9\t26\t57\t5\n",
      "32\t39\t89\t96\t1\n",
      "84\t61\t56\t99\t84\n",
      "55\t13\t14\t46\t60\n",
      "6\t70\t27\t7\t32 \n",
      "\n",
      "Number of rows for matrix B: 5\n",
      "Number of columns for matrix B: 5\n",
      "your matrix B:\n",
      "35\t94\t4\t62\t67\n",
      "97\t81\t26\t21\t79\n",
      "56\t63\t35\t57\t10\n",
      "22\t18\t16\t88\t43\n",
      "67\t87\t82\t16\t22 \n",
      "\n",
      "Result of matrix_A x matrix_B:\n",
      "5038\t6836\t2594\t8751\t5676\n",
      "12066\t13589\t5875\t16340\t10265\n",
      "19799\t25455\t12354\t19737\t17112\n",
      "9002\t13153\t6704\t9489\t8150\n",
      "10810\t10845\t5525\t4509\t7207\n"
     ]
    }
   ],
   "source": [
    "from random import randrange\n",
    "\n",
    "n_rows_A = int(input('Number of rows for matrix A: '))\n",
    "n_cols_A = int(input('Number of columns for matrix A: '))\n",
    "\n",
    "# first arg can be omitted in range func, randrange func provides a single value at a time\n",
    "mat_A = [[randrange(1, 100) for i in range(n_cols_A)] for j in range(n_rows_A)] # i ε [0,n_cols_A)\n",
    "print(\"your matrix A:\")\n",
    "print('\\n'.join(['\\t'.join([str(cell) for cell in row]) for row in mat_A]),'\\n') # for printing in format\n",
    "\n",
    "n_rows_B = int(input('Number of rows for matrix B: '))\n",
    "n_cols_B = int(input('Number of columns for matrix B: '))\n",
    "\n",
    "mat_B = [[randrange(1, 100) for i in range(n_cols_B)] for j in range(n_rows_B)]\n",
    "print(\"your matrix B:\")\n",
    "print('\\n'.join(['\\t'.join([str(cell) for cell in row]) for row in mat_B]),'\\n')\n",
    "\n",
    "def matrix_mul(A, B):    \n",
    "    result = []\n",
    "    for m in range(len(A)): #  picking a row of A, m ε [0,len(A))\n",
    "        rows = []\n",
    "        for i in range(len(B[0])): # picking a column of B\n",
    "            row_ele_R = 0\n",
    "            for j in range (len(A[0])): # picking row element of A and column element of B\n",
    "                row_ele_R += A[m][j] * B[j][i] # row element of result\n",
    "            rows.append(row_ele_R) \n",
    "        result.append(rows) \n",
    "    return result\n",
    "\n",
    "if (len(mat_A[0]) != len(mat_B)): # (A cols size != B rows size)\n",
    "    print('The two matrices cannot be multiplied. Columns-rows mismatch.')\n",
    "else:\n",
    "    print(\"Result of matrix_A x matrix_B:\")\n",
    "    print('\\n'.join(['\\t'.join([str(cell) for cell in row]) for row in matrix_mul(mat_A,mat_B)]))"
   ]
  },
  {
   "cell_type": "markdown",
   "metadata": {
    "colab_type": "text",
    "id": "at4VwLggB-kn"
   },
   "source": [
    "<h3> Q2: Proportional Sampling - Select a number randomly with probability proportional to its magnitude from the given array of n elements</h3>\n",
    "\n",
    "Consider an experiment, selecting an element from the list A randomly with probability proportional to its magnitude.\n",
    "assume we are doing the same experiment for 100 times with replacement, in each experiment you will print a number that is selected randomly from A.\n",
    "\n",
    "<pre>\n",
    "Ex 1: A = [0 5 27 6 13 28 100 45 10 79]\n",
    "let f(x) denote the number of times x getting selected in 100 experiments.\n",
    "f(100) > f(79) > f(45) > f(28) > f(27) > f(13) > f(10) > f(6) > f(5) > f(0)\n",
    "</pre>"
   ]
  },
  {
   "cell_type": "code",
   "execution_count": 34,
   "metadata": {},
   "outputs": [
    {
     "name": "stdout",
     "output_type": "stream",
     "text": [
      "Clearly the number of times each elements appears is proportional to its magnitude.\n",
      "Frequency( Number ) ==>\n",
      "2(5) > 1(6) > 3(10) > 4(13) > 10(27) > 8(28) > 15(45) > 25(79) > 32(100) > None\n"
     ]
    }
   ],
   "source": [
    "A = [0,5,27,6,13,28,100,45,10,79]\n",
    "\n",
    "def propotional_sampling(A, n=100):\n",
    "    # calculate cumulative sum from A:\n",
    "    # accumulate(A) => <itertools.accumulate object at 0x0000016E201E0A88>\n",
    "    # *accumulate(A) => 0 5 32 38 51 79 179 224 234 313\n",
    "    cum_sum = [*accumulate(A)]\n",
    "    # cum_sum = [0, 5, 32, 38, 51, 79, 179, 224, 234, 313]\n",
    "\n",
    "    out = []\n",
    "    for _ in range(n):\n",
    "        # returns a next floating number in the range [0.0, 1.0)\n",
    "        i = random.random()                     # i = [0.0, 1.0)\n",
    "        \n",
    "        # bisect.bisect(a, x, ...) => \n",
    "        # locate the insertion point for x in a to maintain sorted order.\n",
    "        # returns an insertion point which comes after (to the right of) any existing entries of x in a.\n",
    "        # i*cum_sum[-1] => 193.1, 41, 36, 80, ...\n",
    "        idx = bisect(cum_sum, i*cum_sum[-1])    # get index to list A\n",
    "        # idx => 7, 4, 3, 6, ...\n",
    "        out.append(A[idx])\n",
    "\n",
    "    tmp = Counter(out)\n",
    "    # tmp => Counter({79: 30, 100: 23, 45: 15, 28: 11, 13: 7, 27: 7, 10: 4, 6: 2, 5: 1})\n",
    "    # sorted(tmp) => [5, 6, 10, 13, 27, 28, 45, 79, 100]\n",
    "    # tmp[5] => 1\n",
    "    \n",
    "    print(\"Frequency( Number ) ==>\")\n",
    "    # sort according to dictionary values; ascending\n",
    "    for item in sorted(tmp): \n",
    "        print(str(tmp[item])+\"(\"+str(item)+\")\", end=\" > \") # loop print in a line    \n",
    "\n",
    "\n",
    "print(\"Clearly the number of times each elements appears is proportional to its magnitude.\")\n",
    "print(propotional_sampling(A))"
   ]
  },
  {
   "cell_type": "markdown",
   "metadata": {
    "colab_type": "text",
    "id": "D1xQy2WWB-kq"
   },
   "source": [
    "<h3> Q3: Replace the digits in the string with #</h3>\n",
    "\n",
    "consider a string that will have digits in that, we need to remove all the not digits and replace the digits with #\n",
    "<pre>\n",
    "Ex 1: A = 234                Output: ###\n",
    "Ex 2: A = a2b3c4             Output: ###\n",
    "Ex 3: A = abc                Output:   (empty string)\n",
    "Ex 5: A = #2a$#b%c%561#      Output: ####\n",
    "</pre>"
   ]
  },
  {
   "cell_type": "code",
   "execution_count": 70,
   "metadata": {
    "colab": {},
    "colab_type": "code",
    "id": "fxczi2jzB-kr"
   },
   "outputs": [
    {
     "name": "stdout",
     "output_type": "stream",
     "text": [
      "Enter the string : #2a$#b%c%561#\n",
      "['2', '5', '6', '1']\n"
     ]
    },
    {
     "data": {
      "text/plain": [
       "'####'"
      ]
     },
     "execution_count": 70,
     "metadata": {},
     "output_type": "execute_result"
    }
   ],
   "source": [
    "import re\n",
    "\n",
    "def replace_digits(st):\n",
    "    str_2 = \"\"\n",
    "    result = re.findall(r'\\d', st) # finding Unicode decimal digit [0-9] in string\n",
    "    print(result)\n",
    "    for m in result:\n",
    "        str_2 += \"#\"\n",
    "    return str_2 # modified string which is after replacing the # with digits\n",
    "\n",
    "str_1 = input(\"Enter the string : \")\n",
    "replace_digits(str_1)"
   ]
  },
  {
   "cell_type": "markdown",
   "metadata": {
    "colab_type": "text",
    "id": "j7h0Ywg7B-kw"
   },
   "source": [
    "<h3> Q4: Students marks dashboard</h3>\n",
    "\n",
    "consider the marks list of class students given two lists <br>\n",
    "Students = ['student1','student2','student3','student4','student5','student6','student7','student8','student9','student10'] <br>\n",
    "Marks = [45, 78, 12, 14, 48, 43, 45, 98, 22, 80] <br>\n",
    "from the above two lists the Student[0] got Marks[0],  Student[1] got Marks[1] and so on <br><br>\n",
    "your task is to print the name of students\n",
    "<strong>a. Who got top 5 ranks, in the descending order of marks</strong> <br>\n",
    "<strong>b. Who got least 5 ranks, in the increasing order of marks</strong><br>\n",
    "<strong>d. Who got marks between  &gt;25th percentile &lt;75th percentile, in the increasing order of marks</strong>\n",
    "\n",
    "<pre>\n",
    "Ex 1: \n",
    "Students=['student1','student2','student3','student4','student5','student6','student7','student8','student9','student10'] \n",
    "Marks = [45, 78, 12, 14, 48, 43, 47, 98, 22, 80]\n",
    "a. \n",
    "student8  98\n",
    "student10 80\n",
    "student2  78\n",
    "student5  48\n",
    "student7  47\n",
    "b.\n",
    "student3 12\n",
    "student4 14\n",
    "student9 22\n",
    "student6 43\n",
    "student1 45\n",
    "c.\n",
    "student9 22\n",
    "student6 43\n",
    "student1 45\n",
    "student7 47\n",
    "student5 48\n",
    "</pre>"
   ]
  },
  {
   "cell_type": "code",
   "execution_count": 58,
   "metadata": {},
   "outputs": [
    {
     "name": "stdout",
     "output_type": "stream",
     "text": [
      "Top 5 ===> \n",
      " [('toh', 98), ('abe', 80), ('ram', 78), ('gor', 48), ('jim', 45), ('sam', 45)]\n",
      "\n",
      "Between 25 and 75 percentiles ===> \n",
      " [('kim', 43), ('sam', 45), ('jim', 45), ('gor', 48)]\n",
      "\n",
      "Bottom 5 ===> \n",
      " [('tom', 12), ('pam', 14), ('gig', 35), ('kim', 43), ('sam', 45), ('jim', 45)]\n"
     ]
    }
   ],
   "source": [
    "students = ['sam','ram','tom','pam','gor','kim','jim','toh','gig','abe']\n",
    "marks = [45, 78, 12, 14, 48, 43, 45, 98, 35, 80]\n",
    "\n",
    "# zip() will bind together corresponding elements of students and marks\n",
    "# e.g. [('student1', 45), ('student2', 78), ...]\n",
    "grades = list(zip(students, marks))\n",
    "\n",
    "# once that's all in one list of 2-tuples, sort it by calling .sort() or using sorted()\n",
    "# give it a \"key\", which specifies what criteria it should sort on\n",
    "# in this case, it should sort on the mark, so the second element (index 1) of the tuple\n",
    "_ = grades.sort(key=lambda e:e[1])\n",
    "# [('tom', 12), ('pam', 14), ('gig', 35), ('kim', 43), ('sam', 45), ('jim', 45), ('gor', 48), ('ram', 78), ('abe', 80), ('toh', 98)]\n",
    "\n",
    "# now, just slice out the 25th and 75th percentile based on the length of that list.\n",
    "# .ceil(); rounds a number UP to the nearest integer.\n",
    "# .floor(); rounds a number DOWN to the nearest integer.\n",
    "# 1/4 is 25th percentile and 3/4 is 75th percentile.\n",
    "twentyfifth = math.ceil(len(grades) / 4)\n",
    "seventyfifth = math.floor(3 * len(grades) / 4)\n",
    "\n",
    "marks = sorted(set(marks))\n",
    "\n",
    "\n",
    "# [::-1]; to reverse a list.\n",
    "# .reverse(); do not work when list inner elements are tuple.\n",
    "top5 = marks[-5:][::-1]\n",
    "print(\"Top 5 ===> \\n\", [grades[i] for i in range(len(grades)) if grades[i][1] in top5][::-1])\n",
    "print(\"\")\n",
    "print(\"Between 25 and 75 percentiles ===> \\n\", grades[twentyfifth : seventyfifth])\n",
    "# [('student6', 43), ('student1', 45), ('student7', 45), ('student5', 48)]\n",
    "print(\"\")\n",
    "bot5 = marks[:5]\n",
    "print(\"Bottom 5 ===> \\n\", [grades[i] for i in range(len(grades)) if grades[i][1] in bot5])"
   ]
  },
  {
   "cell_type": "code",
   "execution_count": 25,
   "metadata": {
    "colab": {},
    "colab_type": "code",
    "id": "cxPJgItsB-kx"
   },
   "outputs": [
    {
     "name": "stdout",
     "output_type": "stream",
     "text": [
      "How many students record you want to store?? 1\n",
      "Marks of 1 student : 10\n",
      "Name of 1 student: a\n",
      "\n"
     ]
    }
   ],
   "source": [
    "\n",
    "s = int(input('How many students record you want to store?? '))\n",
    "record={}\n",
    "for i in range(1, s+1):\n",
    "    #record[str(input(\"Name of {0} student: \".format(i)))]=int(input(\"Marks of {0} student : \".format(i)))\n",
    "    while  True:\n",
    "        try:\n",
    "            num=int(input(\"Marks of {0} student : \".format(i)))\n",
    "            assert num < 100\n",
    "            record[str(input(\"Name of {0} student: \".format(i)))]=num\n",
    "            print('')\n",
    "        except ValueError:\n",
    "            print(\"Not an integer! Please enter an integer.\")\n",
    "        except AssertionError:\n",
    "            print(\"Please enter an integer below 100\")\n",
    "        else:\n",
    "            break\n",
    "\n"
   ]
  },
  {
   "cell_type": "markdown",
   "metadata": {
    "colab_type": "text",
    "id": "qha0OhQHB-k1"
   },
   "source": [
    "<h3> Q5: Find the closest points</h3>\n",
    "\n",
    "Consider you have given n data points in the form of list of tuples like S=[(x1,y1),(x2,y2),(x3,y3),(x4,y4),(x5,y5),..,(xn,yn)] and a point P=(p,q) <br> Your task is to find 5 closest points(based on cosine distance) in S from P\n",
    "<br>Cosine distance between two points (x,y) and (p,q) is defind as $cos^{-1}(\\frac{(x\\cdot p+y\\cdot q)}{\\sqrt(x^2+y^2)\\cdot\\sqrt(p^2+q^2)})$\n",
    "<pre>\n",
    "Ex:\n",
    "\n",
    "S= [(1,2),(3,4),(-1,1),(6,-7),(0, 6),(-5,-8),(-1,-1),(6,0),(1,-1)]\n",
    "P= (3,-4)\n",
    "\n",
    "<img src='https://i.imgur.com/vyZZQGu.png' width=400>\n",
    "\n",
    "Output:\n",
    "(6,-7)\n",
    "(1,-1)\n",
    "(6,0)\n",
    "(-5,-8)\n",
    "(-1,-1)\n",
    "</pre>\n",
    " Hint - If you write the formula correctly you'll get the distance between points (6,-7) and (3,-4) = 0.065"
   ]
  },
  {
   "cell_type": "code",
   "execution_count": 3,
   "metadata": {
    "colab": {},
    "colab_type": "code",
    "id": "wA5I1g-2B-k2"
   },
   "outputs": [
    {
     "name": "stdout",
     "output_type": "stream",
     "text": [
      "[(6, -7), (1, -1), (6, 0), (-5, -8), (-1, -1)]\n"
     ]
    }
   ],
   "source": [
    "import math\n",
    "\n",
    "\n",
    "# here S is list of tuples and P is a tuple ot len=2\n",
    "def closest_points_to_p(S, P):\n",
    "    # write your code here\n",
    "    dist_l={}\n",
    "    p, q = P\n",
    "    for i in S:\n",
    "        x, y = i\n",
    "        dist_l[i]=math.acos((x*p+y*q)/(math.sqrt(x*x + y*y)*math.sqrt(p*p + q*q))) #dictionary of point and its distance\n",
    "\n",
    "    i=0\n",
    "    closest_points_to_p=[]\n",
    "    for item in sorted(dist_l, key=dist_l.__getitem__): # sorting dictionary according to values, not keys\n",
    "        closest_points_to_p.append(item)\n",
    "        i+=1\n",
    "        if(i==5):\n",
    "            break        \n",
    "    return closest_points_to_p  # its list of tuples\n",
    "\n",
    "S= [(1,2),(3,4),(-1,1),(6,-7),(0, 6),(-5,-8),(-1,-1),(6,0),(1,-1)]\n",
    "P= (3,-4)\n",
    "points = closest_points_to_p(S, P)\n",
    "print(points) #print the returned values"
   ]
  },
  {
   "cell_type": "markdown",
   "metadata": {
    "colab_type": "text",
    "id": "-g11jeAiB-k5"
   },
   "source": [
    "<h3> Q6: Find Which line separates oranges and apples</h3>\n",
    "consider you have given two set of data points in the form of list of tuples like \n",
    "<pre>\n",
    "Red =[(R11,R12),(R21,R22),(R31,R32),(R41,R42),(R51,R52),..,(Rn1,Rn2)]\n",
    "Blue=[(B11,B12),(B21,B22),(B31,B32),(B41,B42),(B51,B52),..,(Bm1,Bm2)]\n",
    "</pre>\n",
    "and set of line equations(in the string formate, i.e list of strings)\n",
    "<pre>\n",
    "Lines = [a1x+b1y+c1,a2x+b2y+c2,a3x+b3y+c3,a4x+b4y+c4,..,K lines]\n",
    "Note: you need to string parsing here and get the coefficients of x,y and intercept\n",
    "</pre>\n",
    "your task is to for each line that is given print \"YES\"/\"NO\", you will print yes, if all the red points are one side of the line and blue points are other side of the line, otherwise no\n",
    "<pre>\n",
    "Ex:\n",
    "Red= [(1,1),(2,1),(4,2),(2,4), (-1,4)]\n",
    "Blue= [(-2,-1),(-1,-2),(-3,-2),(-3,-1),(1,-3)]\n",
    "Lines=[\"1x+1y+0\",\"1x-1y+0\",\"1x+0y-3\",\"0x+1y-0.5\"]\n",
    "<img src='https://i.imgur.com/mSnQW5K.png' width=400>\n",
    "\n",
    "Output:\n",
    "YES\n",
    "NO\n",
    "NO\n",
    "YES\n",
    "</pre>"
   ]
  },
  {
   "cell_type": "code",
   "execution_count": 80,
   "metadata": {},
   "outputs": [
    {
     "name": "stdout",
     "output_type": "stream",
     "text": [
      "['1', '-1', '-5']\n",
      "-1\n",
      "-1.0\n",
      "<class 'float'>\n"
     ]
    }
   ],
   "source": [
    "Lines=[\"1x-1y-5\"]\n",
    "\n",
    "for l in Lines:\n",
    "    # Split string by the occurrences of pattern. e.g. 1 -1 0 for Lines[0]\n",
    "    # strip; removing the leading and trailing characters/spaces\n",
    "    # extracting the coefficients alpha, beta and constant\n",
    "    \n",
    "    print(re.split('x|y', l)) # print: ['1', '-1', '-5']\n",
    "    print(re.split('x|y', l)[1].strip()) # print: -1\n",
    "    print(float(re.split('x|y', l)[1].strip())) # print: -1.0\n",
    "    al, be, c = tuple(float(i.strip()) for i in re.split('x|y', l))\n",
    "\n",
    "    print(type(al))"
   ]
  },
  {
   "cell_type": "code",
   "execution_count": 82,
   "metadata": {
    "colab": {},
    "colab_type": "code",
    "id": "eRxExaTRB-k6"
   },
   "outputs": [
    {
     "name": "stdout",
     "output_type": "stream",
     "text": [
      "Yes\n",
      "No\n",
      "No\n",
      "Yes\n"
     ]
    }
   ],
   "source": [
    "import re\n",
    "\n",
    "Red= [(1,1),(2,1),(4,2),(2,4),(-1,4)]\n",
    "Blue= [(-2,-1),(-1,-2),(-3,-2),(-3,-1),(1,-3)]\n",
    "Lines=[\"1x+1y+0\",\"1x-1y+0\",\"1x+0y-3\",\"0x+1y-0.5\"]\n",
    "\n",
    "\n",
    "def i_am_the_one(a, b, c):\n",
    "    flag_R=[]\n",
    "    for i in Red:\n",
    "    #Checking if all the red points are seperated from the line\n",
    "        x, y = i\n",
    "        res = a*x + b*y\n",
    "        if(res>c): # check all points for one side of line\n",
    "            flag_R.append(True)\n",
    "        else:\n",
    "            flag_R.append(False)\n",
    "\n",
    "    flag_B=[]\n",
    "    for i in Blue:\n",
    "    #Checking if all the blue points are seperated from the line\n",
    "        x, y = i\n",
    "        res = a*x + b*y\n",
    "        if(res<c): # check all points for side opposite to red points\n",
    "            flag_B.append(True)\n",
    "        else:\n",
    "            flag_B.append(False)\n",
    "          \n",
    "\n",
    "    #If all the red and blue points are seperated return Yes else No\n",
    "    # all(flag_R) returns true when all elements in the list flag_R are ture\n",
    "    # not any(flag_R) returns true when all elements in the list flag_R are false\n",
    "    if( (all(flag_R) and all(flag_B)) or (not any(flag_R) and not any(flag_B)) ):\n",
    "        print(\"Yes\")\n",
    "    else:\n",
    "        print(\"No\")\n",
    "\n",
    "\n",
    "for l in Lines:\n",
    "    # Split string by the occurrences of pattern. e.g. 1 -1 0 for Lines[0]\n",
    "    # strip; removing the leading and trailing characters/spaces\n",
    "    # extracting the coefficients alpha, beta and constant\n",
    "    al, be, c = tuple(float(i.strip()) for i in re.split('x|y', l))\n",
    "    i_am_the_one(al,be,c)\n"
   ]
  },
  {
   "cell_type": "markdown",
   "metadata": {
    "colab_type": "text",
    "id": "9OBpURbNB-k9"
   },
   "source": [
    "<h3> Q7: Filling the missing values in the specified formate</h3>\n",
    "You will be given a string with digits and '\\_'(missing value) symbols you have to replace the '\\_' symbols as explained \n",
    "<pre>\n",
    "Ex 1: _, _, _, 24 ==> 24/4, 24/4, 24/4, 24/4 i.e we. have distributed the 24 equally to all 4 places <br>\n",
    "Ex 2: 40, _, _, _, 60 ==> (60+40)/5,(60+40)/5,(60+40)/5,(60+40)/5,(60+40)/5 ==> 20, 20, 20, 20, 20 i.e. the sum of (60+40) is distributed qually to all 5 places<br>\n",
    "Ex 3: 80, _, _, _, _  ==> 80/5,80/5,80/5,80/5,80/5 ==> 16, 16, 16, 16, 16 i.e. the 80 is distributed qually to all 5 missing values that are right to it<br>\n",
    "Ex 4: _, _, 30, _, _, _, 50, _, _  \n",
    "==> we will fill the missing values from left to right \n",
    "    a. first we will distribute the 30 to left two missing values (10, 10, 10, _, _, _, 50, _, _)\n",
    "    b. now distribute the sum (10+50) missing values in between (10, 10, 12, 12, 12, 12, 12, _, _) \n",
    "    c. now we will distribute 12 to right side missing values (10, 10, 12, 12, 12, 12, 4, 4, 4)\n",
    "</pre>\n",
    "for a given string with comma seprate values, which will have both missing values numbers like ex: \"_, _, x, _, _, _\"\n",
    "you need fill the missing values\n",
    "\n",
    "Q: your program reads a string like ex: \"_, _, x, _, _, _\" and returns the filled sequence\n",
    "\n",
    "Ex: \n",
    "<pre>\n",
    "Input1: \"_,_,_,24\"\n",
    "Output1: 6,6,6,6\n",
    "\n",
    "Input2: \"40,_,_,_,60\"\n",
    "Output2: 20,20,20,20,20\n",
    "\n",
    "Input3: \"80,_,_,_,_\"\n",
    "Output3: 16,16,16,16,16\n",
    "\n",
    "Input4: \"_,_,30,_,_,_,50,_,_\"\n",
    "Output4: 10,10,12,12,12,12,4,4,4\n",
    "\n",
    "</pre>\n",
    "\n"
   ]
  },
  {
   "cell_type": "code",
   "execution_count": 74,
   "metadata": {},
   "outputs": [
    {
     "name": "stdout",
     "output_type": "stream",
     "text": [
      "['_', '_', '_', '24']\n",
      "['40', '_', '_', '_', '60']\n",
      "['80', '_', '_', '_', '_']\n",
      "['_', '_', '30', '_', '_', '_', '50', '_', '_']\n"
     ]
    }
   ],
   "source": [
    "S=  [\"_,_,_,24\",\"40,_,_,_,60\",\"80,_,_,_,_\",\"_,_,30,_,_,_,50,_,_\"]\n",
    "\n",
    "for j in range(len(S)):\n",
    "    list_S = S[j].strip().split(\",\")\n",
    "    print(list_S)"
   ]
  },
  {
   "cell_type": "code",
   "execution_count": 21,
   "metadata": {},
   "outputs": [
    {
     "name": "stdout",
     "output_type": "stream",
     "text": [
      "Input 1: \"_,_,_,24\"\n",
      "Output 1: [6, 6, 6, 6]\n",
      "\n",
      "Input 2: \"40,_,_,_,60\"\n",
      "Output 2: [20, 20, 20, 20, 20]\n",
      "\n",
      "Input 3: \"80,_,_,_,_\"\n",
      "Output 3: [16, 16, 16, 16, 16]\n",
      "\n",
      "Input 4: \"_,_,30,_,_,_,50,_,_\"\n",
      "Output 4: [10, 10, 12, 12, 12, 12, 4, 4, 4]\n",
      "\n"
     ]
    }
   ],
   "source": [
    "def lastSeen_To_current(lastSeen, current, divisor, val1, val2):\n",
    "    current+=1 # local variable current\n",
    "    if divisor == 1:\n",
    "        pass # pass is needed for empty code block to not produce an IndentationError\n",
    "    else:\n",
    "        d = int((val1+val2)/divisor)\n",
    "        for i in range(lastSeen, current):\n",
    "            list_S[i] = d # updating list_S from lastseen to current\n",
    "    return\n",
    "\n",
    "S=  [\"_,_,_,24\",\"40,_,_,_,60\",\"80,_,_,_,_\",\"_,_,30,_,_,_,50,_,_\"]\n",
    "\n",
    "for j in range(len(S)):\n",
    "    list_S = S[j].strip().split(\",\") # e.g. ['_', '_', '_', '24'] for j==0\n",
    "    # strip: Remove spaces at the beginning and at the end of the string\n",
    "    start = 0\n",
    "    len_S = len(list_S)\n",
    "    count = 1\n",
    "    lastSeen = 0 # index of last seen number other than 0\n",
    "\n",
    "    # converting input to integer: assigning 0 to blank places \n",
    "    for i in range(len_S):\n",
    "        if list_S[i] == \"_\":\n",
    "            list_S[i] = 0\n",
    "        else:\n",
    "            list_S[i] = int(list_S[i])\n",
    "\n",
    "    while(start < len_S):\n",
    "        if list_S[start] != 0:\n",
    "            current = start\n",
    "            divisor = current - lastSeen + 1\n",
    "            lastSeen_To_current(lastSeen, current, divisor, list_S[lastSeen], list_S[current])\n",
    "            lastSeen = current # assigning current to lastseen after updating list_S\n",
    "        if count == len_S:\n",
    "            if list_S[start] == 0:\n",
    "                current = len_S - 1\n",
    "                divisor = current - lastSeen + 1\n",
    "                lastSeen_To_current(lastSeen, current, divisor, list_S[lastSeen], list_S[current])\n",
    "        start += 1\n",
    "        count +=1\n",
    "    print('Input {0}: \"{1}\"'.format(j+1,S[j]))\n",
    "    print(\"Output {0}: {1}\".format(j+1,list_S), end =\"\\n\")\n",
    "    print()\n",
    "                                                                                 "
   ]
  },
  {
   "cell_type": "markdown",
   "metadata": {
    "colab_type": "text",
    "id": "RBz4pzlfB-lB"
   },
   "source": [
    "<h3> Q8: Find the conditional probabilities</h3>\n",
    "You will be given a list of lists, each sublist will be of length 2 i.e. [[x,y],[p,q],[l,m]..[r,s]]\n",
    "consider its like a martrix of n rows and two columns\n",
    "1. the first column F will contain only 5 uniques values (F1, F2, F3, F4, F5)\n",
    "2. the second column S will contain only 3 uniques values (S1, S2, S3)\n",
    "<pre>\n",
    "your task is to find\n",
    "a. Probability of P(F=F1|S==S1), P(F=F1|S==S2), P(F=F1|S==S3)\n",
    "b. Probability of P(F=F2|S==S1), P(F=F2|S==S2), P(F=F2|S==S3)\n",
    "c. Probability of P(F=F3|S==S1), P(F=F3|S==S2), P(F=F3|S==S3)\n",
    "d. Probability of P(F=F4|S==S1), P(F=F4|S==S2), P(F=F4|S==S3)\n",
    "e. Probability of P(F=F5|S==S1), P(F=F5|S==S2), P(F=F5|S==S3)\n",
    "</pre>\n",
    "Ex:\n",
    "\n",
    "<pre>\n",
    "[[F1,S1],[F2,S2],[F3,S3],[F1,S2],[F2,S3],[F3,S2],[F2,S1],[F4,S1],[F4,S3],[F5,S1]]\n",
    "\n",
    "a. P(F=F1|S==S1)=1/4, P(F=F1|S==S2)=1/3, P(F=F1|S==S3)=0/3\n",
    "b. P(F=F2|S==S1)=1/4, P(F=F2|S==S2)=1/3, P(F=F2|S==S3)=1/3\n",
    "c. P(F=F3|S==S1)=0/4, P(F=F3|S==S2)=1/3, P(F=F3|S==S3)=1/3\n",
    "d. P(F=F4|S==S1)=1/4, P(F=F4|S==S2)=0/3, P(F=F4|S==S3)=1/3\n",
    "e. P(F=F5|S==S1)=1/4, P(F=F5|S==S2)=0/3, P(F=F5|S==S3)=0/3\n",
    "</pre>\n",
    "\n",
    "\n"
   ]
  },
  {
   "cell_type": "code",
   "execution_count": 73,
   "metadata": {
    "colab": {},
    "colab_type": "code",
    "id": "e-1giz1MB-lC"
   },
   "outputs": [
    {
     "name": "stdout",
     "output_type": "stream",
     "text": [
      "Counter({'F2': 3, 'F1': 2, 'F3': 2, 'F4': 2, 'F5': 1})\n",
      "P(F1|S1) = 1/4\n",
      "P(F1|S2) = 1/3\n",
      "P(F1|S3) = 0/3\n",
      "\n",
      "P(F2|S1) = 1/4\n",
      "P(F2|S2) = 1/3\n",
      "P(F2|S3) = 1/3\n",
      "\n",
      "P(F3|S1) = 0/4\n",
      "P(F3|S2) = 1/3\n",
      "P(F3|S3) = 1/3\n",
      "\n",
      "P(F4|S1) = 1/4\n",
      "P(F4|S2) = 0/3\n",
      "P(F4|S3) = 1/3\n",
      "\n",
      "P(F5|S1) = 1/4\n",
      "P(F5|S2) = 0/3\n",
      "P(F5|S3) = 0/3\n",
      "\n"
     ]
    }
   ],
   "source": [
    "\n",
    "def compute_conditional_probabilites(A):\n",
    "    all_F = []\n",
    "    all_S = []\n",
    "    len_A = len(A)\n",
    "    for i in range(len_A):\n",
    "        all_F.append(A[i][0])\n",
    "        all_S.append(A[i][1])\n",
    "  \n",
    "    cnt_F=Counter(all_F) # e.g.: Counter({'F2': 3, 'F1': 2, 'F3': 2, 'F4': 2, 'F5': 1})\n",
    "    cnt_S=Counter(all_S) # e.g.: Counter({'S1': 4, 'S2': 3, 'S3': 3})\n",
    "\n",
    "\n",
    "    for item_f in cnt_F:\n",
    "        for item_s in cnt_S:\n",
    "            cnt_F_S=0;\n",
    "            for i in range(len_A):\n",
    "                if(A[i][0]==item_f and A[i][1]==item_s):\n",
    "                    cnt_F_S+=1\n",
    "            print(\"P(\"+item_f+\"|\"+item_s+\") = {0}/{1}\".format(cnt_F_S,cnt_S[item_s]))\n",
    "        print(\"\")\n",
    "\n",
    "\n",
    "A = [['F1','S1'],['F2','S2'],['F3','S3'],['F1','S2'],['F2','S3'],['F3','S2'],['F2','S1'],['F4','S1'],['F4','S3'],['F5','S1']]\n",
    "\n",
    "\n",
    "compute_conditional_probabilites(A)"
   ]
  },
  {
   "cell_type": "markdown",
   "metadata": {
    "colab_type": "text",
    "id": "n4HS87QmB-lF"
   },
   "source": [
    "<h3> Q9: Given two sentances S1, S2</h3>\n",
    "You will be given two sentances S1, S2 your task is to find \n",
    "<pre>\n",
    "a. Number of common words between S1, S2\n",
    "b. Words in S1 but not in S2\n",
    "c. Words in S2 but not in S1\n",
    "</pre>\n",
    "\n",
    "Ex: \n",
    "<pre>\n",
    "S1= \"the first column F will contain only 5 uniques values\"\n",
    "S2= \"the second column S will contain only 3 uniques values\"\n",
    "Output:\n",
    "a. 7\n",
    "b. ['first','F','5']\n",
    "c. ['second','S','3']\n",
    "</pre>"
   ]
  },
  {
   "cell_type": "code",
   "execution_count": 72,
   "metadata": {
    "colab": {},
    "colab_type": "code",
    "id": "Ez7hlHK0B-lG"
   },
   "outputs": [
    {
     "name": "stdout",
     "output_type": "stream",
     "text": [
      "Words both in S1 and S2 : ['will', 'values', 'uniques', 'the', 'only', 'contain', 'column']\n",
      "Words in S1 but not in S2 are : ['first', 'F', '5']\n",
      "Words in S2 but not in S1 are : ['second', 'S', '3']\n"
     ]
    }
   ],
   "source": [
    "\n",
    "def string_features(s1, s2):\n",
    "    list_s1=s1.split()\n",
    "    list_s2=s2.split()\n",
    "    \n",
    "    comm_s1 = sorted(list(set(list_s1).intersection(list_s2)), reverse=True)\n",
    "    #comm_s1 = sorted(list(set(list_s1) and set(list_s2)), reverse=True) # 'and' do not means intersection\n",
    "    \n",
    "    diff_s1 = sorted(list(set(list_s1) - set(list_s2)), reverse=True)\n",
    "    diff_s2 = sorted(list(set(list_s2) - set(list_s1)), reverse=True)\n",
    "    #diff = [w1 for w1 in list_s1 if w1 not in list_s2]\n",
    "    \n",
    "    \n",
    "    print(f\"Words both in S1 and S2 : {comm_s1}\")\n",
    "    print(f\"Words in S1 but not in S2 are : {diff_s1}\")\n",
    "    print(f\"Words in S2 but not in S1 are : {diff_s2}\")\n",
    "    return\n",
    "\n",
    "S1= \"the first column F will contain only 5 uniques values\"\n",
    "S2= \"the second column S will contain only 3 uniques values\"\n",
    "string_features(S1, S2)\n"
   ]
  },
  {
   "cell_type": "markdown",
   "metadata": {
    "colab_type": "text",
    "id": "XefXVEjCB-lI"
   },
   "source": [
    "<h3> Q10: Find log loss of dataframe</h3>\n",
    "You will be given a list of lists, each sublist will be of length 2 i.e. [[x,y],[p,q],[l,m]..[r,s]]\n",
    "consider its like a martrix of n rows and two columns\n",
    "\n",
    "a. the first column Y will contain interger values <br>\n",
    "b. the second column $Y_{score}$ will be having float values <br>\n",
    "Your task is to find the value of $f(Y,Y_{score}) = -1*\\frac{1}{n}\\Sigma_{for each Y,Y_{score} pair}(Ylog10(Y_{score})+(1-Y)log10(1-Y_{score}))$ here n is the number of rows in the matrix\n",
    "<pre>\n",
    "Ex:\n",
    "[[1, 0.4], [0, 0.5], [0, 0.9], [0, 0.3], [0, 0.6], [1, 0.1], [1, 0.9], [1, 0.8]]\n",
    "output:\n",
    "0.4243099\n",
    "</pre>\n",
    "$\\frac{-1}{8}\\cdot((1\\cdot log_{10}(0.4)+0\\cdot log_{10}(0.6))+(0\\cdot log_{10}(0.5)+1\\cdot log_{10}(0.5)) + ... + (1\\cdot log_{10}(0.8)+0\\cdot log_{10}(0.2)) )$"
   ]
  },
  {
   "cell_type": "code",
   "execution_count": 4,
   "metadata": {
    "colab": {},
    "colab_type": "code",
    "id": "N9zkagyNB-lJ"
   },
   "outputs": [
    {
     "name": "stdout",
     "output_type": "stream",
     "text": [
      "0.42430993457031635\n"
     ]
    }
   ],
   "source": [
    "import math\n",
    "\n",
    "# you can free to change all these codes/structure\n",
    "def compute_log_loss(A):\n",
    "\n",
    "    loss = 0\n",
    "    for i in range(len(A)):\n",
    "        y = A[i][0]\n",
    "        y_s = A[i][1]\n",
    "        loss += -(y*math.log10(y_s)+(1-y)*math.log10(1-y_s))/8\n",
    "    return loss\n",
    "    \n",
    "\n",
    "A = [[1, 0.4], [0, 0.5], [0, 0.9], [0, 0.3], [0, 0.6], [1, 0.1], [1, 0.9], [1, 0.8]]\n",
    "loss = compute_log_loss(A)\n",
    "print(loss)"
   ]
  },
  {
   "cell_type": "code",
   "execution_count": 10,
   "metadata": {},
   "outputs": [
    {
     "name": "stdout",
     "output_type": "stream",
     "text": [
      "[[], []]\n",
      "[[0.5, 0.6], [0.5, 0.6]]\n"
     ]
    }
   ],
   "source": [
    "# list within list cannot be extended by .extend().\n",
    "tt = [0.5,0.6]\n",
    "bb = [[]] * len(tt)\n",
    "print(bb)\n",
    "# extending every list within list instead index is mentioned.\n",
    "_ = bb[1].extend(tt)\n",
    "print(bb)"
   ]
  },
  {
   "cell_type": "code",
   "execution_count": 11,
   "metadata": {},
   "outputs": [
    {
     "name": "stdout",
     "output_type": "stream",
     "text": [
      "[[], []]\n",
      "[[0.25564, 0.24566], [0.95564, 0.94566]]\n"
     ]
    }
   ],
   "source": [
    "# correct way ==========================================\n",
    "tt = [0.5,0.6]\n",
    "bb = [[]] * len(tt)\n",
    "print(bb)\n",
    "bb[0] = bb[0] +[0.25564,0.24566]\n",
    "bb[1] = bb[1] +[0.95564,0.94566]\n",
    "print(bb)"
   ]
  },
  {
   "cell_type": "code",
   "execution_count": 72,
   "metadata": {},
   "outputs": [
    {
     "name": "stdout",
     "output_type": "stream",
     "text": [
      "3 and 5 are prime twins\n",
      "5 and 7 are prime twins\n",
      "11 and 13 are prime twins\n",
      "17 and 19 are prime twins\n",
      "29 and 31 are prime twins\n",
      "41 and 43 are prime twins\n",
      "59 and 61 are prime twins\n",
      "71 and 73 are prime twins\n"
     ]
    }
   ],
   "source": [
    "# program to print \"prime twins/pairs\" upto n.\n",
    "\n",
    "def prime_finder(n):\n",
    "    primes = []\n",
    "    for possibleprime in range(2, n + 1):\n",
    "        isprime = True\n",
    "        for num in range(2, possibleprime):\n",
    "            if possibleprime % num == 0:\n",
    "                isprime = False\n",
    "        if isprime:\n",
    "            primes.append(possibleprime)\n",
    "    return primes\n",
    "\n",
    "def twin_prime(n):\n",
    "    prime_list = prime_finder(n)\n",
    "    count = 0\n",
    "    for i in prime_list:\n",
    "        if i + 2 in prime_list:\n",
    "            print(\"{} and {} are prime twins\".format(i,i+2)) \n",
    "\n",
    "twin_prime(100)\n"
   ]
  },
  {
   "cell_type": "code",
   "execution_count": 8,
   "metadata": {},
   "outputs": [
    {
     "name": "stdout",
     "output_type": "stream",
     "text": [
      "Enter the value of x:48\n",
      "Enter the value of y:98\n",
      "Before swaping the value of x is 48 and y is 98\n",
      "After swaping the value of x is 98 and y is 48\n"
     ]
    }
   ],
   "source": [
    "#Write a program to swap two numbers using bitwise operator.\n",
    "#In bitwise operator 1 is converted to binary than x=0000\n",
    "\n",
    "x=int(input('Enter the value of x:'))\n",
    "y=int(input('Enter the value of y:'))\n",
    "print('Before swaping the value of x is {} and y is {}'.format(x,y))\n",
    "# bin(x) => 0b110000 (0b is binary code) => 48\n",
    "# bin(y) => 0b1100010 (0b is binary code) => 98\n",
    "x_ = x^y #in xor operation both are same it will gives zero , otherwise gives 1\n",
    "'''\n",
    "    0110000 (0 added before to 110000)\n",
    "    1100010\n",
    "=>  1010010\n",
    "'''\n",
    "# bin(x) => 0b1010010 (0b is binary code)\n",
    "\n",
    "y_f = x_^y\n",
    "# bin(y) => 0b110000 (0b is binary code)\n",
    "\n",
    "x_f = x_^y_f\n",
    "# bin(x) => 0b1100010 (0b is binary code)\n",
    "\n",
    "print('After swaping the value of x is {} and y is {}'.format(x_f, y_f))\n"
   ]
  },
  {
   "cell_type": "code",
   "execution_count": 13,
   "metadata": {},
   "outputs": [
    {
     "name": "stdout",
     "output_type": "stream",
     "text": [
      "Enter the character : 4\n",
      "4 is not Alphabetic\n",
      "Enter the Character:a\n",
      "a is Alphabetic\n"
     ]
    }
   ],
   "source": [
    "#check the Given string is Alphabet or not\n",
    "\n",
    "# using Conditional operator\n",
    "# ASCII 65-90 = Upper case(A-Z)\n",
    "# ASCII 97-122= lower case (a-z)\n",
    "# .ord(); function returns the number representing the unicode code of a specified character.\n",
    "char=input('Enter the character : ')\n",
    "if ord(char)>=65 and ord(char)<=90 or ord(char)>=97 and ord(char)<=122:\n",
    "    print(char,\"is Alphabetic\")\n",
    "else:\n",
    "    print(char,\"is not Alphabetic\")\n",
    "\n",
    "\n",
    "#using isalpha() function\n",
    "char=input('Enter the Character:')\n",
    "if char.isalpha():                                                      \n",
    "    print(char,\"is Alphabetic\")\n",
    "else:\n",
    "    print(char,\"is Not Alphabetic\")"
   ]
  },
  {
   "cell_type": "code",
   "execution_count": null,
   "metadata": {},
   "outputs": [],
   "source": []
  }
 ],
 "metadata": {
  "colab": {
   "collapsed_sections": [],
   "name": "1.Python Assignment.ipynb",
   "provenance": []
  },
  "kernelspec": {
   "display_name": "Python 3 (ipykernel)",
   "language": "python",
   "name": "python3"
  },
  "language_info": {
   "codemirror_mode": {
    "name": "ipython",
    "version": 3
   },
   "file_extension": ".py",
   "mimetype": "text/x-python",
   "name": "python",
   "nbconvert_exporter": "python",
   "pygments_lexer": "ipython3",
   "version": "3.7.12"
  }
 },
 "nbformat": 4,
 "nbformat_minor": 1
}
