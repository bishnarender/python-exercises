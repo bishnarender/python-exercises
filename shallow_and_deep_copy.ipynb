{
 "cells": [
  {
   "cell_type": "code",
   "execution_count": 49,
   "id": "57fd56c7",
   "metadata": {},
   "outputs": [],
   "source": [
    "import copy"
   ]
  },
  {
   "cell_type": "code",
   "execution_count": 50,
   "id": "feb5f4d5",
   "metadata": {},
   "outputs": [],
   "source": [
    "xs = [[1, 2, 3], [4, 5, 6], [7, 8, 9]]\n",
    "ys = list(xs)  # make a shallow copy\n",
    "# ys contains references to the child objects stored in xs.\n",
    "# when you modify one of the child objects in xs, this modification will be reflected in ys as well—that’s \n",
    "#         because both lists share the same child objects. The copy is only a \"shallow\"/\"one level deep\" copy."
   ]
  },
  {
   "cell_type": "code",
   "execution_count": 51,
   "id": "4afa128f",
   "metadata": {},
   "outputs": [
    {
     "name": "stdout",
     "output_type": "stream",
     "text": [
      "[[1, 2, 3], [4, 5, 6], [7, 8, 9]]\n",
      "[[1, 2, 3], [4, 5, 6], [7, 8, 9]]\n"
     ]
    }
   ],
   "source": [
    "print(xs)\n",
    "print(ys)"
   ]
  },
  {
   "cell_type": "code",
   "execution_count": 52,
   "id": "75843875",
   "metadata": {},
   "outputs": [
    {
     "name": "stdout",
     "output_type": "stream",
     "text": [
      "[[1, 2, 3], [4, 5, 6], [7, 8, 9], ['xy_0', 'xy_1']]\n",
      "[[1, 2, 3], [4, 5, 6], [7, 8, 9]]\n"
     ]
    }
   ],
   "source": [
    "# add a new sublist to the original (xs) and this didn’t affect the copy (ys).\n",
    "xs.append(['xy_0','xy_1'])\n",
    "print(xs)\n",
    "print(ys)"
   ]
  },
  {
   "cell_type": "code",
   "execution_count": 53,
   "id": "446f46ad",
   "metadata": {},
   "outputs": [
    {
     "name": "stdout",
     "output_type": "stream",
     "text": [
      "[[1, 2, 3], ['X', 5, 6], [7, 8, 9], ['xy_0', 'xy_2']]\n",
      "[[1, 2, 3], ['X', 5, 6], [7, 8, 9]]\n"
     ]
    }
   ],
   "source": [
    "xs[1][0] = 'X'\n",
    "xs[3][1] = 'xy_2'\n",
    "print(xs)\n",
    "print(ys)"
   ]
  },
  {
   "cell_type": "code",
   "execution_count": 54,
   "id": "cd3f82b1",
   "metadata": {},
   "outputs": [
    {
     "name": "stdout",
     "output_type": "stream",
     "text": [
      "[[1, 2, 3], ['Y', 5, 6], [7, 'Y_1', 9], ['xy_0', 'xy_2']]\n",
      "[[1, 2, 3], ['Y', 5, 6], [7, 'Y_1', 9], ['ys_0', 'ys_3']]\n"
     ]
    }
   ],
   "source": [
    "ys.append(['ys_0','ys_3'])\n",
    "ys[1][0] = 'Y'\n",
    "ys[2][1] = 'Y_1'\n",
    "print(xs)\n",
    "print(ys)"
   ]
  },
  {
   "cell_type": "code",
   "execution_count": null,
   "id": "7e4b7073",
   "metadata": {},
   "outputs": [],
   "source": []
  },
  {
   "cell_type": "code",
   "execution_count": 16,
   "id": "6dd5e132",
   "metadata": {},
   "outputs": [],
   "source": [
    "###################################################################\n",
    "xs = [[1, 2, 3], [4, 5, 6], [7, 8, 9]]\n",
    "ys = xs.copy()  # make a shallow copy - another method."
   ]
  },
  {
   "cell_type": "code",
   "execution_count": 17,
   "id": "9853580e",
   "metadata": {},
   "outputs": [
    {
     "name": "stdout",
     "output_type": "stream",
     "text": [
      "[[1, 2, 3], [4, 5, 6], [7, 8, 9]]\n",
      "[[1, 2, 3], [4, 5, 6], [7, 8, 9]]\n"
     ]
    }
   ],
   "source": [
    "print(xs)\n",
    "print(ys)"
   ]
  },
  {
   "cell_type": "code",
   "execution_count": 18,
   "id": "d407c25e",
   "metadata": {},
   "outputs": [
    {
     "name": "stdout",
     "output_type": "stream",
     "text": [
      "[[1, 2, 3], [4, 5, 6], [7, 8, 9], ['xy_0', 'xy_1']]\n",
      "[[1, 2, 3], [4, 5, 6], [7, 8, 9]]\n"
     ]
    }
   ],
   "source": [
    "# add a new sublist to the original (xs) and this didn’t affect the copy (ys).\n",
    "xs.append(['xy_0','xy_1'])\n",
    "print(xs)\n",
    "print(ys)"
   ]
  },
  {
   "cell_type": "code",
   "execution_count": 19,
   "id": "929e1d70",
   "metadata": {},
   "outputs": [
    {
     "name": "stdout",
     "output_type": "stream",
     "text": [
      "[[1, 2, 3], ['X', 5, 6], [7, 8, 9], ['xy_0', 'xy_2']]\n",
      "[[1, 2, 3], ['X', 5, 6], [7, 8, 9]]\n"
     ]
    }
   ],
   "source": [
    "xs[1][0] = 'X'\n",
    "xs[3][1] = 'xy_2'\n",
    "print(xs)\n",
    "print(ys)"
   ]
  },
  {
   "cell_type": "code",
   "execution_count": 20,
   "id": "b57e3847",
   "metadata": {},
   "outputs": [
    {
     "name": "stdout",
     "output_type": "stream",
     "text": [
      "[[1, 2, 3], ['Y', 5, 6], [7, 'Y_1', 9], ['xy_0', 'xy_2']]\n",
      "[[1, 2, 3], ['Y', 5, 6], [7, 'Y_1', 9], ['ys_0', 'ys_3']]\n"
     ]
    }
   ],
   "source": [
    "ys.append(['ys_0','ys_3'])\n",
    "ys[1][0] = 'Y'\n",
    "ys[2][1] = 'Y_1'\n",
    "print(xs)\n",
    "print(ys)"
   ]
  },
  {
   "cell_type": "code",
   "execution_count": 21,
   "id": "129b8f9d",
   "metadata": {},
   "outputs": [],
   "source": [
    "###################################################################\n",
    "xs = [[1, 2, 3], [4, 5, 6], [7, 8, 9]]\n",
    "ys = copy.copy(xs)  # make a shallow copy - another method."
   ]
  },
  {
   "cell_type": "code",
   "execution_count": 22,
   "id": "ab8451ec",
   "metadata": {},
   "outputs": [
    {
     "name": "stdout",
     "output_type": "stream",
     "text": [
      "[[1, 2, 3], [4, 5, 6], [7, 8, 9]]\n",
      "[[1, 2, 3], [4, 5, 6], [7, 8, 9]]\n"
     ]
    }
   ],
   "source": [
    "print(xs)\n",
    "print(ys)"
   ]
  },
  {
   "cell_type": "code",
   "execution_count": 23,
   "id": "f128ace3",
   "metadata": {},
   "outputs": [
    {
     "name": "stdout",
     "output_type": "stream",
     "text": [
      "[[1, 2, 3], [4, 5, 6], [7, 8, 9], ['xy_0', 'xy_1']]\n",
      "[[1, 2, 3], [4, 5, 6], [7, 8, 9]]\n"
     ]
    }
   ],
   "source": [
    "# add a new sublist to the original (xs) and this didn’t affect the copy (ys).\n",
    "xs.append(['xy_0','xy_1'])\n",
    "print(xs)\n",
    "print(ys)"
   ]
  },
  {
   "cell_type": "code",
   "execution_count": 24,
   "id": "80883c9a",
   "metadata": {},
   "outputs": [
    {
     "name": "stdout",
     "output_type": "stream",
     "text": [
      "[[1, 2, 3], ['X', 5, 6], [7, 8, 9], ['xy_0', 'xy_2']]\n",
      "[[1, 2, 3], ['X', 5, 6], [7, 8, 9]]\n"
     ]
    }
   ],
   "source": [
    "xs[1][0] = 'X'\n",
    "xs[3][1] = 'xy_2'\n",
    "print(xs)\n",
    "print(ys)"
   ]
  },
  {
   "cell_type": "code",
   "execution_count": 25,
   "id": "1b8a4228",
   "metadata": {},
   "outputs": [
    {
     "name": "stdout",
     "output_type": "stream",
     "text": [
      "[[1, 2, 3], ['Y', 5, 6], [7, 'Y_1', 9], ['xy_0', 'xy_2']]\n",
      "[[1, 2, 3], ['Y', 5, 6], [7, 'Y_1', 9], ['ys_0', 'ys_3']]\n"
     ]
    }
   ],
   "source": [
    "ys.append(['ys_0','ys_3'])\n",
    "ys[1][0] = 'Y'\n",
    "ys[2][1] = 'Y_1'\n",
    "print(xs)\n",
    "print(ys)"
   ]
  },
  {
   "cell_type": "code",
   "execution_count": 26,
   "id": "8fae8e09",
   "metadata": {},
   "outputs": [],
   "source": [
    "#########################################################################\n",
    "xs = [[1, 2, 3], [4, 5, 6], [7, 8, 9]]\n",
    "ys = copy.deepcopy(xs) # xs was cloned recursively, including all of its child objects."
   ]
  },
  {
   "cell_type": "code",
   "execution_count": 27,
   "id": "8a0c314d",
   "metadata": {},
   "outputs": [
    {
     "name": "stdout",
     "output_type": "stream",
     "text": [
      "[[1, 2, 3], [4, 5, 6], [7, 8, 9]]\n",
      "[[1, 2, 3], [4, 5, 6], [7, 8, 9]]\n"
     ]
    }
   ],
   "source": [
    "print(xs)\n",
    "print(ys)"
   ]
  },
  {
   "cell_type": "code",
   "execution_count": 28,
   "id": "c0590a41",
   "metadata": {},
   "outputs": [
    {
     "name": "stdout",
     "output_type": "stream",
     "text": [
      "[[1, 2, 3], [4, 5, 6], [7, 8, 9], ['xy_0', 'xy_1']]\n",
      "[[1, 2, 3], [4, 5, 6], [7, 8, 9]]\n"
     ]
    }
   ],
   "source": [
    "xs.append(['xy_0','xy_1'])\n",
    "print(xs)\n",
    "print(ys)"
   ]
  },
  {
   "cell_type": "code",
   "execution_count": 29,
   "id": "97c70058",
   "metadata": {},
   "outputs": [
    {
     "name": "stdout",
     "output_type": "stream",
     "text": [
      "[[1, 2, 3], ['X', 5, 6], [7, 8, 9], ['xy_0', 'xy_2']]\n",
      "[[1, 2, 3], [4, 5, 6], [7, 8, 9]]\n"
     ]
    }
   ],
   "source": [
    "xs[1][0] = 'X'\n",
    "xs[3][1] = 'xy_2'\n",
    "print(xs)\n",
    "print(ys)"
   ]
  },
  {
   "cell_type": "code",
   "execution_count": 30,
   "id": "1299edb4",
   "metadata": {},
   "outputs": [
    {
     "name": "stdout",
     "output_type": "stream",
     "text": [
      "[[1, 2, 3], ['X', 5, 6], [7, 8, 9], ['xy_0', 'xy_2']]\n",
      "[[1, 2, 3], ['Y', 5, 6], [7, 'Y_1', 9], ['ys_0', 'ys_3']]\n"
     ]
    }
   ],
   "source": [
    "ys.append(['ys_0','ys_3'])\n",
    "ys[1][0] = 'Y'\n",
    "ys[2][1] = 'Y_1'\n",
    "print(xs)\n",
    "print(ys)"
   ]
  },
  {
   "cell_type": "code",
   "execution_count": null,
   "id": "c244af7c",
   "metadata": {},
   "outputs": [],
   "source": []
  },
  {
   "cell_type": "code",
   "execution_count": 31,
   "id": "67741afe",
   "metadata": {},
   "outputs": [],
   "source": [
    "##################################################################3\n",
    "class Point:\n",
    "    def __init__(self, x, y):\n",
    "        self.x = x\n",
    "        self.y = y\n",
    "\n",
    "    def __repr__(self):\n",
    "        '''string representation. !r is used inside an f-string as a formatting specifier.\n",
    "        !r is used to apply the repr formatting option to the expressions self.x and self.y.        \n",
    "        \n",
    "        converting the value to a string before calling format(), the normal formatting logic is bypassed.\n",
    "        '!s' which calls str() on the value, '!r' which calls repr() and '!a' which calls ascii().\n",
    "        \n",
    "        repr() provides the official string representation of an object, aimed at the programmer.\n",
    "        str() provides the informal string representation of an object, aimed at the user.'''\n",
    "        return f'Point({self.x!r}, {self.y!r})'"
   ]
  },
  {
   "cell_type": "code",
   "execution_count": 32,
   "id": "2c45a7b4",
   "metadata": {},
   "outputs": [],
   "source": [
    "a = Point(23, 42)\n",
    "b = copy.copy(a) # make a shallow copy."
   ]
  },
  {
   "cell_type": "code",
   "execution_count": 33,
   "id": "5828b478",
   "metadata": {},
   "outputs": [
    {
     "name": "stdout",
     "output_type": "stream",
     "text": [
      "Point(23, 42), Point(23, 42), False\n"
     ]
    }
   ],
   "source": [
    "print(f\"{a},\", f\"{b},\", a is b)\n",
    "# because our point object uses immutable types (ints) for its coordinates, there’s no difference between a \n",
    "#                                                                      shallow and a deep copy in this case."
   ]
  },
  {
   "cell_type": "code",
   "execution_count": 34,
   "id": "b39f5086",
   "metadata": {},
   "outputs": [],
   "source": [
    "class Rectangle:\n",
    "    def __init__(self, topleft, bottomright):\n",
    "        self.topleft = topleft\n",
    "        self.bottomright = bottomright\n",
    "\n",
    "    def __repr__(self):\n",
    "        return (f'Rectangle({self.topleft!r}, 'f'{self.bottomright!r})')"
   ]
  },
  {
   "cell_type": "code",
   "execution_count": 35,
   "id": "54155681",
   "metadata": {},
   "outputs": [],
   "source": [
    "rect = Rectangle(Point(0, 1), Point(5, 6))\n",
    "srect = copy.copy(rect)"
   ]
  },
  {
   "cell_type": "code",
   "execution_count": 36,
   "id": "98471461",
   "metadata": {},
   "outputs": [
    {
     "name": "stdout",
     "output_type": "stream",
     "text": [
      "Rectangle(Point(0, 1), Point(5, 6)),\n",
      " Rectangle(Point(0, 1), Point(5, 6)),\n",
      " False\n"
     ]
    }
   ],
   "source": [
    "print(f\"{rect},\\n\", f\"{srect},\\n\", rect is srect)"
   ]
  },
  {
   "cell_type": "code",
   "execution_count": 37,
   "id": "989fce42",
   "metadata": {},
   "outputs": [
    {
     "name": "stdout",
     "output_type": "stream",
     "text": [
      "Rectangle(Point(999, 1), Point(5, 6)),\n",
      " Rectangle(Point(999, 1), Point(5, 6))\n"
     ]
    }
   ],
   "source": [
    "rect.topleft.x = 999\n",
    "print(f\"{rect},\\n\", f\"{srect}\")"
   ]
  },
  {
   "cell_type": "code",
   "execution_count": 38,
   "id": "277411c4",
   "metadata": {},
   "outputs": [
    {
     "name": "stdout",
     "output_type": "stream",
     "text": [
      "Rectangle(Point(222, 1), Point(5, 6)),\n",
      " Rectangle(Point(999, 1), Point(5, 6)),\n",
      " Rectangle(Point(999, 1), Point(5, 6))\n"
     ]
    }
   ],
   "source": [
    "drect = copy.deepcopy(srect)\n",
    "drect.topleft.x = 222\n",
    "print(f\"{drect},\\n\",f\"{rect},\\n\", f\"{srect}\")"
   ]
  },
  {
   "cell_type": "code",
   "execution_count": 39,
   "id": "17139f13",
   "metadata": {},
   "outputs": [
    {
     "data": {
      "text/plain": [
       "[[1, 2, 3], [4, 5, 6]]"
      ]
     },
     "execution_count": 39,
     "metadata": {},
     "output_type": "execute_result"
    }
   ],
   "source": [
    "##########################################################################\n",
    "a = [1, 2, 3]\n",
    "b = [4, 5, 6]\n",
    "c = [a, b]\n",
    "c"
   ]
  },
  {
   "cell_type": "code",
   "execution_count": 40,
   "id": "421cf510",
   "metadata": {},
   "outputs": [
    {
     "data": {
      "text/plain": [
       "140253164671232"
      ]
     },
     "execution_count": 40,
     "metadata": {},
     "output_type": "execute_result"
    }
   ],
   "source": [
    "# id() => Return the “identity” of an object. This is an integer which is guaranteed to be unique and constant \n",
    "#         for this object during its lifetime. \n",
    "#         Two objects with non-overlapping lifetimes may have the same id() value. This means that as long as an \n",
    "#         object exists in memory, its id() value will remain the same.\n",
    "\n",
    "id(c)"
   ]
  },
  {
   "cell_type": "code",
   "execution_count": 41,
   "id": "e4992ca9",
   "metadata": {},
   "outputs": [
    {
     "name": "stdout",
     "output_type": "stream",
     "text": [
      "True\n",
      "True\n"
     ]
    }
   ],
   "source": [
    "d = c\n",
    "print(id(c) == id(d))          # True - d is the same object as c\n",
    "print(id(c[0]) == id(d[0]))    # True - d[0] is the same object as c[0]"
   ]
  },
  {
   "cell_type": "code",
   "execution_count": 42,
   "id": "515a2c9d",
   "metadata": {},
   "outputs": [
    {
     "name": "stdout",
     "output_type": "stream",
     "text": [
      "False\n",
      "True\n"
     ]
    }
   ],
   "source": [
    "d = copy.copy(c)\n",
    "print(id(c) == id(d))          # False - d is now a new object\n",
    "print(id(c[0]) == id(d[0]))    # True - d[0] is the same object as c[0]"
   ]
  },
  {
   "cell_type": "code",
   "execution_count": 43,
   "id": "ab229c60",
   "metadata": {},
   "outputs": [
    {
     "name": "stdout",
     "output_type": "stream",
     "text": [
      "False\n",
      "False\n"
     ]
    }
   ],
   "source": [
    "d = copy.deepcopy(c)\n",
    "print(id(c) == id(d))          # False - d is now a new object\n",
    "print(id(c[0]) == id(d[0]))    # False - d[0] is now a new object"
   ]
  },
  {
   "cell_type": "code",
   "execution_count": null,
   "id": "0d61837a",
   "metadata": {},
   "outputs": [],
   "source": []
  },
  {
   "cell_type": "code",
   "execution_count": 44,
   "id": "adc179ef",
   "metadata": {},
   "outputs": [],
   "source": [
    "###################################################################\n",
    "xs = [[1, 2, 3], [4, 5, 6], [7, 8, 9]]\n",
    "ys = xs  # simple assignment."
   ]
  },
  {
   "cell_type": "code",
   "execution_count": 45,
   "id": "facdd4ea",
   "metadata": {},
   "outputs": [
    {
     "name": "stdout",
     "output_type": "stream",
     "text": [
      "[[1, 2, 3], [4, 5, 6], [7, 8, 9]]\n",
      "[[1, 2, 3], [4, 5, 6], [7, 8, 9]]\n"
     ]
    }
   ],
   "source": [
    "print(xs)\n",
    "print(ys)"
   ]
  },
  {
   "cell_type": "code",
   "execution_count": 46,
   "id": "bf07b083",
   "metadata": {},
   "outputs": [
    {
     "name": "stdout",
     "output_type": "stream",
     "text": [
      "[[1, 2, 3], [4, 5, 6], [7, 8, 9], ['xy_0', 'xy_1']]\n",
      "[[1, 2, 3], [4, 5, 6], [7, 8, 9], ['xy_0', 'xy_1']]\n"
     ]
    }
   ],
   "source": [
    "# add a new sublist to the original (xs) and this didn’t affect the copy (ys).\n",
    "xs.append(['xy_0','xy_1'])\n",
    "print(xs)\n",
    "print(ys)"
   ]
  },
  {
   "cell_type": "code",
   "execution_count": 47,
   "id": "6c4ecd7b",
   "metadata": {},
   "outputs": [
    {
     "name": "stdout",
     "output_type": "stream",
     "text": [
      "[[1, 2, 3], ['X', 5, 6], [7, 8, 9], ['xy_0', 'xy_2']]\n",
      "[[1, 2, 3], ['X', 5, 6], [7, 8, 9], ['xy_0', 'xy_2']]\n"
     ]
    }
   ],
   "source": [
    "xs[1][0] = 'X'\n",
    "xs[3][1] = 'xy_2'\n",
    "print(xs)\n",
    "print(ys)"
   ]
  },
  {
   "cell_type": "code",
   "execution_count": 48,
   "id": "4b38e67c",
   "metadata": {},
   "outputs": [
    {
     "name": "stdout",
     "output_type": "stream",
     "text": [
      "[[1, 2, 3], ['Y', 5, 6], [7, 8, 9], ['xy_0', 'Y_1'], ['ys_0', 'ys_3']]\n",
      "[[1, 2, 3], ['Y', 5, 6], [7, 8, 9], ['xy_0', 'Y_1'], ['ys_0', 'ys_3']]\n"
     ]
    }
   ],
   "source": [
    "ys.append(['ys_0','ys_3'])\n",
    "ys[1][0] = 'Y'\n",
    "ys[3][1] = 'Y_1'\n",
    "print(xs)\n",
    "print(ys)"
   ]
  },
  {
   "cell_type": "code",
   "execution_count": null,
   "id": "aa5ce3ce",
   "metadata": {},
   "outputs": [],
   "source": []
  }
 ],
 "metadata": {
  "kernelspec": {
   "display_name": "Python 3 (ipykernel)",
   "language": "python",
   "name": "python3"
  },
  "language_info": {
   "codemirror_mode": {
    "name": "ipython",
    "version": 3
   },
   "file_extension": ".py",
   "mimetype": "text/x-python",
   "name": "python",
   "nbconvert_exporter": "python",
   "pygments_lexer": "ipython3",
   "version": "3.8.17"
  }
 },
 "nbformat": 4,
 "nbformat_minor": 5
}
